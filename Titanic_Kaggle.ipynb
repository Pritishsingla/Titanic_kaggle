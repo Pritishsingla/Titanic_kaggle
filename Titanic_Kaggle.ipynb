{
  "nbformat": 4,
  "nbformat_minor": 0,
  "metadata": {
    "colab": {
      "name": "Titanic_Kaggle.ipynb",
      "version": "0.3.2",
      "provenance": [],
      "toc_visible": true,
      "include_colab_link": true
    },
    "kernelspec": {
      "name": "python3",
      "display_name": "Python 3"
    }
  },
  "cells": [
    {
      "cell_type": "markdown",
      "metadata": {
        "id": "view-in-github",
        "colab_type": "text"
      },
      "source": [
        "<a href=\"https://colab.research.google.com/github/Pritishsingla/Titanic_kaggle/blob/master/Titanic_Kaggle.ipynb\" target=\"_parent\"><img src=\"https://colab.research.google.com/assets/colab-badge.svg\" alt=\"Open In Colab\"/></a>"
      ]
    },
    {
      "metadata": {
        "id": "KAd3li1bX_HW",
        "colab_type": "code",
        "colab": {}
      },
      "cell_type": "code",
      "source": [
        "import pandas as pd\n",
        "import numpy as np\n",
        "import time\n",
        "import matplotlib.pyplot as plt\n",
        "import tqdm\n",
        "import sklearn\n",
        "import datetime\n",
        "import pickle as pkl\n",
        "import random\n",
        "import regex as re\n",
        "%matplotlib inline"
      ],
      "execution_count": 0,
      "outputs": []
    },
    {
      "metadata": {
        "id": "wBwMHn0laOlp",
        "colab_type": "text"
      },
      "cell_type": "markdown",
      "source": [
        "# Loading Data"
      ]
    },
    {
      "metadata": {
        "id": "4qeevEHIYUqq",
        "colab_type": "code",
        "outputId": "e1b04a2a-515e-4d39-c99e-6596a2594800",
        "colab": {
          "base_uri": "https://localhost:8080/",
          "height": 246
        }
      },
      "cell_type": "code",
      "source": [
        "train = pd.read_csv('train.csv')\n",
        "test = pd.read_csv('test.csv')\n",
        "print(train.shape, test.shape)\n",
        "train.head()"
      ],
      "execution_count": 0,
      "outputs": [
        {
          "output_type": "stream",
          "text": [
            "(891, 12) (418, 11)\n"
          ],
          "name": "stdout"
        },
        {
          "output_type": "execute_result",
          "data": {
            "text/html": [
              "<div>\n",
              "<style scoped>\n",
              "    .dataframe tbody tr th:only-of-type {\n",
              "        vertical-align: middle;\n",
              "    }\n",
              "\n",
              "    .dataframe tbody tr th {\n",
              "        vertical-align: top;\n",
              "    }\n",
              "\n",
              "    .dataframe thead th {\n",
              "        text-align: right;\n",
              "    }\n",
              "</style>\n",
              "<table border=\"1\" class=\"dataframe\">\n",
              "  <thead>\n",
              "    <tr style=\"text-align: right;\">\n",
              "      <th></th>\n",
              "      <th>PassengerId</th>\n",
              "      <th>Survived</th>\n",
              "      <th>Pclass</th>\n",
              "      <th>Name</th>\n",
              "      <th>Sex</th>\n",
              "      <th>Age</th>\n",
              "      <th>SibSp</th>\n",
              "      <th>Parch</th>\n",
              "      <th>Ticket</th>\n",
              "      <th>Fare</th>\n",
              "      <th>Cabin</th>\n",
              "      <th>Embarked</th>\n",
              "    </tr>\n",
              "  </thead>\n",
              "  <tbody>\n",
              "    <tr>\n",
              "      <th>0</th>\n",
              "      <td>1</td>\n",
              "      <td>0</td>\n",
              "      <td>3</td>\n",
              "      <td>Braund, Mr. Owen Harris</td>\n",
              "      <td>male</td>\n",
              "      <td>22.0</td>\n",
              "      <td>1</td>\n",
              "      <td>0</td>\n",
              "      <td>A/5 21171</td>\n",
              "      <td>7.2500</td>\n",
              "      <td>NaN</td>\n",
              "      <td>S</td>\n",
              "    </tr>\n",
              "    <tr>\n",
              "      <th>1</th>\n",
              "      <td>2</td>\n",
              "      <td>1</td>\n",
              "      <td>1</td>\n",
              "      <td>Cumings, Mrs. John Bradley (Florence Briggs Th...</td>\n",
              "      <td>female</td>\n",
              "      <td>38.0</td>\n",
              "      <td>1</td>\n",
              "      <td>0</td>\n",
              "      <td>PC 17599</td>\n",
              "      <td>71.2833</td>\n",
              "      <td>C85</td>\n",
              "      <td>C</td>\n",
              "    </tr>\n",
              "    <tr>\n",
              "      <th>2</th>\n",
              "      <td>3</td>\n",
              "      <td>1</td>\n",
              "      <td>3</td>\n",
              "      <td>Heikkinen, Miss. Laina</td>\n",
              "      <td>female</td>\n",
              "      <td>26.0</td>\n",
              "      <td>0</td>\n",
              "      <td>0</td>\n",
              "      <td>STON/O2. 3101282</td>\n",
              "      <td>7.9250</td>\n",
              "      <td>NaN</td>\n",
              "      <td>S</td>\n",
              "    </tr>\n",
              "    <tr>\n",
              "      <th>3</th>\n",
              "      <td>4</td>\n",
              "      <td>1</td>\n",
              "      <td>1</td>\n",
              "      <td>Futrelle, Mrs. Jacques Heath (Lily May Peel)</td>\n",
              "      <td>female</td>\n",
              "      <td>35.0</td>\n",
              "      <td>1</td>\n",
              "      <td>0</td>\n",
              "      <td>113803</td>\n",
              "      <td>53.1000</td>\n",
              "      <td>C123</td>\n",
              "      <td>S</td>\n",
              "    </tr>\n",
              "    <tr>\n",
              "      <th>4</th>\n",
              "      <td>5</td>\n",
              "      <td>0</td>\n",
              "      <td>3</td>\n",
              "      <td>Allen, Mr. William Henry</td>\n",
              "      <td>male</td>\n",
              "      <td>35.0</td>\n",
              "      <td>0</td>\n",
              "      <td>0</td>\n",
              "      <td>373450</td>\n",
              "      <td>8.0500</td>\n",
              "      <td>NaN</td>\n",
              "      <td>S</td>\n",
              "    </tr>\n",
              "  </tbody>\n",
              "</table>\n",
              "</div>"
            ],
            "text/plain": [
              "   PassengerId  Survived  Pclass  \\\n",
              "0            1         0       3   \n",
              "1            2         1       1   \n",
              "2            3         1       3   \n",
              "3            4         1       1   \n",
              "4            5         0       3   \n",
              "\n",
              "                                                Name     Sex   Age  SibSp  \\\n",
              "0                            Braund, Mr. Owen Harris    male  22.0      1   \n",
              "1  Cumings, Mrs. John Bradley (Florence Briggs Th...  female  38.0      1   \n",
              "2                             Heikkinen, Miss. Laina  female  26.0      0   \n",
              "3       Futrelle, Mrs. Jacques Heath (Lily May Peel)  female  35.0      1   \n",
              "4                           Allen, Mr. William Henry    male  35.0      0   \n",
              "\n",
              "   Parch            Ticket     Fare Cabin Embarked  \n",
              "0      0         A/5 21171   7.2500   NaN        S  \n",
              "1      0          PC 17599  71.2833   C85        C  \n",
              "2      0  STON/O2. 3101282   7.9250   NaN        S  \n",
              "3      0            113803  53.1000  C123        S  \n",
              "4      0            373450   8.0500   NaN        S  "
            ]
          },
          "metadata": {
            "tags": []
          },
          "execution_count": 2
        }
      ]
    },
    {
      "metadata": {
        "id": "J-pgHeBCaUVo",
        "colab_type": "text"
      },
      "cell_type": "markdown",
      "source": [
        "# Data Exploration"
      ]
    },
    {
      "metadata": {
        "id": "uk53Y9fYYgIs",
        "colab_type": "code",
        "outputId": "0a8e9bc7-8590-40f3-c486-f8e6e6d7e999",
        "colab": {
          "base_uri": "https://localhost:8080/",
          "height": 235
        }
      },
      "cell_type": "code",
      "source": [
        "train.dtypes"
      ],
      "execution_count": 0,
      "outputs": [
        {
          "output_type": "execute_result",
          "data": {
            "text/plain": [
              "PassengerId      int64\n",
              "Survived         int64\n",
              "Pclass           int64\n",
              "Name            object\n",
              "Sex             object\n",
              "Age            float64\n",
              "SibSp            int64\n",
              "Parch            int64\n",
              "Ticket          object\n",
              "Fare           float64\n",
              "Cabin           object\n",
              "Embarked        object\n",
              "dtype: object"
            ]
          },
          "metadata": {
            "tags": []
          },
          "execution_count": 3
        }
      ]
    },
    {
      "metadata": {
        "id": "yFJMLkZ3YkpK",
        "colab_type": "code",
        "outputId": "97f2a776-2d68-41b8-cdb5-e7dc2f31a9aa",
        "colab": {
          "base_uri": "https://localhost:8080/",
          "height": 235
        }
      },
      "cell_type": "code",
      "source": [
        "train.count()"
      ],
      "execution_count": 0,
      "outputs": [
        {
          "output_type": "execute_result",
          "data": {
            "text/plain": [
              "PassengerId    891\n",
              "Survived       891\n",
              "Pclass         891\n",
              "Name           891\n",
              "Sex            891\n",
              "Age            714\n",
              "SibSp          891\n",
              "Parch          891\n",
              "Ticket         891\n",
              "Fare           891\n",
              "Cabin          204\n",
              "Embarked       889\n",
              "dtype: int64"
            ]
          },
          "metadata": {
            "tags": []
          },
          "execution_count": 4
        }
      ]
    },
    {
      "metadata": {
        "id": "ch1SshveYnh5",
        "colab_type": "code",
        "outputId": "6ea318c8-59e0-45cb-c49f-84503f21d3cd",
        "colab": {
          "base_uri": "https://localhost:8080/",
          "height": 136
        }
      },
      "cell_type": "code",
      "source": [
        "train = train.set_index('PassengerId')\n",
        "train.head(2)"
      ],
      "execution_count": 0,
      "outputs": [
        {
          "output_type": "execute_result",
          "data": {
            "text/html": [
              "<div>\n",
              "<style scoped>\n",
              "    .dataframe tbody tr th:only-of-type {\n",
              "        vertical-align: middle;\n",
              "    }\n",
              "\n",
              "    .dataframe tbody tr th {\n",
              "        vertical-align: top;\n",
              "    }\n",
              "\n",
              "    .dataframe thead th {\n",
              "        text-align: right;\n",
              "    }\n",
              "</style>\n",
              "<table border=\"1\" class=\"dataframe\">\n",
              "  <thead>\n",
              "    <tr style=\"text-align: right;\">\n",
              "      <th></th>\n",
              "      <th>Survived</th>\n",
              "      <th>Pclass</th>\n",
              "      <th>Name</th>\n",
              "      <th>Sex</th>\n",
              "      <th>Age</th>\n",
              "      <th>SibSp</th>\n",
              "      <th>Parch</th>\n",
              "      <th>Ticket</th>\n",
              "      <th>Fare</th>\n",
              "      <th>Cabin</th>\n",
              "      <th>Embarked</th>\n",
              "    </tr>\n",
              "    <tr>\n",
              "      <th>PassengerId</th>\n",
              "      <th></th>\n",
              "      <th></th>\n",
              "      <th></th>\n",
              "      <th></th>\n",
              "      <th></th>\n",
              "      <th></th>\n",
              "      <th></th>\n",
              "      <th></th>\n",
              "      <th></th>\n",
              "      <th></th>\n",
              "      <th></th>\n",
              "    </tr>\n",
              "  </thead>\n",
              "  <tbody>\n",
              "    <tr>\n",
              "      <th>1</th>\n",
              "      <td>0</td>\n",
              "      <td>3</td>\n",
              "      <td>Braund, Mr. Owen Harris</td>\n",
              "      <td>male</td>\n",
              "      <td>22.0</td>\n",
              "      <td>1</td>\n",
              "      <td>0</td>\n",
              "      <td>A/5 21171</td>\n",
              "      <td>7.2500</td>\n",
              "      <td>NaN</td>\n",
              "      <td>S</td>\n",
              "    </tr>\n",
              "    <tr>\n",
              "      <th>2</th>\n",
              "      <td>1</td>\n",
              "      <td>1</td>\n",
              "      <td>Cumings, Mrs. John Bradley (Florence Briggs Th...</td>\n",
              "      <td>female</td>\n",
              "      <td>38.0</td>\n",
              "      <td>1</td>\n",
              "      <td>0</td>\n",
              "      <td>PC 17599</td>\n",
              "      <td>71.2833</td>\n",
              "      <td>C85</td>\n",
              "      <td>C</td>\n",
              "    </tr>\n",
              "  </tbody>\n",
              "</table>\n",
              "</div>"
            ],
            "text/plain": [
              "             Survived  Pclass  \\\n",
              "PassengerId                     \n",
              "1                   0       3   \n",
              "2                   1       1   \n",
              "\n",
              "                                                          Name     Sex   Age  \\\n",
              "PassengerId                                                                    \n",
              "1                                      Braund, Mr. Owen Harris    male  22.0   \n",
              "2            Cumings, Mrs. John Bradley (Florence Briggs Th...  female  38.0   \n",
              "\n",
              "             SibSp  Parch     Ticket     Fare Cabin Embarked  \n",
              "PassengerId                                                   \n",
              "1                1      0  A/5 21171   7.2500   NaN        S  \n",
              "2                1      0   PC 17599  71.2833   C85        C  "
            ]
          },
          "metadata": {
            "tags": []
          },
          "execution_count": 5
        }
      ]
    },
    {
      "metadata": {
        "id": "FrqgQDBQY0r8",
        "colab_type": "code",
        "outputId": "910f61e7-6dba-4819-fd3f-965d858fbe85",
        "colab": {
          "base_uri": "https://localhost:8080/",
          "height": 292
        }
      },
      "cell_type": "code",
      "source": [
        "train.groupby(['Pclass']).agg('mean')['Survived'].plot(kind='bar', color='k')"
      ],
      "execution_count": 0,
      "outputs": [
        {
          "output_type": "execute_result",
          "data": {
            "text/plain": [
              "<matplotlib.axes._subplots.AxesSubplot at 0x7fb15e812c18>"
            ]
          },
          "metadata": {
            "tags": []
          },
          "execution_count": 6
        },
        {
          "output_type": "display_data",
          "data": {
            "image/png": "[encoded data removed]",
            "text/plain": [
              "<matplotlib.figure.Figure at 0x7fb15e8123c8>"
            ]
          },
          "metadata": {
            "tags": []
          }
        }
      ]
    },
    {
      "metadata": {
        "id": "huH9cWn1ZLig",
        "colab_type": "code",
        "outputId": "0409d0dd-239e-4ae1-dde2-5af1f57d7c3a",
        "colab": {
          "base_uri": "https://localhost:8080/",
          "height": 316
        }
      },
      "cell_type": "code",
      "source": [
        "train.groupby(['Sex']).agg('mean')['Survived'].plot(kind='bar', color='k')"
      ],
      "execution_count": 0,
      "outputs": [
        {
          "output_type": "execute_result",
          "data": {
            "text/plain": [
              "<matplotlib.axes._subplots.AxesSubplot at 0x7fb15e812908>"
            ]
          },
          "metadata": {
            "tags": []
          },
          "execution_count": 7
        },
        {
          "output_type": "display_data",
          "data": {
            "image/png": "[encoded data removed]",
            "text/plain": [
              "<matplotlib.figure.Figure at 0x7fb15e7f3e48>"
            ]
          },
          "metadata": {
            "tags": []
          }
        }
      ]
    },
    {
      "metadata": {
        "id": "obaLAbrOZtXy",
        "colab_type": "code",
        "outputId": "28c49791-c07c-4374-8bc0-8d071cb962c2",
        "colab": {
          "base_uri": "https://localhost:8080/",
          "height": 410
        }
      },
      "cell_type": "code",
      "source": [
        "train.groupby('SibSp').agg('mean')['Survived'].plot(kind='bar', color='k')\n",
        "train.SibSp.value_counts()"
      ],
      "execution_count": 0,
      "outputs": [
        {
          "output_type": "execute_result",
          "data": {
            "text/plain": [
              "0    608\n",
              "1    209\n",
              "2     28\n",
              "4     18\n",
              "3     16\n",
              "8      7\n",
              "5      5\n",
              "Name: SibSp, dtype: int64"
            ]
          },
          "metadata": {
            "tags": []
          },
          "execution_count": 8
        },
        {
          "output_type": "display_data",
          "data": {
            "image/png": "[encoded data removed]",
            "text/plain": [
              "<matplotlib.figure.Figure at 0x7fb15becc3c8>"
            ]
          },
          "metadata": {
            "tags": []
          }
        }
      ]
    },
    {
      "metadata": {
        "id": "hS6FqMkOaVyW",
        "colab_type": "code",
        "outputId": "470c862a-1684-49de-d06b-091bab948ef0",
        "colab": {
          "base_uri": "https://localhost:8080/",
          "height": 410
        }
      },
      "cell_type": "code",
      "source": [
        "train.groupby('Parch').agg('mean')['Survived'].plot(kind='bar', color='k')\n",
        "train.Parch.value_counts()# group values"
      ],
      "execution_count": 0,
      "outputs": [
        {
          "output_type": "execute_result",
          "data": {
            "text/plain": [
              "0    678\n",
              "1    118\n",
              "2     80\n",
              "5      5\n",
              "3      5\n",
              "4      4\n",
              "6      1\n",
              "Name: Parch, dtype: int64"
            ]
          },
          "metadata": {
            "tags": []
          },
          "execution_count": 9
        },
        {
          "output_type": "display_data",
          "data": {
            "image/png": "[encoded data removed]",
            "text/plain": [
              "<matplotlib.figure.Figure at 0x7fb15bf05e48>"
            ]
          },
          "metadata": {
            "tags": []
          }
        }
      ]
    },
    {
      "metadata": {
        "id": "aWfDUYYoa4dx",
        "colab_type": "code",
        "outputId": "f7db5572-2e9c-4b7a-8cab-6b67ca7db22b",
        "colab": {
          "base_uri": "https://localhost:8080/",
          "height": 294
        }
      },
      "cell_type": "code",
      "source": [
        "train.groupby('Embarked').agg('mean')['Survived'].plot(kind='bar', color='k')"
      ],
      "execution_count": 0,
      "outputs": [
        {
          "output_type": "execute_result",
          "data": {
            "text/plain": [
              "<matplotlib.axes._subplots.AxesSubplot at 0x7fb15be30160>"
            ]
          },
          "metadata": {
            "tags": []
          },
          "execution_count": 10
        },
        {
          "output_type": "display_data",
          "data": {
            "image/png": "[encoded data removed]",
            "text/plain": [
              "<matplotlib.figure.Figure at 0x7fb15f2a27b8>"
            ]
          },
          "metadata": {
            "tags": []
          }
        }
      ]
    },
    {
      "metadata": {
        "id": "10azE618bXbE",
        "colab_type": "code",
        "outputId": "b0b5dca2-e902-4729-c73e-7059a12d8f88",
        "colab": {
          "base_uri": "https://localhost:8080/",
          "height": 286
        }
      },
      "cell_type": "code",
      "source": [
        "train['Fare_bin'] = pd.qcut(train['Fare'], q=10, labels=range(1, 10+1))\n",
        "train.groupby('Fare_bin').agg('mean')['Survived'].plot()"
      ],
      "execution_count": 0,
      "outputs": [
        {
          "output_type": "execute_result",
          "data": {
            "text/plain": [
              "<matplotlib.axes._subplots.AxesSubplot at 0x7fb15bd915f8>"
            ]
          },
          "metadata": {
            "tags": []
          },
          "execution_count": 11
        },
        {
          "output_type": "display_data",
          "data": {
            "image/png": "[encoded data removed]",
            "text/plain": [
              "<matplotlib.figure.Figure at 0x7fb15bd9d828>"
            ]
          },
          "metadata": {
            "tags": []
          }
        }
      ]
    },
    {
      "metadata": {
        "id": "kc25AYpEbdb8",
        "colab_type": "code",
        "outputId": "bf568e2a-f8b9-4fc3-cc80-9fad5607cf4c",
        "colab": {
          "base_uri": "https://localhost:8080/",
          "height": 274
        }
      },
      "cell_type": "code",
      "source": [
        "train['Age_bin'] = pd.qcut(train['Age'], q=10, labels=range(1,11))\n",
        "train.groupby('Age_bin').agg('mean')['Survived'].plot()\n",
        "train['Child_ind'] = train['Age'] <14.0"
      ],
      "execution_count": 0,
      "outputs": [
        {
          "output_type": "display_data",
          "data": {
            "image/png": "[encoded data removed]",
            "text/plain": [
              "<matplotlib.figure.Figure at 0x7fb15bdc6550>"
            ]
          },
          "metadata": {
            "tags": []
          }
        }
      ]
    },
    {
      "metadata": {
        "id": "FfVA1C0sc0W9",
        "colab_type": "code",
        "outputId": "b321ea76-c521-4393-e396-e7a9e7dc6d9a",
        "colab": {
          "base_uri": "https://localhost:8080/",
          "height": 445
        }
      },
      "cell_type": "code",
      "source": [
        "train['Cabin_2'] = train['Cabin'].apply(lambda x: x[0] if type(x)==str else 0)\n",
        "train.groupby('Cabin_2').agg('mean')['Survived'].plot(kind='bar', color='k')\n",
        "\n",
        "train.Cabin_2.value_counts()"
      ],
      "execution_count": 0,
      "outputs": [
        {
          "output_type": "execute_result",
          "data": {
            "text/plain": [
              "0    687\n",
              "C     59\n",
              "B     47\n",
              "D     33\n",
              "E     32\n",
              "A     15\n",
              "F     13\n",
              "G      4\n",
              "T      1\n",
              "Name: Cabin_2, dtype: int64"
            ]
          },
          "metadata": {
            "tags": []
          },
          "execution_count": 13
        },
        {
          "output_type": "display_data",
          "data": {
            "image/png": "[encoded data removed]",
            "text/plain": [
              "<matplotlib.figure.Figure at 0x7fb15bd536d8>"
            ]
          },
          "metadata": {
            "tags": []
          }
        }
      ]
    },
    {
      "metadata": {
        "id": "IfssTq6AdSP8",
        "colab_type": "code",
        "outputId": "1ed0c824-2825-421d-dfec-390f417b91ca",
        "colab": {
          "base_uri": "https://localhost:8080/",
          "height": 84
        }
      },
      "cell_type": "code",
      "source": [
        "train['Cabin_2'] = train['Cabin_2'].apply(lambda x: x if x not in ['F', 'G', 'T'] else 'Other')\n",
        "train['Surname'] = train['Name'].apply(lambda x: x.split(',')[0])\n",
        "train['Salutation'] = train['Name'].apply(lambda x: x.split(',')[1].split('.')[0][1:])\n",
        "train[[ 'Name', 'Surname', 'Salutation']].head()\n",
        "train.columns"
      ],
      "execution_count": 0,
      "outputs": [
        {
          "output_type": "execute_result",
          "data": {
            "text/plain": [
              "Index(['Survived', 'Pclass', 'Name', 'Sex', 'Age', 'SibSp', 'Parch', 'Ticket',\n",
              "       'Fare', 'Cabin', 'Embarked', 'Fare_bin', 'Age_bin', 'Child_ind',\n",
              "       'Cabin_2', 'Surname', 'Salutation'],\n",
              "      dtype='object')"
            ]
          },
          "metadata": {
            "tags": []
          },
          "execution_count": 14
        }
      ]
    },
    {
      "metadata": {
        "id": "lcLC2xDffh9p",
        "colab_type": "code",
        "outputId": "c3e500bc-e673-4cb8-a64a-cc2e59855a6d",
        "colab": {
          "base_uri": "https://localhost:8080/",
          "height": 166
        }
      },
      "cell_type": "code",
      "source": [
        "train['Salutation'].value_counts()\n",
        "train['Salutation'] = train['Salutation'].apply(lambda x: x if x in ['Mr', 'Miss', 'Master', 'Mrs'] else 'Other' )\n",
        "\n",
        "train['Name_len'] = train.Name.apply(lambda x: len(x.split(' '))-1)\n",
        "\n",
        "train['Nickname'] = train['Name'].apply(lambda x : 1 if '(' in x else 0)\n",
        "train[['Name', 'Name_len', 'Nickname']].head(3)"
      ],
      "execution_count": 0,
      "outputs": [
        {
          "output_type": "execute_result",
          "data": {
            "text/html": [
              "<div>\n",
              "<style scoped>\n",
              "    .dataframe tbody tr th:only-of-type {\n",
              "        vertical-align: middle;\n",
              "    }\n",
              "\n",
              "    .dataframe tbody tr th {\n",
              "        vertical-align: top;\n",
              "    }\n",
              "\n",
              "    .dataframe thead th {\n",
              "        text-align: right;\n",
              "    }\n",
              "</style>\n",
              "<table border=\"1\" class=\"dataframe\">\n",
              "  <thead>\n",
              "    <tr style=\"text-align: right;\">\n",
              "      <th></th>\n",
              "      <th>Name</th>\n",
              "      <th>Name_len</th>\n",
              "      <th>Nickname</th>\n",
              "    </tr>\n",
              "    <tr>\n",
              "      <th>PassengerId</th>\n",
              "      <th></th>\n",
              "      <th></th>\n",
              "      <th></th>\n",
              "    </tr>\n",
              "  </thead>\n",
              "  <tbody>\n",
              "    <tr>\n",
              "      <th>1</th>\n",
              "      <td>Braund, Mr. Owen Harris</td>\n",
              "      <td>3</td>\n",
              "      <td>0</td>\n",
              "    </tr>\n",
              "    <tr>\n",
              "      <th>2</th>\n",
              "      <td>Cumings, Mrs. John Bradley (Florence Briggs Th...</td>\n",
              "      <td>6</td>\n",
              "      <td>1</td>\n",
              "    </tr>\n",
              "    <tr>\n",
              "      <th>3</th>\n",
              "      <td>Heikkinen, Miss. Laina</td>\n",
              "      <td>2</td>\n",
              "      <td>0</td>\n",
              "    </tr>\n",
              "  </tbody>\n",
              "</table>\n",
              "</div>"
            ],
            "text/plain": [
              "                                                          Name  Name_len  \\\n",
              "PassengerId                                                                \n",
              "1                                      Braund, Mr. Owen Harris         3   \n",
              "2            Cumings, Mrs. John Bradley (Florence Briggs Th...         6   \n",
              "3                                       Heikkinen, Miss. Laina         2   \n",
              "\n",
              "             Nickname  \n",
              "PassengerId            \n",
              "1                   0  \n",
              "2                   1  \n",
              "3                   0  "
            ]
          },
          "metadata": {
            "tags": []
          },
          "execution_count": 15
        }
      ]
    },
    {
      "metadata": {
        "id": "UxvwISoQhcLk",
        "colab_type": "code",
        "outputId": "936ba361-33a5-490e-e0ad-45ae66d30799",
        "colab": {
          "base_uri": "https://localhost:8080/",
          "height": 294
        }
      },
      "cell_type": "code",
      "source": [
        "train.groupby('Nickname').agg('mean')['Survived'].plot(kind='bar', color='k')"
      ],
      "execution_count": 0,
      "outputs": [
        {
          "output_type": "execute_result",
          "data": {
            "text/plain": [
              "<matplotlib.axes._subplots.AxesSubplot at 0x7fb15bc89c18>"
            ]
          },
          "metadata": {
            "tags": []
          },
          "execution_count": 16
        },
        {
          "output_type": "display_data",
          "data": {
            "image/png": "[encoded data removed]",
            "text/plain": [
              "<matplotlib.figure.Figure at 0x7fb15bcd0780>"
            ]
          },
          "metadata": {
            "tags": []
          }
        }
      ]
    },
    {
      "metadata": {
        "id": "UyfrSChEqdtX",
        "colab_type": "code",
        "outputId": "3e5f30c0-93ae-42f4-cacb-11953dedec2e",
        "colab": {
          "base_uri": "https://localhost:8080/",
          "height": 134
        }
      },
      "cell_type": "code",
      "source": [
        "train.groupby('Salutation').agg('mean')['Age']"
      ],
      "execution_count": 0,
      "outputs": [
        {
          "output_type": "execute_result",
          "data": {
            "text/plain": [
              "Salutation\n",
              "Master     4.574167\n",
              "Miss      21.773973\n",
              "Mr        32.368090\n",
              "Mrs       35.898148\n",
              "Other     42.384615\n",
              "Name: Age, dtype: float64"
            ]
          },
          "metadata": {
            "tags": []
          },
          "execution_count": 17
        }
      ]
    },
    {
      "metadata": {
        "id": "9nqs-F-1rDRt",
        "colab_type": "code",
        "colab": {}
      },
      "cell_type": "code",
      "source": [
        "train['Age_null_ind'] = train.Age.isnull().astype(int)\n",
        "train['Age_estimated_ind'] = train.Age.apply(lambda x: x%1 >0).astype(int)"
      ],
      "execution_count": 0,
      "outputs": []
    },
    {
      "metadata": {
        "id": "bvqLkPc0rWMy",
        "colab_type": "code",
        "outputId": "d391a8b7-b311-4627-cfdf-2f500e887c37",
        "colab": {
          "base_uri": "https://localhost:8080/",
          "height": 618
        }
      },
      "cell_type": "code",
      "source": [
        "train[train.Age < 1]"
      ],
      "execution_count": 0,
      "outputs": [
        {
          "output_type": "execute_result",
          "data": {
            "text/html": [
              "<div>\n",
              "<style scoped>\n",
              "    .dataframe tbody tr th:only-of-type {\n",
              "        vertical-align: middle;\n",
              "    }\n",
              "\n",
              "    .dataframe tbody tr th {\n",
              "        vertical-align: top;\n",
              "    }\n",
              "\n",
              "    .dataframe thead th {\n",
              "        text-align: right;\n",
              "    }\n",
              "</style>\n",
              "<table border=\"1\" class=\"dataframe\">\n",
              "  <thead>\n",
              "    <tr style=\"text-align: right;\">\n",
              "      <th></th>\n",
              "      <th>Survived</th>\n",
              "      <th>Pclass</th>\n",
              "      <th>Name</th>\n",
              "      <th>Sex</th>\n",
              "      <th>Age</th>\n",
              "      <th>SibSp</th>\n",
              "      <th>Parch</th>\n",
              "      <th>Ticket</th>\n",
              "      <th>Fare</th>\n",
              "      <th>Cabin</th>\n",
              "      <th>...</th>\n",
              "      <th>Fare_bin</th>\n",
              "      <th>Age_bin</th>\n",
              "      <th>Child_ind</th>\n",
              "      <th>Cabin_2</th>\n",
              "      <th>Surname</th>\n",
              "      <th>Salutation</th>\n",
              "      <th>Name_len</th>\n",
              "      <th>Nickname</th>\n",
              "      <th>Age_null_ind</th>\n",
              "      <th>Age_estimated_ind</th>\n",
              "    </tr>\n",
              "    <tr>\n",
              "      <th>PassengerId</th>\n",
              "      <th></th>\n",
              "      <th></th>\n",
              "      <th></th>\n",
              "      <th></th>\n",
              "      <th></th>\n",
              "      <th></th>\n",
              "      <th></th>\n",
              "      <th></th>\n",
              "      <th></th>\n",
              "      <th></th>\n",
              "      <th></th>\n",
              "      <th></th>\n",
              "      <th></th>\n",
              "      <th></th>\n",
              "      <th></th>\n",
              "      <th></th>\n",
              "      <th></th>\n",
              "      <th></th>\n",
              "      <th></th>\n",
              "      <th></th>\n",
              "      <th></th>\n",
              "    </tr>\n",
              "  </thead>\n",
              "  <tbody>\n",
              "    <tr>\n",
              "      <th>79</th>\n",
              "      <td>1</td>\n",
              "      <td>2</td>\n",
              "      <td>Caldwell, Master. Alden Gates</td>\n",
              "      <td>male</td>\n",
              "      <td>0.83</td>\n",
              "      <td>0</td>\n",
              "      <td>2</td>\n",
              "      <td>248738</td>\n",
              "      <td>29.0000</td>\n",
              "      <td>NaN</td>\n",
              "      <td>...</td>\n",
              "      <td>8</td>\n",
              "      <td>1</td>\n",
              "      <td>True</td>\n",
              "      <td>0</td>\n",
              "      <td>Caldwell</td>\n",
              "      <td>Master</td>\n",
              "      <td>3</td>\n",
              "      <td>0</td>\n",
              "      <td>0</td>\n",
              "      <td>1</td>\n",
              "    </tr>\n",
              "    <tr>\n",
              "      <th>306</th>\n",
              "      <td>1</td>\n",
              "      <td>1</td>\n",
              "      <td>Allison, Master. Hudson Trevor</td>\n",
              "      <td>male</td>\n",
              "      <td>0.92</td>\n",
              "      <td>1</td>\n",
              "      <td>2</td>\n",
              "      <td>113781</td>\n",
              "      <td>151.5500</td>\n",
              "      <td>C22 C26</td>\n",
              "      <td>...</td>\n",
              "      <td>10</td>\n",
              "      <td>1</td>\n",
              "      <td>True</td>\n",
              "      <td>C</td>\n",
              "      <td>Allison</td>\n",
              "      <td>Master</td>\n",
              "      <td>3</td>\n",
              "      <td>0</td>\n",
              "      <td>0</td>\n",
              "      <td>1</td>\n",
              "    </tr>\n",
              "    <tr>\n",
              "      <th>470</th>\n",
              "      <td>1</td>\n",
              "      <td>3</td>\n",
              "      <td>Baclini, Miss. Helene Barbara</td>\n",
              "      <td>female</td>\n",
              "      <td>0.75</td>\n",
              "      <td>2</td>\n",
              "      <td>1</td>\n",
              "      <td>2666</td>\n",
              "      <td>19.2583</td>\n",
              "      <td>NaN</td>\n",
              "      <td>...</td>\n",
              "      <td>6</td>\n",
              "      <td>1</td>\n",
              "      <td>True</td>\n",
              "      <td>0</td>\n",
              "      <td>Baclini</td>\n",
              "      <td>Miss</td>\n",
              "      <td>3</td>\n",
              "      <td>0</td>\n",
              "      <td>0</td>\n",
              "      <td>1</td>\n",
              "    </tr>\n",
              "    <tr>\n",
              "      <th>645</th>\n",
              "      <td>1</td>\n",
              "      <td>3</td>\n",
              "      <td>Baclini, Miss. Eugenie</td>\n",
              "      <td>female</td>\n",
              "      <td>0.75</td>\n",
              "      <td>2</td>\n",
              "      <td>1</td>\n",
              "      <td>2666</td>\n",
              "      <td>19.2583</td>\n",
              "      <td>NaN</td>\n",
              "      <td>...</td>\n",
              "      <td>6</td>\n",
              "      <td>1</td>\n",
              "      <td>True</td>\n",
              "      <td>0</td>\n",
              "      <td>Baclini</td>\n",
              "      <td>Miss</td>\n",
              "      <td>2</td>\n",
              "      <td>0</td>\n",
              "      <td>0</td>\n",
              "      <td>1</td>\n",
              "    </tr>\n",
              "    <tr>\n",
              "      <th>756</th>\n",
              "      <td>1</td>\n",
              "      <td>2</td>\n",
              "      <td>Hamalainen, Master. Viljo</td>\n",
              "      <td>male</td>\n",
              "      <td>0.67</td>\n",
              "      <td>1</td>\n",
              "      <td>1</td>\n",
              "      <td>250649</td>\n",
              "      <td>14.5000</td>\n",
              "      <td>NaN</td>\n",
              "      <td>...</td>\n",
              "      <td>6</td>\n",
              "      <td>1</td>\n",
              "      <td>True</td>\n",
              "      <td>0</td>\n",
              "      <td>Hamalainen</td>\n",
              "      <td>Master</td>\n",
              "      <td>2</td>\n",
              "      <td>0</td>\n",
              "      <td>0</td>\n",
              "      <td>1</td>\n",
              "    </tr>\n",
              "    <tr>\n",
              "      <th>804</th>\n",
              "      <td>1</td>\n",
              "      <td>3</td>\n",
              "      <td>Thomas, Master. Assad Alexander</td>\n",
              "      <td>male</td>\n",
              "      <td>0.42</td>\n",
              "      <td>0</td>\n",
              "      <td>1</td>\n",
              "      <td>2625</td>\n",
              "      <td>8.5167</td>\n",
              "      <td>NaN</td>\n",
              "      <td>...</td>\n",
              "      <td>4</td>\n",
              "      <td>1</td>\n",
              "      <td>True</td>\n",
              "      <td>0</td>\n",
              "      <td>Thomas</td>\n",
              "      <td>Master</td>\n",
              "      <td>3</td>\n",
              "      <td>0</td>\n",
              "      <td>0</td>\n",
              "      <td>1</td>\n",
              "    </tr>\n",
              "    <tr>\n",
              "      <th>832</th>\n",
              "      <td>1</td>\n",
              "      <td>2</td>\n",
              "      <td>Richards, Master. George Sibley</td>\n",
              "      <td>male</td>\n",
              "      <td>0.83</td>\n",
              "      <td>1</td>\n",
              "      <td>1</td>\n",
              "      <td>29106</td>\n",
              "      <td>18.7500</td>\n",
              "      <td>NaN</td>\n",
              "      <td>...</td>\n",
              "      <td>6</td>\n",
              "      <td>1</td>\n",
              "      <td>True</td>\n",
              "      <td>0</td>\n",
              "      <td>Richards</td>\n",
              "      <td>Master</td>\n",
              "      <td>3</td>\n",
              "      <td>0</td>\n",
              "      <td>0</td>\n",
              "      <td>1</td>\n",
              "    </tr>\n",
              "  </tbody>\n",
              "</table>\n",
              "<p>7 rows × 21 columns</p>\n",
              "</div>"
            ],
            "text/plain": [
              "             Survived  Pclass                             Name     Sex   Age  \\\n",
              "PassengerId                                                                    \n",
              "79                  1       2    Caldwell, Master. Alden Gates    male  0.83   \n",
              "306                 1       1   Allison, Master. Hudson Trevor    male  0.92   \n",
              "470                 1       3    Baclini, Miss. Helene Barbara  female  0.75   \n",
              "645                 1       3           Baclini, Miss. Eugenie  female  0.75   \n",
              "756                 1       2        Hamalainen, Master. Viljo    male  0.67   \n",
              "804                 1       3  Thomas, Master. Assad Alexander    male  0.42   \n",
              "832                 1       2  Richards, Master. George Sibley    male  0.83   \n",
              "\n",
              "             SibSp  Parch  Ticket      Fare    Cabin        ...          \\\n",
              "PassengerId                                                 ...           \n",
              "79               0      2  248738   29.0000      NaN        ...           \n",
              "306              1      2  113781  151.5500  C22 C26        ...           \n",
              "470              2      1    2666   19.2583      NaN        ...           \n",
              "645              2      1    2666   19.2583      NaN        ...           \n",
              "756              1      1  250649   14.5000      NaN        ...           \n",
              "804              0      1    2625    8.5167      NaN        ...           \n",
              "832              1      1   29106   18.7500      NaN        ...           \n",
              "\n",
              "            Fare_bin Age_bin Child_ind  Cabin_2     Surname Salutation  \\\n",
              "PassengerId                                                              \n",
              "79                 8       1      True        0    Caldwell     Master   \n",
              "306               10       1      True        C     Allison     Master   \n",
              "470                6       1      True        0     Baclini       Miss   \n",
              "645                6       1      True        0     Baclini       Miss   \n",
              "756                6       1      True        0  Hamalainen     Master   \n",
              "804                4       1      True        0      Thomas     Master   \n",
              "832                6       1      True        0    Richards     Master   \n",
              "\n",
              "            Name_len  Nickname  Age_null_ind  Age_estimated_ind  \n",
              "PassengerId                                                      \n",
              "79                 3         0             0                  1  \n",
              "306                3         0             0                  1  \n",
              "470                3         0             0                  1  \n",
              "645                2         0             0                  1  \n",
              "756                2         0             0                  1  \n",
              "804                3         0             0                  1  \n",
              "832                3         0             0                  1  \n",
              "\n",
              "[7 rows x 21 columns]"
            ]
          },
          "metadata": {
            "tags": []
          },
          "execution_count": 19
        }
      ]
    },
    {
      "metadata": {
        "id": "PEM8ASVHLFOw",
        "colab_type": "code",
        "colab": {}
      },
      "cell_type": "code",
      "source": [
        "# train[train['Age'].isnull()]"
      ],
      "execution_count": 0,
      "outputs": []
    },
    {
      "metadata": {
        "id": "RatiOjFjLdDs",
        "colab_type": "code",
        "outputId": "c2d05624-2cea-43e2-b6dc-82d2d31dd3ae",
        "colab": {
          "base_uri": "https://localhost:8080/",
          "height": 225
        }
      },
      "cell_type": "code",
      "source": [
        "import regex as re\n",
        "train['ticket_has_letters']  = train['Ticket'].apply(lambda x: bool(re.search('[a-zA-Z]', x)))\n",
        "train[['ticket_has_letters', 'Ticket']].head()"
      ],
      "execution_count": 0,
      "outputs": [
        {
          "output_type": "execute_result",
          "data": {
            "text/html": [
              "<div>\n",
              "<style scoped>\n",
              "    .dataframe tbody tr th:only-of-type {\n",
              "        vertical-align: middle;\n",
              "    }\n",
              "\n",
              "    .dataframe tbody tr th {\n",
              "        vertical-align: top;\n",
              "    }\n",
              "\n",
              "    .dataframe thead th {\n",
              "        text-align: right;\n",
              "    }\n",
              "</style>\n",
              "<table border=\"1\" class=\"dataframe\">\n",
              "  <thead>\n",
              "    <tr style=\"text-align: right;\">\n",
              "      <th></th>\n",
              "      <th>ticket_has_letters</th>\n",
              "      <th>Ticket</th>\n",
              "    </tr>\n",
              "    <tr>\n",
              "      <th>PassengerId</th>\n",
              "      <th></th>\n",
              "      <th></th>\n",
              "    </tr>\n",
              "  </thead>\n",
              "  <tbody>\n",
              "    <tr>\n",
              "      <th>1</th>\n",
              "      <td>True</td>\n",
              "      <td>A/5 21171</td>\n",
              "    </tr>\n",
              "    <tr>\n",
              "      <th>2</th>\n",
              "      <td>True</td>\n",
              "      <td>PC 17599</td>\n",
              "    </tr>\n",
              "    <tr>\n",
              "      <th>3</th>\n",
              "      <td>True</td>\n",
              "      <td>STON/O2. 3101282</td>\n",
              "    </tr>\n",
              "    <tr>\n",
              "      <th>4</th>\n",
              "      <td>False</td>\n",
              "      <td>113803</td>\n",
              "    </tr>\n",
              "    <tr>\n",
              "      <th>5</th>\n",
              "      <td>False</td>\n",
              "      <td>373450</td>\n",
              "    </tr>\n",
              "  </tbody>\n",
              "</table>\n",
              "</div>"
            ],
            "text/plain": [
              "             ticket_has_letters            Ticket\n",
              "PassengerId                                      \n",
              "1                          True         A/5 21171\n",
              "2                          True          PC 17599\n",
              "3                          True  STON/O2. 3101282\n",
              "4                         False            113803\n",
              "5                         False            373450"
            ]
          },
          "metadata": {
            "tags": []
          },
          "execution_count": 21
        }
      ]
    },
    {
      "metadata": {
        "id": "WPPvZ1tZNaLF",
        "colab_type": "code",
        "outputId": "53d225a5-84ca-41e5-dddd-9fbeb1a08a8a",
        "colab": {
          "base_uri": "https://localhost:8080/",
          "height": 84
        }
      },
      "cell_type": "code",
      "source": [
        "train.groupby('ticket_has_letters').agg('mean')['Survived']"
      ],
      "execution_count": 0,
      "outputs": [
        {
          "output_type": "execute_result",
          "data": {
            "text/plain": [
              "ticket_has_letters\n",
              "False    0.384266\n",
              "True     0.382609\n",
              "Name: Survived, dtype: float64"
            ]
          },
          "metadata": {
            "tags": []
          },
          "execution_count": 22
        }
      ]
    },
    {
      "metadata": {
        "id": "qZ3q74kdNuMv",
        "colab_type": "code",
        "outputId": "fe3abcd6-0a41-4a2b-9069-e6a6bd645bce",
        "colab": {
          "base_uri": "https://localhost:8080/",
          "height": 101
        }
      },
      "cell_type": "code",
      "source": [
        "train.columns"
      ],
      "execution_count": 0,
      "outputs": [
        {
          "output_type": "execute_result",
          "data": {
            "text/plain": [
              "Index(['Survived', 'Pclass', 'Name', 'Sex', 'Age', 'SibSp', 'Parch', 'Ticket',\n",
              "       'Fare', 'Cabin', 'Embarked', 'Fare_bin', 'Age_bin', 'Child_ind',\n",
              "       'Cabin_2', 'Surname', 'Salutation', 'Name_len', 'Nickname',\n",
              "       'Age_null_ind', 'Age_estimated_ind', 'ticket_has_letters'],\n",
              "      dtype='object')"
            ]
          },
          "metadata": {
            "tags": []
          },
          "execution_count": 23
        }
      ]
    },
    {
      "metadata": {
        "id": "d3qQbSGmPfFC",
        "colab_type": "code",
        "outputId": "29062949-6240-45f3-dd95-435d64d61e3f",
        "colab": {
          "base_uri": "https://localhost:8080/",
          "height": 225
        }
      },
      "cell_type": "code",
      "source": [
        "median_age_salutation = train[~train.Age.isnull()].groupby('Salutation').agg(['median'])['Age']\n",
        "median_age_salutation"
      ],
      "execution_count": 0,
      "outputs": [
        {
          "output_type": "execute_result",
          "data": {
            "text/html": [
              "<div>\n",
              "<style scoped>\n",
              "    .dataframe tbody tr th:only-of-type {\n",
              "        vertical-align: middle;\n",
              "    }\n",
              "\n",
              "    .dataframe tbody tr th {\n",
              "        vertical-align: top;\n",
              "    }\n",
              "\n",
              "    .dataframe thead th {\n",
              "        text-align: right;\n",
              "    }\n",
              "</style>\n",
              "<table border=\"1\" class=\"dataframe\">\n",
              "  <thead>\n",
              "    <tr style=\"text-align: right;\">\n",
              "      <th></th>\n",
              "      <th>median</th>\n",
              "    </tr>\n",
              "    <tr>\n",
              "      <th>Salutation</th>\n",
              "      <th></th>\n",
              "    </tr>\n",
              "  </thead>\n",
              "  <tbody>\n",
              "    <tr>\n",
              "      <th>Master</th>\n",
              "      <td>3.5</td>\n",
              "    </tr>\n",
              "    <tr>\n",
              "      <th>Miss</th>\n",
              "      <td>21.0</td>\n",
              "    </tr>\n",
              "    <tr>\n",
              "      <th>Mr</th>\n",
              "      <td>30.0</td>\n",
              "    </tr>\n",
              "    <tr>\n",
              "      <th>Mrs</th>\n",
              "      <td>35.0</td>\n",
              "    </tr>\n",
              "    <tr>\n",
              "      <th>Other</th>\n",
              "      <td>44.5</td>\n",
              "    </tr>\n",
              "  </tbody>\n",
              "</table>\n",
              "</div>"
            ],
            "text/plain": [
              "            median\n",
              "Salutation        \n",
              "Master         3.5\n",
              "Miss          21.0\n",
              "Mr            30.0\n",
              "Mrs           35.0\n",
              "Other         44.5"
            ]
          },
          "metadata": {
            "tags": []
          },
          "execution_count": 24
        }
      ]
    },
    {
      "metadata": {
        "id": "HLfFV4yTPxBW",
        "colab_type": "code",
        "outputId": "d2369c3f-02f8-4304-e4b2-ca5e827ce392",
        "colab": {
          "base_uri": "https://localhost:8080/",
          "height": 225
        }
      },
      "cell_type": "code",
      "source": [
        "train['Age_imputated'] = train.apply(lambda x: x if x['Age'] == np.nan else median_age_salutation.loc[x['Salutation']], axis=1)\n",
        "train[train.Age.isnull()][['Salutation', 'Age_imputated']].head()"
      ],
      "execution_count": 0,
      "outputs": [
        {
          "output_type": "execute_result",
          "data": {
            "text/html": [
              "<div>\n",
              "<style scoped>\n",
              "    .dataframe tbody tr th:only-of-type {\n",
              "        vertical-align: middle;\n",
              "    }\n",
              "\n",
              "    .dataframe tbody tr th {\n",
              "        vertical-align: top;\n",
              "    }\n",
              "\n",
              "    .dataframe thead th {\n",
              "        text-align: right;\n",
              "    }\n",
              "</style>\n",
              "<table border=\"1\" class=\"dataframe\">\n",
              "  <thead>\n",
              "    <tr style=\"text-align: right;\">\n",
              "      <th></th>\n",
              "      <th>Salutation</th>\n",
              "      <th>Age_imputated</th>\n",
              "    </tr>\n",
              "    <tr>\n",
              "      <th>PassengerId</th>\n",
              "      <th></th>\n",
              "      <th></th>\n",
              "    </tr>\n",
              "  </thead>\n",
              "  <tbody>\n",
              "    <tr>\n",
              "      <th>6</th>\n",
              "      <td>Mr</td>\n",
              "      <td>30.0</td>\n",
              "    </tr>\n",
              "    <tr>\n",
              "      <th>18</th>\n",
              "      <td>Mr</td>\n",
              "      <td>30.0</td>\n",
              "    </tr>\n",
              "    <tr>\n",
              "      <th>20</th>\n",
              "      <td>Mrs</td>\n",
              "      <td>35.0</td>\n",
              "    </tr>\n",
              "    <tr>\n",
              "      <th>27</th>\n",
              "      <td>Mr</td>\n",
              "      <td>30.0</td>\n",
              "    </tr>\n",
              "    <tr>\n",
              "      <th>29</th>\n",
              "      <td>Miss</td>\n",
              "      <td>21.0</td>\n",
              "    </tr>\n",
              "  </tbody>\n",
              "</table>\n",
              "</div>"
            ],
            "text/plain": [
              "            Salutation  Age_imputated\n",
              "PassengerId                          \n",
              "6                   Mr           30.0\n",
              "18                  Mr           30.0\n",
              "20                 Mrs           35.0\n",
              "27                  Mr           30.0\n",
              "29                Miss           21.0"
            ]
          },
          "metadata": {
            "tags": []
          },
          "execution_count": 25
        }
      ]
    },
    {
      "metadata": {
        "id": "sSzBINVnSJcw",
        "colab_type": "code",
        "outputId": "1eedc287-6d23-495f-bbb5-35bae005c6db",
        "colab": {
          "base_uri": "https://localhost:8080/",
          "height": 225
        }
      },
      "cell_type": "code",
      "source": [
        "train[~train.Age.isnull()].groupby('Salutation').agg(['median', 'mean', 'std'])['Age']"
      ],
      "execution_count": 0,
      "outputs": [
        {
          "output_type": "execute_result",
          "data": {
            "text/html": [
              "<div>\n",
              "<style scoped>\n",
              "    .dataframe tbody tr th:only-of-type {\n",
              "        vertical-align: middle;\n",
              "    }\n",
              "\n",
              "    .dataframe tbody tr th {\n",
              "        vertical-align: top;\n",
              "    }\n",
              "\n",
              "    .dataframe thead th {\n",
              "        text-align: right;\n",
              "    }\n",
              "</style>\n",
              "<table border=\"1\" class=\"dataframe\">\n",
              "  <thead>\n",
              "    <tr style=\"text-align: right;\">\n",
              "      <th></th>\n",
              "      <th>median</th>\n",
              "      <th>mean</th>\n",
              "      <th>std</th>\n",
              "    </tr>\n",
              "    <tr>\n",
              "      <th>Salutation</th>\n",
              "      <th></th>\n",
              "      <th></th>\n",
              "      <th></th>\n",
              "    </tr>\n",
              "  </thead>\n",
              "  <tbody>\n",
              "    <tr>\n",
              "      <th>Master</th>\n",
              "      <td>3.5</td>\n",
              "      <td>4.574167</td>\n",
              "      <td>3.619872</td>\n",
              "    </tr>\n",
              "    <tr>\n",
              "      <th>Miss</th>\n",
              "      <td>21.0</td>\n",
              "      <td>21.773973</td>\n",
              "      <td>12.990292</td>\n",
              "    </tr>\n",
              "    <tr>\n",
              "      <th>Mr</th>\n",
              "      <td>30.0</td>\n",
              "      <td>32.368090</td>\n",
              "      <td>12.708793</td>\n",
              "    </tr>\n",
              "    <tr>\n",
              "      <th>Mrs</th>\n",
              "      <td>35.0</td>\n",
              "      <td>35.898148</td>\n",
              "      <td>11.433628</td>\n",
              "    </tr>\n",
              "    <tr>\n",
              "      <th>Other</th>\n",
              "      <td>44.5</td>\n",
              "      <td>42.384615</td>\n",
              "      <td>13.200233</td>\n",
              "    </tr>\n",
              "  </tbody>\n",
              "</table>\n",
              "</div>"
            ],
            "text/plain": [
              "            median       mean        std\n",
              "Salutation                              \n",
              "Master         3.5   4.574167   3.619872\n",
              "Miss          21.0  21.773973  12.990292\n",
              "Mr            30.0  32.368090  12.708793\n",
              "Mrs           35.0  35.898148  11.433628\n",
              "Other         44.5  42.384615  13.200233"
            ]
          },
          "metadata": {
            "tags": []
          },
          "execution_count": 26
        }
      ]
    },
    {
      "metadata": {
        "id": "6Zqa--jHX2Cx",
        "colab_type": "code",
        "outputId": "963f8a50-a764-434d-e8e1-133dd1ac3285",
        "colab": {
          "base_uri": "https://localhost:8080/",
          "height": 118
        }
      },
      "cell_type": "code",
      "source": [
        "train.columns"
      ],
      "execution_count": 0,
      "outputs": [
        {
          "output_type": "execute_result",
          "data": {
            "text/plain": [
              "Index(['Survived', 'Pclass', 'Name', 'Sex', 'Age', 'SibSp', 'Parch', 'Ticket',\n",
              "       'Fare', 'Cabin', 'Embarked', 'Fare_bin', 'Age_bin', 'Child_ind',\n",
              "       'Cabin_2', 'Surname', 'Salutation', 'Name_len', 'Nickname',\n",
              "       'Age_null_ind', 'Age_estimated_ind', 'ticket_has_letters',\n",
              "       'Age_imputated'],\n",
              "      dtype='object')"
            ]
          },
          "metadata": {
            "tags": []
          },
          "execution_count": 27
        }
      ]
    },
    {
      "metadata": {
        "id": "8hRYXdZSvAQ2",
        "colab_type": "code",
        "outputId": "3edc20b7-f9d2-4681-e423-aeab52f7f0d8",
        "colab": {
          "base_uri": "https://localhost:8080/",
          "height": 491
        }
      },
      "cell_type": "code",
      "source": [
        "## outlier treatment\n",
        "\n",
        "outlier_check_list =['Fare', 'Age_imputated', 'SibSp', 'Parch']\n",
        "\n",
        "percentile_list=[0, 0.5, 1, 2, 5, 10, 25, 75, 90, 95, 98, 99, 99.5, 100]\n",
        "\n",
        "outlier_df = pd.DataFrame()\n",
        "\n",
        "for column in outlier_check_list:\n",
        "  output_list= []\n",
        "  for percentile in percentile_list:\n",
        "    output_list.append({'Percentile': percentile, column:np.percentile(train[column], q=percentile, interpolation='lower') })\n",
        "    output_df = pd.DataFrame(output_list)\n",
        "  try:\n",
        "    outlier_df = pd.merge(outlier_df, output_df, on='Percentile', how='left')\n",
        "  except:\n",
        "    outlier_df = output_df\n",
        "      \n",
        "outlier_df.set_index('Percentile')"
      ],
      "execution_count": 0,
      "outputs": [
        {
          "output_type": "execute_result",
          "data": {
            "text/html": [
              "<div>\n",
              "<style scoped>\n",
              "    .dataframe tbody tr th:only-of-type {\n",
              "        vertical-align: middle;\n",
              "    }\n",
              "\n",
              "    .dataframe tbody tr th {\n",
              "        vertical-align: top;\n",
              "    }\n",
              "\n",
              "    .dataframe thead th {\n",
              "        text-align: right;\n",
              "    }\n",
              "</style>\n",
              "<table border=\"1\" class=\"dataframe\">\n",
              "  <thead>\n",
              "    <tr style=\"text-align: right;\">\n",
              "      <th></th>\n",
              "      <th>Fare</th>\n",
              "      <th>Age_imputated</th>\n",
              "      <th>SibSp</th>\n",
              "      <th>Parch</th>\n",
              "    </tr>\n",
              "    <tr>\n",
              "      <th>Percentile</th>\n",
              "      <th></th>\n",
              "      <th></th>\n",
              "      <th></th>\n",
              "      <th></th>\n",
              "    </tr>\n",
              "  </thead>\n",
              "  <tbody>\n",
              "    <tr>\n",
              "      <th>0.0</th>\n",
              "      <td>0.0000</td>\n",
              "      <td>3.5</td>\n",
              "      <td>0</td>\n",
              "      <td>0</td>\n",
              "    </tr>\n",
              "    <tr>\n",
              "      <th>0.5</th>\n",
              "      <td>0.0000</td>\n",
              "      <td>3.5</td>\n",
              "      <td>0</td>\n",
              "      <td>0</td>\n",
              "    </tr>\n",
              "    <tr>\n",
              "      <th>1.0</th>\n",
              "      <td>0.0000</td>\n",
              "      <td>3.5</td>\n",
              "      <td>0</td>\n",
              "      <td>0</td>\n",
              "    </tr>\n",
              "    <tr>\n",
              "      <th>2.0</th>\n",
              "      <td>6.2375</td>\n",
              "      <td>3.5</td>\n",
              "      <td>0</td>\n",
              "      <td>0</td>\n",
              "    </tr>\n",
              "    <tr>\n",
              "      <th>5.0</th>\n",
              "      <td>7.2250</td>\n",
              "      <td>21.0</td>\n",
              "      <td>0</td>\n",
              "      <td>0</td>\n",
              "    </tr>\n",
              "    <tr>\n",
              "      <th>10.0</th>\n",
              "      <td>7.5500</td>\n",
              "      <td>21.0</td>\n",
              "      <td>0</td>\n",
              "      <td>0</td>\n",
              "    </tr>\n",
              "    <tr>\n",
              "      <th>25.0</th>\n",
              "      <td>7.8958</td>\n",
              "      <td>30.0</td>\n",
              "      <td>0</td>\n",
              "      <td>0</td>\n",
              "    </tr>\n",
              "    <tr>\n",
              "      <th>75.0</th>\n",
              "      <td>31.0000</td>\n",
              "      <td>30.0</td>\n",
              "      <td>1</td>\n",
              "      <td>0</td>\n",
              "    </tr>\n",
              "    <tr>\n",
              "      <th>90.0</th>\n",
              "      <td>77.9583</td>\n",
              "      <td>35.0</td>\n",
              "      <td>1</td>\n",
              "      <td>2</td>\n",
              "    </tr>\n",
              "    <tr>\n",
              "      <th>95.0</th>\n",
              "      <td>110.8833</td>\n",
              "      <td>35.0</td>\n",
              "      <td>3</td>\n",
              "      <td>2</td>\n",
              "    </tr>\n",
              "    <tr>\n",
              "      <th>98.0</th>\n",
              "      <td>211.3375</td>\n",
              "      <td>44.5</td>\n",
              "      <td>4</td>\n",
              "      <td>2</td>\n",
              "    </tr>\n",
              "    <tr>\n",
              "      <th>99.0</th>\n",
              "      <td>247.5208</td>\n",
              "      <td>44.5</td>\n",
              "      <td>5</td>\n",
              "      <td>4</td>\n",
              "    </tr>\n",
              "    <tr>\n",
              "      <th>99.5</th>\n",
              "      <td>263.0000</td>\n",
              "      <td>44.5</td>\n",
              "      <td>8</td>\n",
              "      <td>5</td>\n",
              "    </tr>\n",
              "    <tr>\n",
              "      <th>100.0</th>\n",
              "      <td>512.3292</td>\n",
              "      <td>44.5</td>\n",
              "      <td>8</td>\n",
              "      <td>6</td>\n",
              "    </tr>\n",
              "  </tbody>\n",
              "</table>\n",
              "</div>"
            ],
            "text/plain": [
              "                Fare  Age_imputated  SibSp  Parch\n",
              "Percentile                                       \n",
              "0.0           0.0000            3.5      0      0\n",
              "0.5           0.0000            3.5      0      0\n",
              "1.0           0.0000            3.5      0      0\n",
              "2.0           6.2375            3.5      0      0\n",
              "5.0           7.2250           21.0      0      0\n",
              "10.0          7.5500           21.0      0      0\n",
              "25.0          7.8958           30.0      0      0\n",
              "75.0         31.0000           30.0      1      0\n",
              "90.0         77.9583           35.0      1      2\n",
              "95.0        110.8833           35.0      3      2\n",
              "98.0        211.3375           44.5      4      2\n",
              "99.0        247.5208           44.5      5      4\n",
              "99.5        263.0000           44.5      8      5\n",
              "100.0       512.3292           44.5      8      6"
            ]
          },
          "metadata": {
            "tags": []
          },
          "execution_count": 28
        }
      ]
    },
    {
      "metadata": {
        "id": "Wv3eZ3vkymBz",
        "colab_type": "code",
        "colab": {}
      },
      "cell_type": "code",
      "source": [
        "# treating outliers \n",
        "\n",
        "train['SibSp_ind'] = train['SibSp'].apply(lambda x: x>1)\n",
        "train['SibSp_2'] = train['SibSp'].apply(lambda x: x if x<2 else 2)\n",
        "train['Parch_2'] = train['Parch'].apply(lambda x:  x if x<=2 else 2)"
      ],
      "execution_count": 0,
      "outputs": []
    },
    {
      "metadata": {
        "id": "3g8PYOV6aws4",
        "colab_type": "code",
        "colab": {}
      },
      "cell_type": "code",
      "source": [
        "# drop useless columns\n",
        "\n",
        "def drop_useless_columns(df, columns_list):\n",
        "  return df.drop(columns=cols_to_drop)\n",
        "\n"
      ],
      "execution_count": 0,
      "outputs": []
    },
    {
      "metadata": {
        "id": "4WcyQFuKcNlb",
        "colab_type": "code",
        "colab": {}
      },
      "cell_type": "code",
      "source": [
        "# make dummy varibales\n",
        "\n",
        "def make_dummies(df, columns_list, drop_first=True):\n",
        "  return pd.get_dummies(df, columns=columns_list, prefix=categorical_columns, drop_first=drop_first)\n",
        "\n"
      ],
      "execution_count": 0,
      "outputs": []
    },
    {
      "metadata": {
        "id": "HcidtycQ0SEs",
        "colab_type": "code",
        "colab": {}
      },
      "cell_type": "code",
      "source": [
        "# renaming columns\n",
        "def rename_columns(df):\n",
        "  for column in df.columns:\n",
        "    if ']' in column:\n",
        "      column2 = column[:-1] + ')'\n",
        "      column2 =  column2.replace(', ', '')\n",
        "#       print(column2)\n",
        "      df.rename(columns={column:column2}, inplace=True)\n",
        "  return df\n"
      ],
      "execution_count": 0,
      "outputs": []
    },
    {
      "metadata": {
        "id": "AH6sOBkjomuz",
        "colab_type": "code",
        "colab": {}
      },
      "cell_type": "code",
      "source": [
        "def encode_data(dataset_train, cols_to_encode=['Sex', 'Embarked', 'Salutation', 'Cabin_2', 'ticket_initials']):\n",
        "  # Encoding String values to Numbers\n",
        "  from sklearn.preprocessing import LabelEncoder\n",
        "  for col in cols_to_encode:\n",
        " \n",
        "    lb = LabelEncoder()\n",
        "    dataset_train[col] = lb.fit_transform(dataset_train[col])\n",
        "    \n",
        "  return dataset_train"
      ],
      "execution_count": 0,
      "outputs": []
    },
    {
      "metadata": {
        "id": "mWNuP8COWK7w",
        "colab_type": "code",
        "colab": {}
      },
      "cell_type": "code",
      "source": [
        "categorical_columns = ['Sex', 'Pclass', 'Embarked', 'Cabin_2', 'Salutation', 'Age_bin', 'Fare_bin', 'ticket_initials']\n",
        "target_col='Survived'\n",
        "cols_to_drop = ['Name', 'Ticket', 'Cabin', 'Surname', 'Age', 'Fare', 'SibSp', 'Parch_2']\n",
        "# pd.get_dummies(train, columns=categorical_columns, prefix=categorical_columns, drop_first=1).head()"
      ],
      "execution_count": 0,
      "outputs": []
    },
    {
      "metadata": {
        "id": "g4VpZEY135A-",
        "colab_type": "text"
      },
      "cell_type": "markdown",
      "source": [
        "# Data Preparation"
      ]
    },
    {
      "metadata": {
        "id": "w-FnYmL3550o",
        "colab_type": "code",
        "outputId": "345a93b1-929e-4e22-9219-2829e11748e3",
        "colab": {
          "base_uri": "https://localhost:8080/",
          "height": 34
        }
      },
      "cell_type": "code",
      "source": [
        "def prepare_data(df):\n",
        "  \n",
        "  df = df.set_index('PassengerId')\n",
        " \n",
        "  #cabin\n",
        "  df['Cabin_2'] = df['Cabin'].apply(lambda x: x[0] if type(x)==str else 'ZZ')\n",
        "  df['Cabin_2'] = df['Cabin_2'].apply(lambda x: x if x not in ['F', 'G', 'T'] else 'Other')\n",
        "  \n",
        "  #name\n",
        "  df['Surname'] = df['Name'].apply(lambda x: x.split(',')[0])\n",
        "  df['Salutation'] = df['Name'].apply(lambda x: x.split(',')[1].split('.')[0][1:])\n",
        "  df['Salutation'] = df['Salutation'].apply(lambda x: x if x in ['Mr', 'Miss', 'Master', 'Mrs'] else 'Other' )\n",
        "  df['Name_len'] = df.Name.apply(lambda x: len(x.split(' '))-1)\n",
        "  df['Nickname'] = df['Name'].apply(lambda x : 1 if '(' in x else 0)\n",
        "  \n",
        "  #age\n",
        "  df['Age_null_ind'] = df.Age.isnull().astype(int)\n",
        "  df['Age_estimated_ind'] = df.Age.apply(lambda x: x%1 >0).astype(int)\n",
        "  df['Age_imputated'] = df.apply(lambda x: x if x['Age'] == np.nan else median_age_salutation.loc[x['Salutation']], axis=1)# missing value\n",
        "  df['Child_ind'] = df['Age_imputated'].apply(lambda x: 1 if x <14.0 else 0)\n",
        "#   df['Age_bin'] = pd.qcut(df['Age_imputated'], q=8, labels=range(1,11), duplicates='drop')\n",
        "  \n",
        "  # family\n",
        "  df['family'] = df['SibSp'] + df['Parch']\n",
        "  \n",
        "   # alone\n",
        "  df['is_alone'] = (df.family ==0).astype(int)\n",
        "  \n",
        "  #embarked\n",
        "  df['Embarked'] = df['Embarked'].fillna('S')\n",
        "  \n",
        "  # fare\n",
        "  df['Fare'] = df['Fare'].fillna(df['Fare'].mean())\n",
        "  df['Fare_bin'] = pd.qcut(df['Fare'], q=10, labels=range(1, 10+1))\n",
        "  \n",
        "  # ticket\n",
        "  df['ticket_initials']  = df['Ticket'].apply(lambda x: str(x)[0])\n",
        "  df['ticket_initials']  = df['ticket_initials'].apply(lambda x: re.sub('[0-9]', 'N', x))\n",
        "  df['ticket_initials']  = df['ticket_initials'].apply(lambda x: x if x not in ['F', 'L', 'W'] else 'Z')\n",
        "  \n",
        "  # new_variable\n",
        "  df['age_class'] = df['Age_imputated']*df['Pclass']\n",
        "  \n",
        "  # outliers\n",
        "  df['SibSp_ind'] = df['SibSp'].apply(lambda x: x>1).astype(int)\n",
        "  df['SibSp_2'] = df['SibSp'].apply(lambda x: x if x<2 else 2)\n",
        "  df['Parch_2'] = df['Parch'].apply(lambda x:  x if x<=2 else 2)\n",
        "  \n",
        "  # drop columns\n",
        "  df_data = drop_useless_columns(df, columns_list=cols_to_drop)\n",
        "\n",
        "  # dummies\n",
        "#   df_data = make_dummies(df_data, categorical_columns)\n",
        "\n",
        "  # encode: \n",
        "  df_data = encode_data(df_data)\n",
        "  \n",
        "  # rename columns\n",
        "  df_data = rename_columns(df_data)\n",
        "  \n",
        "  return df_data\n",
        "\n",
        "train = pd.read_csv('train.csv')\n",
        "test = pd.read_csv('test.csv')\n",
        "\n",
        "test_data = prepare_data(test)\n",
        "train_data = prepare_data(train)\n",
        "print(test_data.shape, train_data.shape) \n",
        "  \n",
        "  "
      ],
      "execution_count": 220,
      "outputs": [
        {
          "output_type": "stream",
          "text": [
            "(418, 19) (891, 20)\n"
          ],
          "name": "stdout"
        }
      ]
    },
    {
      "metadata": {
        "id": "3bbG6i_BqE_2",
        "colab_type": "code",
        "outputId": "d7e370be-58bd-4ce7-b0a0-0af3e0dc8116",
        "colab": {
          "base_uri": "https://localhost:8080/",
          "height": 67
        }
      },
      "cell_type": "code",
      "source": [
        "train_data['is_alone' ].value_counts()"
      ],
      "execution_count": 221,
      "outputs": [
        {
          "output_type": "execute_result",
          "data": {
            "text/plain": [
              "1    537\n",
              "0    354\n",
              "Name: is_alone, dtype: int64"
            ]
          },
          "metadata": {
            "tags": []
          },
          "execution_count": 221
        }
      ]
    },
    {
      "metadata": {
        "id": "rJWezn8nnT8Q",
        "colab_type": "code",
        "outputId": "5d402f21-47f6-448a-d0be-481be2abece2",
        "colab": {
          "base_uri": "https://localhost:8080/",
          "height": 34
        }
      },
      "cell_type": "code",
      "source": [
        "# make train validation split\n",
        "from sklearn.model_selection import train_test_split\n",
        "train_xy, validation_xy = train_test_split(train_data, test_size=0.15, shuffle=True, random_state=1)\n",
        "train_xy.shape, validation_xy.shape\n"
      ],
      "execution_count": 222,
      "outputs": [
        {
          "output_type": "execute_result",
          "data": {
            "text/plain": [
              "((757, 20), (134, 20))"
            ]
          },
          "metadata": {
            "tags": []
          },
          "execution_count": 222
        }
      ]
    },
    {
      "metadata": {
        "id": "YELrGeRq6jCo",
        "colab_type": "code",
        "outputId": "e6d297ef-a4fe-458a-f5d4-19c0d6de1345",
        "colab": {
          "base_uri": "https://localhost:8080/",
          "height": 34
        }
      },
      "cell_type": "code",
      "source": [
        "def get_features_labels(df, targete_col='Survived'):\n",
        "  return df.drop(columns=[target_col]), df[target_col]\n",
        "\n",
        "x_train, y_train = get_features_labels(train_xy)\n",
        "x_vali, y_vali = get_features_labels(validation_xy)\n",
        "x_train.shape, x_vali.shape"
      ],
      "execution_count": 223,
      "outputs": [
        {
          "output_type": "execute_result",
          "data": {
            "text/plain": [
              "((757, 19), (134, 19))"
            ]
          },
          "metadata": {
            "tags": []
          },
          "execution_count": 223
        }
      ]
    },
    {
      "metadata": {
        "id": "_OrYhmbL2Fnx",
        "colab_type": "code",
        "outputId": "1b5f375f-9f40-4bf3-c009-7455f657ac41",
        "colab": {
          "base_uri": "https://localhost:8080/",
          "height": 101
        }
      },
      "cell_type": "code",
      "source": [
        "train_xy.columns"
      ],
      "execution_count": 0,
      "outputs": [
        {
          "output_type": "execute_result",
          "data": {
            "text/plain": [
              "Index(['Survived', 'Pclass', 'Sex', 'Parch', 'Embarked', 'Cabin_2',\n",
              "       'Salutation', 'Name_len', 'Nickname', 'Age_null_ind',\n",
              "       'Age_estimated_ind', 'Age_imputated', 'Child_ind', 'family', 'is_alone',\n",
              "       'Fare_bin', 'ticket_initials', 'age_class', 'SibSp_ind', 'SibSp_2'],\n",
              "      dtype='object')"
            ]
          },
          "metadata": {
            "tags": []
          },
          "execution_count": 195
        }
      ]
    },
    {
      "metadata": {
        "id": "aOjSU5WrF3gI",
        "colab_type": "text"
      },
      "cell_type": "markdown",
      "source": [
        "# Logistic Regression"
      ]
    },
    {
      "metadata": {
        "id": "wiRZC0g2pfzO",
        "colab_type": "code",
        "outputId": "c6ceb88a-7647-4619-b8ea-f2977336de2c",
        "colab": {
          "base_uri": "https://localhost:8080/",
          "height": 34
        }
      },
      "cell_type": "code",
      "source": [
        "import statsmodels.formula.api as smf\n",
        "import statsmodels.api as sm\n",
        "from sklearn import metrics\n",
        "\n",
        "formula = target_col + ' ~ ' + ' + '.join(train_xy.columns[1:])\n",
        "# print(formula)\n",
        "\n",
        "\n",
        "def train_logistic_model(data, formula=formula, summary=True):\n",
        "  model = smf.glm(formula=formula, data=data,family=sm.families.Binomial()).fit()\n",
        "  print('Train ROC AUC: ', metrics.roc_auc_score(y_train, model.predict(x_train)), \\\n",
        "      '|| Validation ROC AUC: ', metrics.roc_auc_score(y_vali, model.predict(x_vali)))\n",
        "  if summary:\n",
        "    print(model.summary())\n",
        "  return model\n",
        "\n",
        "model = train_logistic_model(data=train_xy, summary=False)"
      ],
      "execution_count": 0,
      "outputs": [
        {
          "output_type": "stream",
          "text": [
            "Train ROC AUC:  0.8916875991538867 || Validation ROC AUC:  0.7927078021417644\n"
          ],
          "name": "stdout"
        }
      ]
    },
    {
      "metadata": {
        "id": "9CLSdeUzemqT",
        "colab_type": "code",
        "outputId": "e500d5a3-56ef-4880-bfbf-dd96679645cd",
        "colab": {
          "base_uri": "https://localhost:8080/",
          "height": 54
        }
      },
      "cell_type": "code",
      "source": [
        "formula"
      ],
      "execution_count": 0,
      "outputs": [
        {
          "output_type": "execute_result",
          "data": {
            "text/plain": [
              "'Survived ~ Parch + Name_len + Nickname + Child_ind + Age_null_ind + Age_estimated_ind + Age_imputated + relatives + ticket_has_letters + age_class + SibSp_ind + SibSp_2 + Sex_male + Pclass_2 + Pclass_3 + Embarked_Q + Embarked_S + Cabin_2_A + Cabin_2_B + Cabin_2_C + Cabin_2_D + Cabin_2_E + Cabin_2_Other + Salutation_Miss + Salutation_Mr + Salutation_Mrs + Salutation_Other + Age_bin_2 + Age_bin_3 + Age_bin_4 + Age_bin_5 + Age_bin_6 + Age_bin_7 + Age_bin_8 + Age_bin_9 + Age_bin_10 + Fare_bin_2 + Fare_bin_3 + Fare_bin_4 + Fare_bin_5 + Fare_bin_6 + Fare_bin_7 + Fare_bin_8 + Fare_bin_9 + Fare_bin_10'"
            ]
          },
          "metadata": {
            "tags": []
          },
          "execution_count": 121
        }
      ]
    },
    {
      "metadata": {
        "id": "LY25WTD05Igy",
        "colab_type": "code",
        "outputId": "5f6bc405-988c-4733-df76-05351df907a2",
        "colab": {
          "base_uri": "https://localhost:8080/",
          "height": 574
        }
      },
      "cell_type": "code",
      "source": [
        "# Backward Selection\n",
        "\n",
        "def backward_selection(df, formula, threshold=0.05):\n",
        "  flag=0\n",
        "  while flag==0:\n",
        "    func = smf.glm(formula =formula, data=df, family = sm.families.Binomial()).fit()\n",
        "    pvals = pd.DataFrame(func.pvalues, columns=['pval'])\n",
        "    pvals['varname'] = [i.split('[')[0] for i in pvals.index]\n",
        "    pvals = pd.DataFrame(pvals.groupby(['varname'])['pval'].min())\n",
        "    pvals = pvals.drop(['Intercept'])\n",
        "    if max(pvals['pval']) < threshold:\n",
        "      flag=1\n",
        "      break\n",
        "    else:\n",
        "      var_to_rem = pvals.sort_values('pval', ascending=False).index[0].split('[')[0]\n",
        "#       print(max(pvals['pval']))\n",
        "      if '+ ' + var_to_rem + ' +' in formula:\n",
        "        formula = formula.replace('+ ' + var_to_rem + ' +', '+')\n",
        "      elif '~ ' + var_to_rem in formula:\n",
        "        formula = formula.replace('~ ' + var_to_rem, '~ ')\n",
        "      elif '+ ' + var_to_rem in formula:\n",
        "        formula = formula.replace('+ ' + var_to_rem, '')\n",
        "      print('Variable removed: ', var_to_rem)\n",
        "      \n",
        "      \n",
        "  return formula\n",
        "    \n",
        "formula_new = backward_selection(train_xy, formula)\n",
        "formula_new"
      ],
      "execution_count": 0,
      "outputs": [
        {
          "output_type": "stream",
          "text": [
            "Variable removed:  Salutation_Mr\n",
            "Variable removed:  Salutation_Mrs\n",
            "Variable removed:  Age_bin_5\n",
            "Variable removed:  Age_bin_4\n",
            "Variable removed:  Age_bin_6\n",
            "Variable removed:  Name_len\n",
            "Variable removed:  Fare_bin_8\n",
            "Variable removed:  Age_estimated_ind\n",
            "Variable removed:  Age_bin_8\n",
            "Variable removed:  Age_bin_3\n",
            "Variable removed:  Age_null_ind\n",
            "Variable removed:  ticket_has_letters\n",
            "Variable removed:  Fare_bin_4\n",
            "Variable removed:  Fare_bin_5\n",
            "Variable removed:  Fare_bin_6\n",
            "Variable removed:  Age_bin_9\n",
            "Variable removed:  Age_bin_10\n",
            "Variable removed:  Cabin_2_C\n",
            "Variable removed:  SibSp_2\n",
            "Variable removed:  Cabin_2_Other\n",
            "Variable removed:  Embarked_Q\n",
            "Variable removed:  Cabin_2_A\n",
            "Variable removed:  Cabin_2_B\n",
            "Variable removed:  Fare_bin_7\n",
            "Variable removed:  Fare_bin_9\n",
            "Variable removed:  Fare_bin_10\n",
            "Variable removed:  Age_bin_2\n",
            "Variable removed:  age_class\n",
            "Variable removed:  Nickname\n",
            "Variable removed:  Fare_bin_2\n",
            "Variable removed:  Child_ind\n"
          ],
          "name": "stdout"
        },
        {
          "output_type": "execute_result",
          "data": {
            "text/plain": [
              "'Survived ~ Parch + Age_imputated + relatives + SibSp_ind + Sex_male + Pclass_2 + Pclass_3 + Embarked_S + Cabin_2_D + Cabin_2_E + Salutation_Miss + Salutation_Other + Age_bin_7 + Fare_bin_3 '"
            ]
          },
          "metadata": {
            "tags": []
          },
          "execution_count": 122
        }
      ]
    },
    {
      "metadata": {
        "id": "VXY02ecpB9ng",
        "colab_type": "code",
        "outputId": "ec9f1a60-6b7a-4445-9a7f-86f57d0c4638",
        "colab": {
          "base_uri": "https://localhost:8080/",
          "height": 521
        }
      },
      "cell_type": "code",
      "source": [
        "# training after backward selection\n",
        "model = train_logistic_model(data=train_xy, formula=formula_new)"
      ],
      "execution_count": 0,
      "outputs": [
        {
          "output_type": "stream",
          "text": [
            "Train ROC AUC:  0.8848658117398202 || Validation ROC AUC:  0.7944926058133605\n",
            "                 Generalized Linear Model Regression Results                  \n",
            "==============================================================================\n",
            "Dep. Variable:               Survived   No. Observations:                  801\n",
            "Model:                            GLM   Df Residuals:                      787\n",
            "Model Family:                Binomial   Df Model:                           13\n",
            "Link Function:                  logit   Scale:                             1.0\n",
            "Method:                          IRLS   Log-Likelihood:                -315.32\n",
            "Date:                Sun, 25 Nov 2018   Deviance:                       630.63\n",
            "Time:                        10:48:45   Pearson chi2:                     872.\n",
            "No. Iterations:                     6                                         \n",
            "=====================================================================================\n",
            "                        coef    std err          z      P>|z|      [0.025      0.975]\n",
            "-------------------------------------------------------------------------------------\n",
            "Intercept             4.2426      0.428      9.913      0.000       3.404       5.081\n",
            "SibSp_ind[T.True]    -1.3141      0.398     -3.304      0.001      -2.094      -0.535\n",
            "Parch                -0.3019      0.136     -2.227      0.026      -0.568      -0.036\n",
            "Age_imputated        -0.1540      0.019     -8.095      0.000      -0.191      -0.117\n",
            "relatives             4.2426      0.428      9.913      0.000       3.404       5.081\n",
            "Sex_male             -4.3574      0.378    -11.517      0.000      -5.099      -3.616\n",
            "Pclass_2             -0.7674      0.321     -2.393      0.017      -1.396      -0.139\n",
            "Pclass_3             -1.9933      0.297     -6.708      0.000      -2.576      -1.411\n",
            "Embarked_S           -0.6251      0.233     -2.679      0.007      -1.082      -0.168\n",
            "Cabin_2_D             1.1004      0.556      1.978      0.048       0.010       2.191\n",
            "Cabin_2_E             1.2474      0.576      2.167      0.030       0.119       2.376\n",
            "Salutation_Miss      -2.2396      0.427     -5.249      0.000      -3.076      -1.403\n",
            "Salutation_Other      2.4158      0.643      3.759      0.000       1.156       3.675\n",
            "Age_bin_7             0.9390      0.335      2.806      0.005       0.283       1.595\n",
            "Fare_bin_3            0.7703      0.391      1.970      0.049       0.004       1.537\n",
            "=====================================================================================\n"
          ],
          "name": "stdout"
        }
      ]
    },
    {
      "metadata": {
        "id": "u2lKy1uPOZ8W",
        "colab_type": "code",
        "colab": {}
      },
      "cell_type": "code",
      "source": [
        "test_pred = pd.DataFrame(model.predict(test_data), \n",
        "test_submit_logistic = pd.DataFrame()"
      ],
      "execution_count": 0,
      "outputs": []
    },
    {
      "metadata": {
        "id": "v5a1z3bxGN0b",
        "colab_type": "code",
        "colab": {}
      },
      "cell_type": "code",
      "source": [
        "#VIF\n",
        "\n",
        "def make_vif(form, data=train_xy):\n",
        "  vif_list = [i for i in form.params.index[1: ] if 'C(']"
      ],
      "execution_count": 0,
      "outputs": []
    },
    {
      "metadata": {
        "id": "eitWowgiF7-b",
        "colab_type": "text"
      },
      "cell_type": "markdown",
      "source": [
        "# SVM"
      ]
    },
    {
      "metadata": {
        "id": "bp07sBqwtJ2m",
        "colab_type": "code",
        "outputId": "0a467ef5-6493-4454-bc0a-bbb546bda957",
        "colab": {
          "base_uri": "https://localhost:8080/",
          "height": 330
        }
      },
      "cell_type": "code",
      "source": [
        "##SVM\n",
        "from sklearn.svm import SVC\n",
        "from sklearn.model_selection import GridSearchCV, RandomizedSearchCV\n",
        "\n",
        "\n",
        "# grid search\n",
        "\n",
        "def svc_param_selection(X, y, nfolds):\n",
        "    print('Hyparameter Tuning using Grid SEarch')\n",
        "    kernels =['linear', 'rbf']\n",
        "    Cs = [0.001, 0.01, 0.03, 0.1, 0.3, 1, 3, 10, 30, ]\n",
        "    gammas = [0.001, 0.01, 0.03, 0.1, 0.3, 1, 10, 'auto']\n",
        "    param_grid = {'C': Cs, 'gamma' : gammas, 'kernel': kernels}\n",
        "    grid_search = GridSearchCV(SVC(kernel='rbf'), param_grid, cv=nfolds, verbose=1, n_jobs=-1)\n",
        "    grid_search.fit(X, y)\n",
        "    grid_search.best_params_\n",
        "    return grid_search\n",
        "  \n",
        "\n",
        "grid_search = svc_param_selection(x_train, y_train, nfolds=5)\n",
        "print('Best Parameters: ', grid_search.best_params_)\n",
        "\n",
        "print('#####################################\\n')\n",
        "\n",
        "svm_clf = grid_search.best_estimator_\n",
        "\n",
        "pd.DataFrame.from_dict(grid_search.cv_results_)[['mean_test_score', 'std_test_score', 'mean_train_score']].sort_values(by='mean_test_score', ascending=False).head()*100\n",
        "\n",
        "# print('#####################################\\n')\n",
        "# print('Train_Accuracy: ', np.round(svm_clf.score(x_train, y_train)*100,2), ' %')\n",
        "# print('Validation_Accuracy: ', np.round(svm_clf.score(x_vali, y_vali)*100,2), ' %')\n",
        "\n",
        "\n",
        "# print('\\nTrain ROC AUC: ', metrics.roc_auc_score(y_train, svm_clf.predict_proba(x_train)[:,1]), \\\n",
        "#       '|| Validation ROC AUC: ', metrics.roc_auc_score(y_vali, svm_clf.predict_proba(x_vali)[:, 1]))"
      ],
      "execution_count": 252,
      "outputs": [
        {
          "output_type": "stream",
          "text": [
            "Hyparameter Tuning using Grid SEarch\n",
            "Fitting 5 folds for each of 144 candidates, totalling 720 fits\n"
          ],
          "name": "stdout"
        },
        {
          "output_type": "stream",
          "text": [
            "[Parallel(n_jobs=-1)]: Done 320 tasks      | elapsed:   13.9s\n",
            "[Parallel(n_jobs=-1)]: Done 524 tasks      | elapsed:  1.8min\n"
          ],
          "name": "stderr"
        },
        {
          "output_type": "stream",
          "text": [
            "Best Parameters:  {'C': 1, 'gamma': 0.01, 'kernel': 'rbf'}\n",
            "#####################################\n",
            "\n"
          ],
          "name": "stdout"
        },
        {
          "output_type": "stream",
          "text": [
            "[Parallel(n_jobs=-1)]: Done 720 out of 720 | elapsed:  4.4min finished\n"
          ],
          "name": "stderr"
        },
        {
          "output_type": "execute_result",
          "data": {
            "text/html": [
              "<div>\n",
              "<style scoped>\n",
              "    .dataframe tbody tr th:only-of-type {\n",
              "        vertical-align: middle;\n",
              "    }\n",
              "\n",
              "    .dataframe tbody tr th {\n",
              "        vertical-align: top;\n",
              "    }\n",
              "\n",
              "    .dataframe thead th {\n",
              "        text-align: right;\n",
              "    }\n",
              "</style>\n",
              "<table border=\"1\" class=\"dataframe\">\n",
              "  <thead>\n",
              "    <tr style=\"text-align: right;\">\n",
              "      <th></th>\n",
              "      <th>mean_test_score</th>\n",
              "      <th>std_test_score</th>\n",
              "      <th>mean_train_score</th>\n",
              "    </tr>\n",
              "  </thead>\n",
              "  <tbody>\n",
              "    <tr>\n",
              "      <th>83</th>\n",
              "      <td>83.091149</td>\n",
              "      <td>2.290136</td>\n",
              "      <td>84.049079</td>\n",
              "    </tr>\n",
              "    <tr>\n",
              "      <th>111</th>\n",
              "      <td>83.091149</td>\n",
              "      <td>2.277973</td>\n",
              "      <td>88.705876</td>\n",
              "    </tr>\n",
              "    <tr>\n",
              "      <th>79</th>\n",
              "      <td>82.959049</td>\n",
              "      <td>1.962746</td>\n",
              "      <td>84.742585</td>\n",
              "    </tr>\n",
              "    <tr>\n",
              "      <th>69</th>\n",
              "      <td>82.959049</td>\n",
              "      <td>2.126438</td>\n",
              "      <td>84.247099</td>\n",
              "    </tr>\n",
              "    <tr>\n",
              "      <th>129</th>\n",
              "      <td>82.959049</td>\n",
              "      <td>1.962746</td>\n",
              "      <td>84.312996</td>\n",
              "    </tr>\n",
              "  </tbody>\n",
              "</table>\n",
              "</div>"
            ],
            "text/plain": [
              "     mean_test_score  std_test_score  mean_train_score\n",
              "83         83.091149        2.290136         84.049079\n",
              "111        83.091149        2.277973         88.705876\n",
              "79         82.959049        1.962746         84.742585\n",
              "69         82.959049        2.126438         84.247099\n",
              "129        82.959049        1.962746         84.312996"
            ]
          },
          "metadata": {
            "tags": []
          },
          "execution_count": 252
        }
      ]
    },
    {
      "metadata": {
        "id": "ksvCJ1N4DnJP",
        "colab_type": "code",
        "colab": {
          "base_uri": "https://localhost:8080/",
          "height": 84
        },
        "outputId": "fb516a4d-7699-451f-9fba-cd33afcdd20d"
      },
      "cell_type": "code",
      "source": [
        "svm_clf"
      ],
      "execution_count": 254,
      "outputs": [
        {
          "output_type": "execute_result",
          "data": {
            "text/plain": [
              "SVC(C=1, cache_size=200, class_weight=None, coef0=0.0,\n",
              "  decision_function_shape='ovr', degree=3, gamma=0.01, kernel='rbf',\n",
              "  max_iter=-1, probability=False, random_state=None, shrinking=True,\n",
              "  tol=0.001, verbose=False)"
            ]
          },
          "metadata": {
            "tags": []
          },
          "execution_count": 254
        }
      ]
    },
    {
      "metadata": {
        "id": "X8C2Yxierd0N",
        "colab_type": "code",
        "outputId": "e0082908-02a8-465b-f0e0-ce8b3434129a",
        "colab": {
          "base_uri": "https://localhost:8080/",
          "height": 225
        }
      },
      "cell_type": "code",
      "source": [
        "test_pred = pd.DataFrame(svm_clf.predict(test_data), columns=['Survived'])\n",
        "test_pred['PassengerId'] = test_data.index\n",
        "test_submit_svm = test_pred.copy(deep=True)\n",
        "test_submit_svm = test_submit_svm[['PassengerId', 'Survived']]\n",
        "test_submit_svm = test_submit_svm.set_index('PassengerId')\n",
        "test_submit_svm.head()"
      ],
      "execution_count": 255,
      "outputs": [
        {
          "output_type": "execute_result",
          "data": {
            "text/html": [
              "<div>\n",
              "<style scoped>\n",
              "    .dataframe tbody tr th:only-of-type {\n",
              "        vertical-align: middle;\n",
              "    }\n",
              "\n",
              "    .dataframe tbody tr th {\n",
              "        vertical-align: top;\n",
              "    }\n",
              "\n",
              "    .dataframe thead th {\n",
              "        text-align: right;\n",
              "    }\n",
              "</style>\n",
              "<table border=\"1\" class=\"dataframe\">\n",
              "  <thead>\n",
              "    <tr style=\"text-align: right;\">\n",
              "      <th></th>\n",
              "      <th>Survived</th>\n",
              "    </tr>\n",
              "    <tr>\n",
              "      <th>PassengerId</th>\n",
              "      <th></th>\n",
              "    </tr>\n",
              "  </thead>\n",
              "  <tbody>\n",
              "    <tr>\n",
              "      <th>892</th>\n",
              "      <td>0</td>\n",
              "    </tr>\n",
              "    <tr>\n",
              "      <th>893</th>\n",
              "      <td>0</td>\n",
              "    </tr>\n",
              "    <tr>\n",
              "      <th>894</th>\n",
              "      <td>0</td>\n",
              "    </tr>\n",
              "    <tr>\n",
              "      <th>895</th>\n",
              "      <td>0</td>\n",
              "    </tr>\n",
              "    <tr>\n",
              "      <th>896</th>\n",
              "      <td>0</td>\n",
              "    </tr>\n",
              "  </tbody>\n",
              "</table>\n",
              "</div>"
            ],
            "text/plain": [
              "             Survived\n",
              "PassengerId          \n",
              "892                 0\n",
              "893                 0\n",
              "894                 0\n",
              "895                 0\n",
              "896                 0"
            ]
          },
          "metadata": {
            "tags": []
          },
          "execution_count": 255
        }
      ]
    },
    {
      "metadata": {
        "id": "YvOJdQwPRCt5",
        "colab_type": "code",
        "colab": {}
      },
      "cell_type": "code",
      "source": [
        "test_submit_svm.to_csv('test_svm_5.csv')"
      ],
      "execution_count": 0,
      "outputs": []
    },
    {
      "metadata": {
        "id": "BEYBgEHZcO9o",
        "colab_type": "text"
      },
      "cell_type": "markdown",
      "source": [
        "# Random Forests"
      ]
    },
    {
      "metadata": {
        "id": "hButTfULS3jA",
        "colab_type": "code",
        "outputId": "3f9e122c-a4ce-4f55-afe9-c9454bacf75c",
        "colab": {
          "base_uri": "https://localhost:8080/",
          "height": 229
        }
      },
      "cell_type": "code",
      "source": [
        "from sklearn.ensemble import RandomForestClassifier\n",
        "from sklearn.model_selection import GridSearchCV\n",
        "import warnings\n",
        "warnings.filterwarnings('ignore')\n",
        "\n",
        "# Create the parameter grid based on the results of random search \n",
        "param_grid = {\n",
        "    'bootstrap': [True],\n",
        "    'criterion' :['entropy', 'gini'],\n",
        "    'max_depth': [3,5,8,10,15],\n",
        "    'max_features': ['auto', 'sqrt', 'log2'],\n",
        "#     'min_samples_leaf': [3, 4, 5],\n",
        "#     'min_samples_split': [8, 10, 12],\n",
        "    'n_estimators': [10, 15, 20, 25, 50, 100]\n",
        "}\n",
        "# Create a based model\n",
        "random_forest = RandomForestClassifier()\n",
        "# Instantiate the grid search model\n",
        "grid_search = GridSearchCV(estimator = random_forest, param_grid = param_grid, \n",
        "                          cv = 5, n_jobs = -1, verbose = 0, )\n",
        "\n",
        "\n",
        "# Fit the grid search to the data\n",
        "print(train_data.shape)\n",
        "grid_search.fit(train_data.iloc[:, 1:], train_data.iloc[:,0])\n",
        "best_params_rf = grid_search.best_params_\n",
        "random_forest = grid_search.best_estimator_\n",
        "best_score = grid_search.best_score_\n",
        "print('Best Parameters: ', best_params_rf)\n",
        "\n",
        "pd.DataFrame.from_dict(grid_search.cv_results_)[['mean_test_score', 'std_test_score', 'mean_train_score']].sort_values(by='mean_test_score', ascending=False).head()*100\n",
        "# grid_search.cv_results_['mean_test_score'], grid_search.cv_results_['std_test_score']\n",
        "# print('#####################################\\n')\n",
        "# print('Train_Accuracy: ', np.round(random_forest.score(x_train, y_train)*100,2), ' %')\n",
        "# print('Validation_Accuracy: ', np.round(random_forest.score(x_vali, y_vali)*100,2), ' %')\n",
        "\n",
        "\n",
        "# print('\\nTrain ROC AUC: ', metrics.roc_auc_score(y_train, random_forest.predict_proba(x_train)[:,1]), \\\n",
        "#       '|| Validation ROC AUC: ', metrics.roc_auc_score(y_vali, random_forest.predict_proba(x_vali)[:, 1]))"
      ],
      "execution_count": 246,
      "outputs": [
        {
          "output_type": "stream",
          "text": [
            "(891, 20)\n",
            "Best Parameters:  {'bootstrap': True, 'criterion': 'entropy', 'max_depth': 5, 'max_features': 'sqrt', 'n_estimators': 25}\n"
          ],
          "name": "stdout"
        },
        {
          "output_type": "execute_result",
          "data": {
            "text/html": [
              "<div>\n",
              "<style scoped>\n",
              "    .dataframe tbody tr th:only-of-type {\n",
              "        vertical-align: middle;\n",
              "    }\n",
              "\n",
              "    .dataframe tbody tr th {\n",
              "        vertical-align: top;\n",
              "    }\n",
              "\n",
              "    .dataframe thead th {\n",
              "        text-align: right;\n",
              "    }\n",
              "</style>\n",
              "<table border=\"1\" class=\"dataframe\">\n",
              "  <thead>\n",
              "    <tr style=\"text-align: right;\">\n",
              "      <th></th>\n",
              "      <th>mean_test_score</th>\n",
              "      <th>std_test_score</th>\n",
              "      <th>mean_train_score</th>\n",
              "    </tr>\n",
              "  </thead>\n",
              "  <tbody>\n",
              "    <tr>\n",
              "      <th>27</th>\n",
              "      <td>83.277217</td>\n",
              "      <td>1.778424</td>\n",
              "      <td>85.634630</td>\n",
              "    </tr>\n",
              "    <tr>\n",
              "      <th>120</th>\n",
              "      <td>83.052750</td>\n",
              "      <td>2.186000</td>\n",
              "      <td>85.213637</td>\n",
              "    </tr>\n",
              "    <tr>\n",
              "      <th>114</th>\n",
              "      <td>83.052750</td>\n",
              "      <td>2.162427</td>\n",
              "      <td>85.129249</td>\n",
              "    </tr>\n",
              "    <tr>\n",
              "      <th>125</th>\n",
              "      <td>83.052750</td>\n",
              "      <td>1.359629</td>\n",
              "      <td>85.494102</td>\n",
              "    </tr>\n",
              "    <tr>\n",
              "      <th>101</th>\n",
              "      <td>83.052750</td>\n",
              "      <td>2.608954</td>\n",
              "      <td>83.754261</td>\n",
              "    </tr>\n",
              "  </tbody>\n",
              "</table>\n",
              "</div>"
            ],
            "text/plain": [
              "     mean_test_score  std_test_score  mean_train_score\n",
              "27         83.277217        1.778424         85.634630\n",
              "120        83.052750        2.186000         85.213637\n",
              "114        83.052750        2.162427         85.129249\n",
              "125        83.052750        1.359629         85.494102\n",
              "101        83.052750        2.608954         83.754261"
            ]
          },
          "metadata": {
            "tags": []
          },
          "execution_count": 246
        }
      ]
    },
    {
      "metadata": {
        "id": "IMAKJ2oJ6ao8",
        "colab_type": "code",
        "colab": {
          "base_uri": "https://localhost:8080/",
          "height": 282
        },
        "outputId": "31608835-2bdc-4630-8f57-e97dce93c4a4"
      },
      "cell_type": "code",
      "source": [
        "features = train_data.columns[1: ]\n",
        "importances = random_forest.feature_importances_\n",
        "imp_df = pd.DataFrame()\n",
        "imp_df['Feature'] = features\n",
        "imp_df['Importance'] = np.round(importances*100,1)\n",
        "imp_df.sort_values(by='Importance', ascending=1).set_index('Feature').plot(kind='barh', color='k')"
      ],
      "execution_count": 247,
      "outputs": [
        {
          "output_type": "execute_result",
          "data": {
            "text/plain": [
              "<matplotlib.axes._subplots.AxesSubplot at 0x7fb1529b3198>"
            ]
          },
          "metadata": {
            "tags": []
          },
          "execution_count": 247
        },
        {
          "output_type": "display_data",
          "data": {
            "image/png": "[encoded data removed]",
            "text/plain": [
              "<matplotlib.figure.Figure at 0x7fb152b6fdd8>"
            ]
          },
          "metadata": {
            "tags": []
          }
        }
      ]
    },
    {
      "metadata": {
        "id": "x0fLceg0csX4",
        "colab_type": "code",
        "outputId": "c5105c1b-a63c-47b9-873a-1e624936da81",
        "colab": {
          "base_uri": "https://localhost:8080/",
          "height": 225
        }
      },
      "cell_type": "code",
      "source": [
        "test_pred = pd.DataFrame(random_forest.predict(test_data), columns=['Survived'])\n",
        "test_pred['PassengerId'] = test_data.index\n",
        "test_submit_rf = test_pred.copy(deep=True)\n",
        "test_submit_rf = test_submit_rf[['PassengerId', 'Survived']]\n",
        "# test_submit_svm = test_submit_svm.reset_index()\n",
        "test_submit_rf = test_submit_rf.set_index('PassengerId')\n",
        "test_submit_rf.head()"
      ],
      "execution_count": 244,
      "outputs": [
        {
          "output_type": "execute_result",
          "data": {
            "text/html": [
              "<div>\n",
              "<style scoped>\n",
              "    .dataframe tbody tr th:only-of-type {\n",
              "        vertical-align: middle;\n",
              "    }\n",
              "\n",
              "    .dataframe tbody tr th {\n",
              "        vertical-align: top;\n",
              "    }\n",
              "\n",
              "    .dataframe thead th {\n",
              "        text-align: right;\n",
              "    }\n",
              "</style>\n",
              "<table border=\"1\" class=\"dataframe\">\n",
              "  <thead>\n",
              "    <tr style=\"text-align: right;\">\n",
              "      <th></th>\n",
              "      <th>Survived</th>\n",
              "    </tr>\n",
              "    <tr>\n",
              "      <th>PassengerId</th>\n",
              "      <th></th>\n",
              "    </tr>\n",
              "  </thead>\n",
              "  <tbody>\n",
              "    <tr>\n",
              "      <th>892</th>\n",
              "      <td>0</td>\n",
              "    </tr>\n",
              "    <tr>\n",
              "      <th>893</th>\n",
              "      <td>1</td>\n",
              "    </tr>\n",
              "    <tr>\n",
              "      <th>894</th>\n",
              "      <td>0</td>\n",
              "    </tr>\n",
              "    <tr>\n",
              "      <th>895</th>\n",
              "      <td>0</td>\n",
              "    </tr>\n",
              "    <tr>\n",
              "      <th>896</th>\n",
              "      <td>1</td>\n",
              "    </tr>\n",
              "  </tbody>\n",
              "</table>\n",
              "</div>"
            ],
            "text/plain": [
              "             Survived\n",
              "PassengerId          \n",
              "892                 0\n",
              "893                 1\n",
              "894                 0\n",
              "895                 0\n",
              "896                 1"
            ]
          },
          "metadata": {
            "tags": []
          },
          "execution_count": 244
        }
      ]
    },
    {
      "metadata": {
        "id": "z8ua-esGgHou",
        "colab_type": "code",
        "colab": {}
      },
      "cell_type": "code",
      "source": [
        "test_submit_rf.to_csv('test_rf_4.csv')"
      ],
      "execution_count": 0,
      "outputs": []
    },
    {
      "metadata": {
        "id": "Clp0l_qVEBXg",
        "colab_type": "text"
      },
      "cell_type": "markdown",
      "source": [
        "# XgBoost"
      ]
    },
    {
      "metadata": {
        "id": "KMJC6qIfgbwK",
        "colab_type": "code",
        "colab": {
          "base_uri": "https://localhost:8080/",
          "height": 296
        },
        "outputId": "0b1562a0-d33d-443e-ed44-05e86e36ba4c"
      },
      "cell_type": "code",
      "source": [
        "import xgboost\n",
        "\n",
        "# Create the parameter grid based on the results of random search \n",
        "param_grid = {\n",
        "#     'bootstrap': [True],\n",
        "#     'criterion' :['entropy', 'gini'],\n",
        "    'max_depth': [3,5,10,15],\n",
        "    'colsample_bytree' :[0.7, 0.8, 0.9, 1.0],\n",
        "    'learning_rate': [0.01, 0.02, 0.05, 0.1],\n",
        "#     'max_features': ['auto', 'sqrt', 'log2'],\n",
        "#     'min_samples_leaf': [3, 4, 5],\n",
        "#     'min_samples_split': [8, 10, 12],\n",
        "    'n_estimators': [10, 25, 50, 100],\n",
        "    'gamma': [0,1,5],\n",
        "}\n",
        "# Create a based model\n",
        "xgb = xgboost.XGBClassifier(n_jobs=-1, random_state=3, )\n",
        "# Instantiate the grid search model\n",
        "grid_search = GridSearchCV(estimator = xgb, param_grid = param_grid, \n",
        "                          cv = 5, n_jobs = -1, verbose = 1, )\n",
        "\n",
        "\n",
        "# Fit the grid search to the data\n",
        "train_x = np.array(train_data.drop(columns=['Survived']))\n",
        "print(train_x.shape)\n",
        "grid_search.fit(train_x, train_data['Survived'])\n",
        "best_params_xgb = grid_search.best_params_\n",
        "xgb = grid_search.best_estimator_\n",
        "best_score = grid_search.best_score_\n",
        "print('Best Parameters: ', best_params_xgb)\n",
        "\n",
        "pd.DataFrame.from_dict(grid_search.cv_results_)[['mean_test_score', 'std_test_score', 'mean_train_score']].sort_values(by='mean_test_score', ascending=False).head()*100"
      ],
      "execution_count": 270,
      "outputs": [
        {
          "output_type": "stream",
          "text": [
            "(891, 19)\n",
            "Fitting 5 folds for each of 768 candidates, totalling 3840 fits\n"
          ],
          "name": "stdout"
        },
        {
          "output_type": "stream",
          "text": [
            "[Parallel(n_jobs=-1)]: Done 676 tasks      | elapsed:   18.7s\n",
            "[Parallel(n_jobs=-1)]: Done 2060 tasks      | elapsed:  1.0min\n"
          ],
          "name": "stderr"
        },
        {
          "output_type": "stream",
          "text": [
            "Best Parameters:  {'colsample_bytree': 0.9, 'gamma': 1, 'learning_rate': 0.1, 'max_depth': 10, 'n_estimators': 50}\n"
          ],
          "name": "stdout"
        },
        {
          "output_type": "stream",
          "text": [
            "[Parallel(n_jobs=-1)]: Done 3840 out of 3840 | elapsed:  2.1min finished\n"
          ],
          "name": "stderr"
        },
        {
          "output_type": "execute_result",
          "data": {
            "text/html": [
              "<div>\n",
              "<style scoped>\n",
              "    .dataframe tbody tr th:only-of-type {\n",
              "        vertical-align: middle;\n",
              "    }\n",
              "\n",
              "    .dataframe tbody tr th {\n",
              "        vertical-align: top;\n",
              "    }\n",
              "\n",
              "    .dataframe thead th {\n",
              "        text-align: right;\n",
              "    }\n",
              "</style>\n",
              "<table border=\"1\" class=\"dataframe\">\n",
              "  <thead>\n",
              "    <tr style=\"text-align: right;\">\n",
              "      <th></th>\n",
              "      <th>mean_test_score</th>\n",
              "      <th>std_test_score</th>\n",
              "      <th>mean_train_score</th>\n",
              "    </tr>\n",
              "  </thead>\n",
              "  <tbody>\n",
              "    <tr>\n",
              "      <th>506</th>\n",
              "      <td>83.838384</td>\n",
              "      <td>1.760822</td>\n",
              "      <td>89.815103</td>\n",
              "    </tr>\n",
              "    <tr>\n",
              "      <th>687</th>\n",
              "      <td>83.501684</td>\n",
              "      <td>1.493734</td>\n",
              "      <td>89.871164</td>\n",
              "    </tr>\n",
              "    <tr>\n",
              "      <th>631</th>\n",
              "      <td>83.501684</td>\n",
              "      <td>2.760349</td>\n",
              "      <td>90.095530</td>\n",
              "    </tr>\n",
              "    <tr>\n",
              "      <th>679</th>\n",
              "      <td>83.501684</td>\n",
              "      <td>2.145012</td>\n",
              "      <td>87.261640</td>\n",
              "    </tr>\n",
              "    <tr>\n",
              "      <th>699</th>\n",
              "      <td>83.501684</td>\n",
              "      <td>1.893003</td>\n",
              "      <td>89.730873</td>\n",
              "    </tr>\n",
              "  </tbody>\n",
              "</table>\n",
              "</div>"
            ],
            "text/plain": [
              "     mean_test_score  std_test_score  mean_train_score\n",
              "506        83.838384        1.760822         89.815103\n",
              "687        83.501684        1.493734         89.871164\n",
              "631        83.501684        2.760349         90.095530\n",
              "679        83.501684        2.145012         87.261640\n",
              "699        83.501684        1.893003         89.730873"
            ]
          },
          "metadata": {
            "tags": []
          },
          "execution_count": 270
        }
      ]
    },
    {
      "metadata": {
        "id": "x7J4bxWtC9Co",
        "colab_type": "code",
        "colab": {
          "base_uri": "https://localhost:8080/",
          "height": 225
        },
        "outputId": "52f2dbba-cb4d-4575-b061-365ff498f731"
      },
      "cell_type": "code",
      "source": [
        "test_pred = pd.DataFrame(xgb.predict(np.array(test_data)), columns=['Survived'])\n",
        "test_pred['PassengerId'] = test_data.index\n",
        "test_submit_xgb = test_pred.copy(deep=True)\n",
        "test_submit_xgb = test_submit_xgb[['PassengerId', 'Survived']]\n",
        "# test_submit_svm = test_submit_svm.reset_index()\n",
        "test_submit_xgb = test_submit_xgb.set_index('PassengerId')\n",
        "test_submit_xgb.head()"
      ],
      "execution_count": 271,
      "outputs": [
        {
          "output_type": "execute_result",
          "data": {
            "text/html": [
              "<div>\n",
              "<style scoped>\n",
              "    .dataframe tbody tr th:only-of-type {\n",
              "        vertical-align: middle;\n",
              "    }\n",
              "\n",
              "    .dataframe tbody tr th {\n",
              "        vertical-align: top;\n",
              "    }\n",
              "\n",
              "    .dataframe thead th {\n",
              "        text-align: right;\n",
              "    }\n",
              "</style>\n",
              "<table border=\"1\" class=\"dataframe\">\n",
              "  <thead>\n",
              "    <tr style=\"text-align: right;\">\n",
              "      <th></th>\n",
              "      <th>Survived</th>\n",
              "    </tr>\n",
              "    <tr>\n",
              "      <th>PassengerId</th>\n",
              "      <th></th>\n",
              "    </tr>\n",
              "  </thead>\n",
              "  <tbody>\n",
              "    <tr>\n",
              "      <th>892</th>\n",
              "      <td>0</td>\n",
              "    </tr>\n",
              "    <tr>\n",
              "      <th>893</th>\n",
              "      <td>1</td>\n",
              "    </tr>\n",
              "    <tr>\n",
              "      <th>894</th>\n",
              "      <td>0</td>\n",
              "    </tr>\n",
              "    <tr>\n",
              "      <th>895</th>\n",
              "      <td>0</td>\n",
              "    </tr>\n",
              "    <tr>\n",
              "      <th>896</th>\n",
              "      <td>1</td>\n",
              "    </tr>\n",
              "  </tbody>\n",
              "</table>\n",
              "</div>"
            ],
            "text/plain": [
              "             Survived\n",
              "PassengerId          \n",
              "892                 0\n",
              "893                 1\n",
              "894                 0\n",
              "895                 0\n",
              "896                 1"
            ]
          },
          "metadata": {
            "tags": []
          },
          "execution_count": 271
        }
      ]
    },
    {
      "metadata": {
        "id": "VyRDF0slI08D",
        "colab_type": "code",
        "colab": {}
      },
      "cell_type": "code",
      "source": [
        "test_submit_xgb.to_csv('test_xgb.csv')"
      ],
      "execution_count": 0,
      "outputs": []
    },
    {
      "metadata": {
        "id": "oVVj7dq0I6of",
        "colab_type": "code",
        "colab": {}
      },
      "cell_type": "code",
      "source": [
        ""
      ],
      "execution_count": 0,
      "outputs": []
    }
  ]
}