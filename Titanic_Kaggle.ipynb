{
  "nbformat": 4,
  "nbformat_minor": 0,
  "metadata": {
    "colab": {
      "name": "Titanic_Kaggle.ipynb",
      "version": "0.3.2",
      "provenance": [],
      "toc_visible": true,
      "include_colab_link": true
    },
    "kernelspec": {
      "name": "python3",
      "display_name": "Python 3"
    }
  },
  "cells": [
    {
      "cell_type": "markdown",
      "metadata": {
        "id": "view-in-github",
        "colab_type": "text"
      },
      "source": [
        "<a href=\"https://colab.research.google.com/github/Pritishsingla/Titanic_kaggle/blob/master/Titanic_Kaggle.ipynb\" target=\"_parent\"><img src=\"https://colab.research.google.com/assets/colab-badge.svg\" alt=\"Open In Colab\"/></a>"
      ]
    },
    {
      "metadata": {
        "id": "KAd3li1bX_HW",
        "colab_type": "code",
        "colab": {}
      },
      "cell_type": "code",
      "source": [
        "import pandas as pd\n",
        "import numpy as np\n",
        "import time\n",
        "import matplotlib.pyplot as plt\n",
        "import tqdm\n",
        "import sklearn\n",
        "import datetime\n",
        "import pickle as pkl\n",
        "import random\n",
        "import regex as re\n",
        "%matplotlib inline"
      ],
      "execution_count": 0,
      "outputs": []
    },
    {
      "metadata": {
        "id": "wBwMHn0laOlp",
        "colab_type": "text"
      },
      "cell_type": "markdown",
      "source": [
        "# Loading Data"
      ]
    },
    {
      "metadata": {
        "id": "4qeevEHIYUqq",
        "colab_type": "code",
        "outputId": "e1b04a2a-515e-4d39-c99e-6596a2594800",
        "colab": {
          "base_uri": "https://localhost:8080/",
          "height": 246
        }
      },
      "cell_type": "code",
      "source": [
        "train = pd.read_csv('train.csv')\n",
        "test = pd.read_csv('test.csv')\n",
        "print(train.shape, test.shape)\n",
        "train.head()"
      ],
      "execution_count": 0,
      "outputs": [
        {
          "output_type": "stream",
          "text": [
            "(891, 12) (418, 11)\n"
          ],
          "name": "stdout"
        },
        {
          "output_type": "execute_result",
          "data": {
            "text/html": [
              "<div>\n",
              "<style scoped>\n",
              "    .dataframe tbody tr th:only-of-type {\n",
              "        vertical-align: middle;\n",
              "    }\n",
              "\n",
              "    .dataframe tbody tr th {\n",
              "        vertical-align: top;\n",
              "    }\n",
              "\n",
              "    .dataframe thead th {\n",
              "        text-align: right;\n",
              "    }\n",
              "</style>\n",
              "<table border=\"1\" class=\"dataframe\">\n",
              "  <thead>\n",
              "    <tr style=\"text-align: right;\">\n",
              "      <th></th>\n",
              "      <th>PassengerId</th>\n",
              "      <th>Survived</th>\n",
              "      <th>Pclass</th>\n",
              "      <th>Name</th>\n",
              "      <th>Sex</th>\n",
              "      <th>Age</th>\n",
              "      <th>SibSp</th>\n",
              "      <th>Parch</th>\n",
              "      <th>Ticket</th>\n",
              "      <th>Fare</th>\n",
              "      <th>Cabin</th>\n",
              "      <th>Embarked</th>\n",
              "    </tr>\n",
              "  </thead>\n",
              "  <tbody>\n",
              "    <tr>\n",
              "      <th>0</th>\n",
              "      <td>1</td>\n",
              "      <td>0</td>\n",
              "      <td>3</td>\n",
              "      <td>Braund, Mr. Owen Harris</td>\n",
              "      <td>male</td>\n",
              "      <td>22.0</td>\n",
              "      <td>1</td>\n",
              "      <td>0</td>\n",
              "      <td>A/5 21171</td>\n",
              "      <td>7.2500</td>\n",
              "      <td>NaN</td>\n",
              "      <td>S</td>\n",
              "    </tr>\n",
              "    <tr>\n",
              "      <th>1</th>\n",
              "      <td>2</td>\n",
              "      <td>1</td>\n",
              "      <td>1</td>\n",
              "      <td>Cumings, Mrs. John Bradley (Florence Briggs Th...</td>\n",
              "      <td>female</td>\n",
              "      <td>38.0</td>\n",
              "      <td>1</td>\n",
              "      <td>0</td>\n",
              "      <td>PC 17599</td>\n",
              "      <td>71.2833</td>\n",
              "      <td>C85</td>\n",
              "      <td>C</td>\n",
              "    </tr>\n",
              "    <tr>\n",
              "      <th>2</th>\n",
              "      <td>3</td>\n",
              "      <td>1</td>\n",
              "      <td>3</td>\n",
              "      <td>Heikkinen, Miss. Laina</td>\n",
              "      <td>female</td>\n",
              "      <td>26.0</td>\n",
              "      <td>0</td>\n",
              "      <td>0</td>\n",
              "      <td>STON/O2. 3101282</td>\n",
              "      <td>7.9250</td>\n",
              "      <td>NaN</td>\n",
              "      <td>S</td>\n",
              "    </tr>\n",
              "    <tr>\n",
              "      <th>3</th>\n",
              "      <td>4</td>\n",
              "      <td>1</td>\n",
              "      <td>1</td>\n",
              "      <td>Futrelle, Mrs. Jacques Heath (Lily May Peel)</td>\n",
              "      <td>female</td>\n",
              "      <td>35.0</td>\n",
              "      <td>1</td>\n",
              "      <td>0</td>\n",
              "      <td>113803</td>\n",
              "      <td>53.1000</td>\n",
              "      <td>C123</td>\n",
              "      <td>S</td>\n",
              "    </tr>\n",
              "    <tr>\n",
              "      <th>4</th>\n",
              "      <td>5</td>\n",
              "      <td>0</td>\n",
              "      <td>3</td>\n",
              "      <td>Allen, Mr. William Henry</td>\n",
              "      <td>male</td>\n",
              "      <td>35.0</td>\n",
              "      <td>0</td>\n",
              "      <td>0</td>\n",
              "      <td>373450</td>\n",
              "      <td>8.0500</td>\n",
              "      <td>NaN</td>\n",
              "      <td>S</td>\n",
              "    </tr>\n",
              "  </tbody>\n",
              "</table>\n",
              "</div>"
            ],
            "text/plain": [
              "   PassengerId  Survived  Pclass  \\\n",
              "0            1         0       3   \n",
              "1            2         1       1   \n",
              "2            3         1       3   \n",
              "3            4         1       1   \n",
              "4            5         0       3   \n",
              "\n",
              "                                                Name     Sex   Age  SibSp  \\\n",
              "0                            Braund, Mr. Owen Harris    male  22.0      1   \n",
              "1  Cumings, Mrs. John Bradley (Florence Briggs Th...  female  38.0      1   \n",
              "2                             Heikkinen, Miss. Laina  female  26.0      0   \n",
              "3       Futrelle, Mrs. Jacques Heath (Lily May Peel)  female  35.0      1   \n",
              "4                           Allen, Mr. William Henry    male  35.0      0   \n",
              "\n",
              "   Parch            Ticket     Fare Cabin Embarked  \n",
              "0      0         A/5 21171   7.2500   NaN        S  \n",
              "1      0          PC 17599  71.2833   C85        C  \n",
              "2      0  STON/O2. 3101282   7.9250   NaN        S  \n",
              "3      0            113803  53.1000  C123        S  \n",
              "4      0            373450   8.0500   NaN        S  "
            ]
          },
          "metadata": {
            "tags": []
          },
          "execution_count": 2
        }
      ]
    },
    {
      "metadata": {
        "id": "J-pgHeBCaUVo",
        "colab_type": "text"
      },
      "cell_type": "markdown",
      "source": [
        "# Data Exploration"
      ]
    },
    {
      "metadata": {
        "id": "uk53Y9fYYgIs",
        "colab_type": "code",
        "outputId": "0a8e9bc7-8590-40f3-c486-f8e6e6d7e999",
        "colab": {
          "base_uri": "https://localhost:8080/",
          "height": 235
        }
      },
      "cell_type": "code",
      "source": [
        "train.dtypes"
      ],
      "execution_count": 0,
      "outputs": [
        {
          "output_type": "execute_result",
          "data": {
            "text/plain": [
              "PassengerId      int64\n",
              "Survived         int64\n",
              "Pclass           int64\n",
              "Name            object\n",
              "Sex             object\n",
              "Age            float64\n",
              "SibSp            int64\n",
              "Parch            int64\n",
              "Ticket          object\n",
              "Fare           float64\n",
              "Cabin           object\n",
              "Embarked        object\n",
              "dtype: object"
            ]
          },
          "metadata": {
            "tags": []
          },
          "execution_count": 3
        }
      ]
    },
    {
      "metadata": {
        "id": "yFJMLkZ3YkpK",
        "colab_type": "code",
        "outputId": "97f2a776-2d68-41b8-cdb5-e7dc2f31a9aa",
        "colab": {
          "base_uri": "https://localhost:8080/",
          "height": 235
        }
      },
      "cell_type": "code",
      "source": [
        "train.count()"
      ],
      "execution_count": 0,
      "outputs": [
        {
          "output_type": "execute_result",
          "data": {
            "text/plain": [
              "PassengerId    891\n",
              "Survived       891\n",
              "Pclass         891\n",
              "Name           891\n",
              "Sex            891\n",
              "Age            714\n",
              "SibSp          891\n",
              "Parch          891\n",
              "Ticket         891\n",
              "Fare           891\n",
              "Cabin          204\n",
              "Embarked       889\n",
              "dtype: int64"
            ]
          },
          "metadata": {
            "tags": []
          },
          "execution_count": 4
        }
      ]
    },
    {
      "metadata": {
        "id": "ch1SshveYnh5",
        "colab_type": "code",
        "outputId": "6ea318c8-59e0-45cb-c49f-84503f21d3cd",
        "colab": {
          "base_uri": "https://localhost:8080/",
          "height": 136
        }
      },
      "cell_type": "code",
      "source": [
        "train = train.set_index('PassengerId')\n",
        "train.head(2)"
      ],
      "execution_count": 0,
      "outputs": [
        {
          "output_type": "execute_result",
          "data": {
            "text/html": [
              "<div>\n",
              "<style scoped>\n",
              "    .dataframe tbody tr th:only-of-type {\n",
              "        vertical-align: middle;\n",
              "    }\n",
              "\n",
              "    .dataframe tbody tr th {\n",
              "        vertical-align: top;\n",
              "    }\n",
              "\n",
              "    .dataframe thead th {\n",
              "        text-align: right;\n",
              "    }\n",
              "</style>\n",
              "<table border=\"1\" class=\"dataframe\">\n",
              "  <thead>\n",
              "    <tr style=\"text-align: right;\">\n",
              "      <th></th>\n",
              "      <th>Survived</th>\n",
              "      <th>Pclass</th>\n",
              "      <th>Name</th>\n",
              "      <th>Sex</th>\n",
              "      <th>Age</th>\n",
              "      <th>SibSp</th>\n",
              "      <th>Parch</th>\n",
              "      <th>Ticket</th>\n",
              "      <th>Fare</th>\n",
              "      <th>Cabin</th>\n",
              "      <th>Embarked</th>\n",
              "    </tr>\n",
              "    <tr>\n",
              "      <th>PassengerId</th>\n",
              "      <th></th>\n",
              "      <th></th>\n",
              "      <th></th>\n",
              "      <th></th>\n",
              "      <th></th>\n",
              "      <th></th>\n",
              "      <th></th>\n",
              "      <th></th>\n",
              "      <th></th>\n",
              "      <th></th>\n",
              "      <th></th>\n",
              "    </tr>\n",
              "  </thead>\n",
              "  <tbody>\n",
              "    <tr>\n",
              "      <th>1</th>\n",
              "      <td>0</td>\n",
              "      <td>3</td>\n",
              "      <td>Braund, Mr. Owen Harris</td>\n",
              "      <td>male</td>\n",
              "      <td>22.0</td>\n",
              "      <td>1</td>\n",
              "      <td>0</td>\n",
              "      <td>A/5 21171</td>\n",
              "      <td>7.2500</td>\n",
              "      <td>NaN</td>\n",
              "      <td>S</td>\n",
              "    </tr>\n",
              "    <tr>\n",
              "      <th>2</th>\n",
              "      <td>1</td>\n",
              "      <td>1</td>\n",
              "      <td>Cumings, Mrs. John Bradley (Florence Briggs Th...</td>\n",
              "      <td>female</td>\n",
              "      <td>38.0</td>\n",
              "      <td>1</td>\n",
              "      <td>0</td>\n",
              "      <td>PC 17599</td>\n",
              "      <td>71.2833</td>\n",
              "      <td>C85</td>\n",
              "      <td>C</td>\n",
              "    </tr>\n",
              "  </tbody>\n",
              "</table>\n",
              "</div>"
            ],
            "text/plain": [
              "             Survived  Pclass  \\\n",
              "PassengerId                     \n",
              "1                   0       3   \n",
              "2                   1       1   \n",
              "\n",
              "                                                          Name     Sex   Age  \\\n",
              "PassengerId                                                                    \n",
              "1                                      Braund, Mr. Owen Harris    male  22.0   \n",
              "2            Cumings, Mrs. John Bradley (Florence Briggs Th...  female  38.0   \n",
              "\n",
              "             SibSp  Parch     Ticket     Fare Cabin Embarked  \n",
              "PassengerId                                                   \n",
              "1                1      0  A/5 21171   7.2500   NaN        S  \n",
              "2                1      0   PC 17599  71.2833   C85        C  "
            ]
          },
          "metadata": {
            "tags": []
          },
          "execution_count": 5
        }
      ]
    },
    {
      "metadata": {
        "id": "FrqgQDBQY0r8",
        "colab_type": "code",
        "outputId": "910f61e7-6dba-4819-fd3f-965d858fbe85",
        "colab": {
          "base_uri": "https://localhost:8080/",
          "height": 292
        }
      },
      "cell_type": "code",
      "source": [
        "train.groupby(['Pclass']).agg('mean')['Survived'].plot(kind='bar', color='k')"
      ],
      "execution_count": 0,
      "outputs": [
        {
          "output_type": "execute_result",
          "data": {
            "text/plain": [
              "<matplotlib.axes._subplots.AxesSubplot at 0x7fb15e812c18>"
            ]
          },
          "metadata": {
            "tags": []
          },
          "execution_count": 6
        },
        {
          "output_type": "display_data",
          "data": {
            "image/png": "[encoded data removed]",
            "text/plain": [
              "<matplotlib.figure.Figure at 0x7fb15e8123c8>"
            ]
          },
          "metadata": {
            "tags": []
          }
        }
      ]
    },
    {
      "metadata": {
        "id": "huH9cWn1ZLig",
        "colab_type": "code",
        "outputId": "0409d0dd-239e-4ae1-dde2-5af1f57d7c3a",
        "colab": {
          "base_uri": "https://localhost:8080/",
          "height": 316
        }
      },
      "cell_type": "code",
      "source": [
        "train.groupby(['Sex']).agg('mean')['Survived'].plot(kind='bar', color='k')"
      ],
      "execution_count": 0,
      "outputs": [
        {
          "output_type": "execute_result",
          "data": {
            "text/plain": [
              "<matplotlib.axes._subplots.AxesSubplot at 0x7fb15e812908>"
            ]
          },
          "metadata": {
            "tags": []
          },
          "execution_count": 7
        },
        {
          "output_type": "display_data",
          "data": {
            "image/png": "[encoded data removed]",
            "text/plain": [
              "<matplotlib.figure.Figure at 0x7fb15e7f3e48>"
            ]
          },
          "metadata": {
            "tags": []
          }
        }
      ]
    },
    {
      "metadata": {
        "id": "obaLAbrOZtXy",
        "colab_type": "code",
        "outputId": "28c49791-c07c-4374-8bc0-8d071cb962c2",
        "colab": {
          "base_uri": "https://localhost:8080/",
          "height": 410
        }
      },
      "cell_type": "code",
      "source": [
        "train.groupby('SibSp').agg('mean')['Survived'].plot(kind='bar', color='k')\n",
        "train.SibSp.value_counts()"
      ],
      "execution_count": 0,
      "outputs": [
        {
          "output_type": "execute_result",
          "data": {
            "text/plain": [
              "0    608\n",
              "1    209\n",
              "2     28\n",
              "4     18\n",
              "3     16\n",
              "8      7\n",
              "5      5\n",
              "Name: SibSp, dtype: int64"
            ]
          },
          "metadata": {
            "tags": []
          },
          "execution_count": 8
        },
        {
          "output_type": "display_data",
          "data": {
            "image/png": "[encoded data removed]",
            "text/plain": [
              "<matplotlib.figure.Figure at 0x7fb15becc3c8>"
            ]
          },
          "metadata": {
            "tags": []
          }
        }
      ]
    },
    {
      "metadata": {
        "id": "hS6FqMkOaVyW",
        "colab_type": "code",
        "outputId": "470c862a-1684-49de-d06b-091bab948ef0",
        "colab": {
          "base_uri": "https://localhost:8080/",
          "height": 410
        }
      },
      "cell_type": "code",
      "source": [
        "train.groupby('Parch').agg('mean')['Survived'].plot(kind='bar', color='k')\n",
        "train.Parch.value_counts()# group values"
      ],
      "execution_count": 0,
      "outputs": [
        {
          "output_type": "execute_result",
          "data": {
            "text/plain": [
              "0    678\n",
              "1    118\n",
              "2     80\n",
              "5      5\n",
              "3      5\n",
              "4      4\n",
              "6      1\n",
              "Name: Parch, dtype: int64"
            ]
          },
          "metadata": {
            "tags": []
          },
          "execution_count": 9
        },
        {
          "output_type": "display_data",
          "data": {
            "image/png": "[encoded data removed]",
            "text/plain": [
              "<matplotlib.figure.Figure at 0x7fb15bf05e48>"
            ]
          },
          "metadata": {
            "tags": []
          }
        }
      ]
    },
    {
      "metadata": {
        "id": "aWfDUYYoa4dx",
        "colab_type": "code",
        "outputId": "f7db5572-2e9c-4b7a-8cab-6b67ca7db22b",
        "colab": {
          "base_uri": "https://localhost:8080/",
          "height": 294
        }
      },
      "cell_type": "code",
      "source": [
        "train.groupby('Embarked').agg('mean')['Survived'].plot(kind='bar', color='k')"
      ],
      "execution_count": 0,
      "outputs": [
        {
          "output_type": "execute_result",
          "data": {
            "text/plain": [
              "<matplotlib.axes._subplots.AxesSubplot at 0x7fb15be30160>"
            ]
          },
          "metadata": {
            "tags": []
          },
          "execution_count": 10
        },
        {
          "output_type": "display_data",
          "data": {
            "image/png": "[encoded data removed]",
            "text/plain": [
              "<matplotlib.figure.Figure at 0x7fb15f2a27b8>"
            ]
          },
          "metadata": {
            "tags": []
          }
        }
      ]
    },
    {
      "metadata": {
        "id": "10azE618bXbE",
        "colab_type": "code",
        "outputId": "b0b5dca2-e902-4729-c73e-7059a12d8f88",
        "colab": {
          "base_uri": "https://localhost:8080/",
          "height": 286
        }
      },
      "cell_type": "code",
      "source": [
        "train['Fare_bin'] = pd.qcut(train['Fare'], q=10, labels=range(1, 10+1))\n",
        "train.groupby('Fare_bin').agg('mean')['Survived'].plot()"
      ],
      "execution_count": 0,
      "outputs": [
        {
          "output_type": "execute_result",
          "data": {
            "text/plain": [
              "<matplotlib.axes._subplots.AxesSubplot at 0x7fb15bd915f8>"
            ]
          },
          "metadata": {
            "tags": []
          },
          "execution_count": 11
        },
        {
          "output_type": "display_data",
          "data": {
            "image/png": "[encoded data removed]",
            "text/plain": [
              "<matplotlib.figure.Figure at 0x7fb15bd9d828>"
            ]
          },
          "metadata": {
            "tags": []
          }
        }
      ]
    },
    {
      "metadata": {
        "id": "kc25AYpEbdb8",
        "colab_type": "code",
        "outputId": "bf568e2a-f8b9-4fc3-cc80-9fad5607cf4c",
        "colab": {
          "base_uri": "https://localhost:8080/",
          "height": 274
        }
      },
      "cell_type": "code",
      "source": [
        "train['Age_bin'] = pd.qcut(train['Age'], q=10, labels=range(1,11))\n",
        "train.groupby('Age_bin').agg('mean')['Survived'].plot()\n",
        "train['Child_ind'] = train['Age'] <14.0"
      ],
      "execution_count": 0,
      "outputs": [
        {
          "output_type": "display_data",
          "data": {
            "image/png": "[encoded data removed]",
            "text/plain": [
              "<matplotlib.figure.Figure at 0x7fb15bdc6550>"
            ]
          },
          "metadata": {
            "tags": []
          }
        }
      ]
    },
    {
      "metadata": {
        "id": "FfVA1C0sc0W9",
        "colab_type": "code",
        "outputId": "b321ea76-c521-4393-e396-e7a9e7dc6d9a",
        "colab": {
          "base_uri": "https://localhost:8080/",
          "height": 445
        }
      },
      "cell_type": "code",
      "source": [
        "train['Cabin_2'] = train['Cabin'].apply(lambda x: x[0] if type(x)==str else 0)\n",
        "train.groupby('Cabin_2').agg('mean')['Survived'].plot(kind='bar', color='k')\n",
        "\n",
        "train.Cabin_2.value_counts()"
      ],
      "execution_count": 0,
      "outputs": [
        {
          "output_type": "execute_result",
          "data": {
            "text/plain": [
              "0    687\n",
              "C     59\n",
              "B     47\n",
              "D     33\n",
              "E     32\n",
              "A     15\n",
              "F     13\n",
              "G      4\n",
              "T      1\n",
              "Name: Cabin_2, dtype: int64"
            ]
          },
          "metadata": {
            "tags": []
          },
          "execution_count": 13
        },
        {
          "output_type": "display_data",
          "data": {
            "image/png": "[encoded data removed]",
            "text/plain": [
              "<matplotlib.figure.Figure at 0x7fb15bd536d8>"
            ]
          },
          "metadata": {
            "tags": []
          }
        }
      ]
    },
    {
      "metadata": {
        "id": "IfssTq6AdSP8",
        "colab_type": "code",
        "outputId": "1ed0c824-2825-421d-dfec-390f417b91ca",
        "colab": {
          "base_uri": "https://localhost:8080/",
          "height": 84
        }
      },
      "cell_type": "code",
      "source": [
        "train['Cabin_2'] = train['Cabin_2'].apply(lambda x: x if x not in ['F', 'G', 'T'] else 'Other')\n",
        "train['Surname'] = train['Name'].apply(lambda x: x.split(',')[0])\n",
        "train['Salutation'] = train['Name'].apply(lambda x: x.split(',')[1].split('.')[0][1:])\n",
        "train[[ 'Name', 'Surname', 'Salutation']].head()\n",
        "train.columns"
      ],
      "execution_count": 0,
      "outputs": [
        {
          "output_type": "execute_result",
          "data": {
            "text/plain": [
              "Index(['Survived', 'Pclass', 'Name', 'Sex', 'Age', 'SibSp', 'Parch', 'Ticket',\n",
              "       'Fare', 'Cabin', 'Embarked', 'Fare_bin', 'Age_bin', 'Child_ind',\n",
              "       'Cabin_2', 'Surname', 'Salutation'],\n",
              "      dtype='object')"
            ]
          },
          "metadata": {
            "tags": []
          },
          "execution_count": 14
        }
      ]
    },
    {
      "metadata": {
        "id": "lcLC2xDffh9p",
        "colab_type": "code",
        "outputId": "c3e500bc-e673-4cb8-a64a-cc2e59855a6d",
        "colab": {
          "base_uri": "https://localhost:8080/",
          "height": 166
        }
      },
      "cell_type": "code",
      "source": [
        "train['Salutation'].value_counts()\n",
        "train['Salutation'] = train['Salutation'].apply(lambda x: x if x in ['Mr', 'Miss', 'Master', 'Mrs'] else 'Other' )\n",
        "\n",
        "train['Name_len'] = train.Name.apply(lambda x: len(x.split(' '))-1)\n",
        "\n",
        "train['Nickname'] = train['Name'].apply(lambda x : 1 if '(' in x else 0)\n",
        "train[['Name', 'Name_len', 'Nickname']].head(3)"
      ],
      "execution_count": 0,
      "outputs": [
        {
          "output_type": "execute_result",
          "data": {
            "text/html": [
              "<div>\n",
              "<style scoped>\n",
              "    .dataframe tbody tr th:only-of-type {\n",
              "        vertical-align: middle;\n",
              "    }\n",
              "\n",
              "    .dataframe tbody tr th {\n",
              "        vertical-align: top;\n",
              "    }\n",
              "\n",
              "    .dataframe thead th {\n",
              "        text-align: right;\n",
              "    }\n",
              "</style>\n",
              "<table border=\"1\" class=\"dataframe\">\n",
              "  <thead>\n",
              "    <tr style=\"text-align: right;\">\n",
              "      <th></th>\n",
              "      <th>Name</th>\n",
              "      <th>Name_len</th>\n",
              "      <th>Nickname</th>\n",
              "    </tr>\n",
              "    <tr>\n",
              "      <th>PassengerId</th>\n",
              "      <th></th>\n",
              "      <th></th>\n",
              "      <th></th>\n",
              "    </tr>\n",
              "  </thead>\n",
              "  <tbody>\n",
              "    <tr>\n",
              "      <th>1</th>\n",
              "      <td>Braund, Mr. Owen Harris</td>\n",
              "      <td>3</td>\n",
              "      <td>0</td>\n",
              "    </tr>\n",
              "    <tr>\n",
              "      <th>2</th>\n",
              "      <td>Cumings, Mrs. John Bradley (Florence Briggs Th...</td>\n",
              "      <td>6</td>\n",
              "      <td>1</td>\n",
              "    </tr>\n",
              "    <tr>\n",
              "      <th>3</th>\n",
              "      <td>Heikkinen, Miss. Laina</td>\n",
              "      <td>2</td>\n",
              "      <td>0</td>\n",
              "    </tr>\n",
              "  </tbody>\n",
              "</table>\n",
              "</div>"
            ],
            "text/plain": [
              "                                                          Name  Name_len  \\\n",
              "PassengerId                                                                \n",
              "1                                      Braund, Mr. Owen Harris         3   \n",
              "2            Cumings, Mrs. John Bradley (Florence Briggs Th...         6   \n",
              "3                                       Heikkinen, Miss. Laina         2   \n",
              "\n",
              "             Nickname  \n",
              "PassengerId            \n",
              "1                   0  \n",
              "2                   1  \n",
              "3                   0  "
            ]
          },
          "metadata": {
            "tags": []
          },
          "execution_count": 15
        }
      ]
    },
    {
      "metadata": {
        "id": "UxvwISoQhcLk",
        "colab_type": "code",
        "outputId": "936ba361-33a5-490e-e0ad-45ae66d30799",
        "colab": {
          "base_uri": "https://localhost:8080/",
          "height": 294
        }
      },
      "cell_type": "code",
      "source": [
        "train.groupby('Nickname').agg('mean')['Survived'].plot(kind='bar', color='k')"
      ],
      "execution_count": 0,
      "outputs": [
        {
          "output_type": "execute_result",
          "data": {
            "text/plain": [
              "<matplotlib.axes._subplots.AxesSubplot at 0x7fb15bc89c18>"
            ]
          },
          "metadata": {
            "tags": []
          },
          "execution_count": 16
        },
        {
          "output_type": "display_data",
          "data": {
            "image/png": "[encoded data removed]",
            "text/plain": [
              "<matplotlib.figure.Figure at 0x7fb15bcd0780>"
            ]
          },
          "metadata": {
            "tags": []
          }
        }
      ]
    },
    {
      "metadata": {
        "id": "UyfrSChEqdtX",
        "colab_type": "code",
        "outputId": "3e5f30c0-93ae-42f4-cacb-11953dedec2e",
        "colab": {
          "base_uri": "https://localhost:8080/",
          "height": 134
        }
      },
      "cell_type": "code",
      "source": [
        "train.groupby('Salutation').agg('mean')['Age']"
      ],
      "execution_count": 0,
      "outputs": [
        {
          "output_type": "execute_result",
          "data": {
            "text/plain": [
              "Salutation\n",
              "Master     4.574167\n",
              "Miss      21.773973\n",
              "Mr        32.368090\n",
              "Mrs       35.898148\n",
              "Other     42.384615\n",
              "Name: Age, dtype: float64"
            ]
          },
          "metadata": {
            "tags": []
          },
          "execution_count": 17
        }
      ]
    },
    {
      "metadata": {
        "id": "9nqs-F-1rDRt",
        "colab_type": "code",
        "colab": {}
      },
      "cell_type": "code",
      "source": [
        "train['Age_null_ind'] = train.Age.isnull().astype(int)\n",
        "train['Age_estimated_ind'] = train.Age.apply(lambda x: x%1 >0).astype(int)"
      ],
      "execution_count": 0,
      "outputs": []
    },
    {
      "metadata": {
        "id": "bvqLkPc0rWMy",
        "colab_type": "code",
        "outputId": "d391a8b7-b311-4627-cfdf-2f500e887c37",
        "colab": {
          "base_uri": "https://localhost:8080/",
          "height": 618
        }
      },
      "cell_type": "code",
      "source": [
        "train[train.Age < 1]"
      ],
      "execution_count": 0,
      "outputs": [
        {
          "output_type": "execute_result",
          "data": {
            "text/html": [
              "<div>\n",
              "<style scoped>\n",
              "    .dataframe tbody tr th:only-of-type {\n",
              "        vertical-align: middle;\n",
              "    }\n",
              "\n",
              "    .dataframe tbody tr th {\n",
              "        vertical-align: top;\n",
              "    }\n",
              "\n",
              "    .dataframe thead th {\n",
              "        text-align: right;\n",
              "    }\n",
              "</style>\n",
              "<table border=\"1\" class=\"dataframe\">\n",
              "  <thead>\n",
              "    <tr style=\"text-align: right;\">\n",
              "      <th></th>\n",
              "      <th>Survived</th>\n",
              "      <th>Pclass</th>\n",
              "      <th>Name</th>\n",
              "      <th>Sex</th>\n",
              "      <th>Age</th>\n",
              "      <th>SibSp</th>\n",
              "      <th>Parch</th>\n",
              "      <th>Ticket</th>\n",
              "      <th>Fare</th>\n",
              "      <th>Cabin</th>\n",
              "      <th>...</th>\n",
              "      <th>Fare_bin</th>\n",
              "      <th>Age_bin</th>\n",
              "      <th>Child_ind</th>\n",
              "      <th>Cabin_2</th>\n",
              "      <th>Surname</th>\n",
              "      <th>Salutation</th>\n",
              "      <th>Name_len</th>\n",
              "      <th>Nickname</th>\n",
              "      <th>Age_null_ind</th>\n",
              "      <th>Age_estimated_ind</th>\n",
              "    </tr>\n",
              "    <tr>\n",
              "      <th>PassengerId</th>\n",
              "      <th></th>\n",
              "      <th></th>\n",
              "      <th></th>\n",
              "      <th></th>\n",
              "      <th></th>\n",
              "      <th></th>\n",
              "      <th></th>\n",
              "      <th></th>\n",
              "      <th></th>\n",
              "      <th></th>\n",
              "      <th></th>\n",
              "      <th></th>\n",
              "      <th></th>\n",
              "      <th></th>\n",
              "      <th></th>\n",
              "      <th></th>\n",
              "      <th></th>\n",
              "      <th></th>\n",
              "      <th></th>\n",
              "      <th></th>\n",
              "      <th></th>\n",
              "    </tr>\n",
              "  </thead>\n",
              "  <tbody>\n",
              "    <tr>\n",
              "      <th>79</th>\n",
              "      <td>1</td>\n",
              "      <td>2</td>\n",
              "      <td>Caldwell, Master. Alden Gates</td>\n",
              "      <td>male</td>\n",
              "      <td>0.83</td>\n",
              "      <td>0</td>\n",
              "      <td>2</td>\n",
              "      <td>248738</td>\n",
              "      <td>29.0000</td>\n",
              "      <td>NaN</td>\n",
              "      <td>...</td>\n",
              "      <td>8</td>\n",
              "      <td>1</td>\n",
              "      <td>True</td>\n",
              "      <td>0</td>\n",
              "      <td>Caldwell</td>\n",
              "      <td>Master</td>\n",
              "      <td>3</td>\n",
              "      <td>0</td>\n",
              "      <td>0</td>\n",
              "      <td>1</td>\n",
              "    </tr>\n",
              "    <tr>\n",
              "      <th>306</th>\n",
              "      <td>1</td>\n",
              "      <td>1</td>\n",
              "      <td>Allison, Master. Hudson Trevor</td>\n",
              "      <td>male</td>\n",
              "      <td>0.92</td>\n",
              "      <td>1</td>\n",
              "      <td>2</td>\n",
              "      <td>113781</td>\n",
              "      <td>151.5500</td>\n",
              "      <td>C22 C26</td>\n",
              "      <td>...</td>\n",
              "      <td>10</td>\n",
              "      <td>1</td>\n",
              "      <td>True</td>\n",
              "      <td>C</td>\n",
              "      <td>Allison</td>\n",
              "      <td>Master</td>\n",
              "      <td>3</td>\n",
              "      <td>0</td>\n",
              "      <td>0</td>\n",
              "      <td>1</td>\n",
              "    </tr>\n",
              "    <tr>\n",
              "      <th>470</th>\n",
              "      <td>1</td>\n",
              "      <td>3</td>\n",
              "      <td>Baclini, Miss. Helene Barbara</td>\n",
              "      <td>female</td>\n",
              "      <td>0.75</td>\n",
              "      <td>2</td>\n",
              "      <td>1</td>\n",
              "      <td>2666</td>\n",
              "      <td>19.2583</td>\n",
              "      <td>NaN</td>\n",
              "      <td>...</td>\n",
              "      <td>6</td>\n",
              "      <td>1</td>\n",
              "      <td>True</td>\n",
              "      <td>0</td>\n",
              "      <td>Baclini</td>\n",
              "      <td>Miss</td>\n",
              "      <td>3</td>\n",
              "      <td>0</td>\n",
              "      <td>0</td>\n",
              "      <td>1</td>\n",
              "    </tr>\n",
              "    <tr>\n",
              "      <th>645</th>\n",
              "      <td>1</td>\n",
              "      <td>3</td>\n",
              "      <td>Baclini, Miss. Eugenie</td>\n",
              "      <td>female</td>\n",
              "      <td>0.75</td>\n",
              "      <td>2</td>\n",
              "      <td>1</td>\n",
              "      <td>2666</td>\n",
              "      <td>19.2583</td>\n",
              "      <td>NaN</td>\n",
              "      <td>...</td>\n",
              "      <td>6</td>\n",
              "      <td>1</td>\n",
              "      <td>True</td>\n",
              "      <td>0</td>\n",
              "      <td>Baclini</td>\n",
              "      <td>Miss</td>\n",
              "      <td>2</td>\n",
              "      <td>0</td>\n",
              "      <td>0</td>\n",
              "      <td>1</td>\n",
              "    </tr>\n",
              "    <tr>\n",
              "      <th>756</th>\n",
              "      <td>1</td>\n",
              "      <td>2</td>\n",
              "      <td>Hamalainen, Master. Viljo</td>\n",
              "      <td>male</td>\n",
              "      <td>0.67</td>\n",
              "      <td>1</td>\n",
              "      <td>1</td>\n",
              "      <td>250649</td>\n",
              "      <td>14.5000</td>\n",
              "      <td>NaN</td>\n",
              "      <td>...</td>\n",
              "      <td>6</td>\n",
              "      <td>1</td>\n",
              "      <td>True</td>\n",
              "      <td>0</td>\n",
              "      <td>Hamalainen</td>\n",
              "      <td>Master</td>\n",
              "      <td>2</td>\n",
              "      <td>0</td>\n",
              "      <td>0</td>\n",
              "      <td>1</td>\n",
              "    </tr>\n",
              "    <tr>\n",
              "      <th>804</th>\n",
              "      <td>1</td>\n",
              "      <td>3</td>\n",
              "      <td>Thomas, Master. Assad Alexander</td>\n",
              "      <td>male</td>\n",
              "      <td>0.42</td>\n",
              "      <td>0</td>\n",
              "      <td>1</td>\n",
              "      <td>2625</td>\n",
              "      <td>8.5167</td>\n",
              "      <td>NaN</td>\n",
              "      <td>...</td>\n",
              "      <td>4</td>\n",
              "      <td>1</td>\n",
              "      <td>True</td>\n",
              "      <td>0</td>\n",
              "      <td>Thomas</td>\n",
              "      <td>Master</td>\n",
              "      <td>3</td>\n",
              "      <td>0</td>\n",
              "      <td>0</td>\n",
              "      <td>1</td>\n",
              "    </tr>\n",
              "    <tr>\n",
              "      <th>832</th>\n",
              "      <td>1</td>\n",
              "      <td>2</td>\n",
              "      <td>Richards, Master. George Sibley</td>\n",
              "      <td>male</td>\n",
              "      <td>0.83</td>\n",
              "      <td>1</td>\n",
              "      <td>1</td>\n",
              "      <td>29106</td>\n",
              "      <td>18.7500</td>\n",
              "      <td>NaN</td>\n",
              "      <td>...</td>\n",
              "      <td>6</td>\n",
              "      <td>1</td>\n",
              "      <td>True</td>\n",
              "      <td>0</td>\n",
              "      <td>Richards</td>\n",
              "      <td>Master</td>\n",
              "      <td>3</td>\n",
              "      <td>0</td>\n",
              "      <td>0</td>\n",
              "      <td>1</td>\n",
              "    </tr>\n",
              "  </tbody>\n",
              "</table>\n",
              "<p>7 rows × 21 columns</p>\n",
              "</div>"
            ],
            "text/plain": [
              "             Survived  Pclass                             Name     Sex   Age  \\\n",
              "PassengerId                                                                    \n",
              "79                  1       2    Caldwell, Master. Alden Gates    male  0.83   \n",
              "306                 1       1   Allison, Master. Hudson Trevor    male  0.92   \n",
              "470                 1       3    Baclini, Miss. Helene Barbara  female  0.75   \n",
              "645                 1       3           Baclini, Miss. Eugenie  female  0.75   \n",
              "756                 1       2        Hamalainen, Master. Viljo    male  0.67   \n",
              "804                 1       3  Thomas, Master. Assad Alexander    male  0.42   \n",
              "832                 1       2  Richards, Master. George Sibley    male  0.83   \n",
              "\n",
              "             SibSp  Parch  Ticket      Fare    Cabin        ...          \\\n",
              "PassengerId                                                 ...           \n",
              "79               0      2  248738   29.0000      NaN        ...           \n",
              "306              1      2  113781  151.5500  C22 C26        ...           \n",
              "470              2      1    2666   19.2583      NaN        ...           \n",
              "645              2      1    2666   19.2583      NaN        ...           \n",
              "756              1      1  250649   14.5000      NaN        ...           \n",
              "804              0      1    2625    8.5167      NaN        ...           \n",
              "832              1      1   29106   18.7500      NaN        ...           \n",
              "\n",
              "            Fare_bin Age_bin Child_ind  Cabin_2     Surname Salutation  \\\n",
              "PassengerId                                                              \n",
              "79                 8       1      True        0    Caldwell     Master   \n",
              "306               10       1      True        C     Allison     Master   \n",
              "470                6       1      True        0     Baclini       Miss   \n",
              "645                6       1      True        0     Baclini       Miss   \n",
              "756                6       1      True        0  Hamalainen     Master   \n",
              "804                4       1      True        0      Thomas     Master   \n",
              "832                6       1      True        0    Richards     Master   \n",
              "\n",
              "            Name_len  Nickname  Age_null_ind  Age_estimated_ind  \n",
              "PassengerId                                                      \n",
              "79                 3         0             0                  1  \n",
              "306                3         0             0                  1  \n",
              "470                3         0             0                  1  \n",
              "645                2         0             0                  1  \n",
              "756                2         0             0                  1  \n",
              "804                3         0             0                  1  \n",
              "832                3         0             0                  1  \n",
              "\n",
              "[7 rows x 21 columns]"
            ]
          },
          "metadata": {
            "tags": []
          },
          "execution_count": 19
        }
      ]
    },
    {
      "metadata": {
        "id": "PEM8ASVHLFOw",
        "colab_type": "code",
        "colab": {}
      },
      "cell_type": "code",
      "source": [
        "# train[train['Age'].isnull()]"
      ],
      "execution_count": 0,
      "outputs": []
    },
    {
      "metadata": {
        "id": "RatiOjFjLdDs",
        "colab_type": "code",
        "outputId": "c2d05624-2cea-43e2-b6dc-82d2d31dd3ae",
        "colab": {
          "base_uri": "https://localhost:8080/",
          "height": 225
        }
      },
      "cell_type": "code",
      "source": [
        "import regex as re\n",
        "train['ticket_has_letters']  = train['Ticket'].apply(lambda x: bool(re.search('[a-zA-Z]', x)))\n",
        "train[['ticket_has_letters', 'Ticket']].head()"
      ],
      "execution_count": 0,
      "outputs": [
        {
          "output_type": "execute_result",
          "data": {
            "text/html": [
              "<div>\n",
              "<style scoped>\n",
              "    .dataframe tbody tr th:only-of-type {\n",
              "        vertical-align: middle;\n",
              "    }\n",
              "\n",
              "    .dataframe tbody tr th {\n",
              "        vertical-align: top;\n",
              "    }\n",
              "\n",
              "    .dataframe thead th {\n",
              "        text-align: right;\n",
              "    }\n",
              "</style>\n",
              "<table border=\"1\" class=\"dataframe\">\n",
              "  <thead>\n",
              "    <tr style=\"text-align: right;\">\n",
              "      <th></th>\n",
              "      <th>ticket_has_letters</th>\n",
              "      <th>Ticket</th>\n",
              "    </tr>\n",
              "    <tr>\n",
              "      <th>PassengerId</th>\n",
              "      <th></th>\n",
              "      <th></th>\n",
              "    </tr>\n",
              "  </thead>\n",
              "  <tbody>\n",
              "    <tr>\n",
              "      <th>1</th>\n",
              "      <td>True</td>\n",
              "      <td>A/5 21171</td>\n",
              "    </tr>\n",
              "    <tr>\n",
              "      <th>2</th>\n",
              "      <td>True</td>\n",
              "      <td>PC 17599</td>\n",
              "    </tr>\n",
              "    <tr>\n",
              "      <th>3</th>\n",
              "      <td>True</td>\n",
              "      <td>STON/O2. 3101282</td>\n",
              "    </tr>\n",
              "    <tr>\n",
              "      <th>4</th>\n",
              "      <td>False</td>\n",
              "      <td>113803</td>\n",
              "    </tr>\n",
              "    <tr>\n",
              "      <th>5</th>\n",
              "      <td>False</td>\n",
              "      <td>373450</td>\n",
              "    </tr>\n",
              "  </tbody>\n",
              "</table>\n",
              "</div>"
            ],
            "text/plain": [
              "             ticket_has_letters            Ticket\n",
              "PassengerId                                      \n",
              "1                          True         A/5 21171\n",
              "2                          True          PC 17599\n",
              "3                          True  STON/O2. 3101282\n",
              "4                         False            113803\n",
              "5                         False            373450"
            ]
          },
          "metadata": {
            "tags": []
          },
          "execution_count": 21
        }
      ]
    },
    {
      "metadata": {
        "id": "WPPvZ1tZNaLF",
        "colab_type": "code",
        "outputId": "53d225a5-84ca-41e5-dddd-9fbeb1a08a8a",
        "colab": {
          "base_uri": "https://localhost:8080/",
          "height": 84
        }
      },
      "cell_type": "code",
      "source": [
        "train.groupby('ticket_has_letters').agg('mean')['Survived']"
      ],
      "execution_count": 0,
      "outputs": [
        {
          "output_type": "execute_result",
          "data": {
            "text/plain": [
              "ticket_has_letters\n",
              "False    0.384266\n",
              "True     0.382609\n",
              "Name: Survived, dtype: float64"
            ]
          },
          "metadata": {
            "tags": []
          },
          "execution_count": 22
        }
      ]
    },
    {
      "metadata": {
        "id": "qZ3q74kdNuMv",
        "colab_type": "code",
        "outputId": "fe3abcd6-0a41-4a2b-9069-e6a6bd645bce",
        "colab": {
          "base_uri": "https://localhost:8080/",
          "height": 101
        }
      },
      "cell_type": "code",
      "source": [
        "train.columns"
      ],
      "execution_count": 0,
      "outputs": [
        {
          "output_type": "execute_result",
          "data": {
            "text/plain": [
              "Index(['Survived', 'Pclass', 'Name', 'Sex', 'Age', 'SibSp', 'Parch', 'Ticket',\n",
              "       'Fare', 'Cabin', 'Embarked', 'Fare_bin', 'Age_bin', 'Child_ind',\n",
              "       'Cabin_2', 'Surname', 'Salutation', 'Name_len', 'Nickname',\n",
              "       'Age_null_ind', 'Age_estimated_ind', 'ticket_has_letters'],\n",
              "      dtype='object')"
            ]
          },
          "metadata": {
            "tags": []
          },
          "execution_count": 23
        }
      ]
    },
    {
      "metadata": {
        "id": "d3qQbSGmPfFC",
        "colab_type": "code",
        "outputId": "29062949-6240-45f3-dd95-435d64d61e3f",
        "colab": {
          "base_uri": "https://localhost:8080/",
          "height": 225
        }
      },
      "cell_type": "code",
      "source": [
        "median_age_salutation = train[~train.Age.isnull()].groupby('Salutation').agg(['median'])['Age']\n",
        "median_age_salutation"
      ],
      "execution_count": 0,
      "outputs": [
        {
          "output_type": "execute_result",
          "data": {
            "text/html": [
              "<div>\n",
              "<style scoped>\n",
              "    .dataframe tbody tr th:only-of-type {\n",
              "        vertical-align: middle;\n",
              "    }\n",
              "\n",
              "    .dataframe tbody tr th {\n",
              "        vertical-align: top;\n",
              "    }\n",
              "\n",
              "    .dataframe thead th {\n",
              "        text-align: right;\n",
              "    }\n",
              "</style>\n",
              "<table border=\"1\" class=\"dataframe\">\n",
              "  <thead>\n",
              "    <tr style=\"text-align: right;\">\n",
              "      <th></th>\n",
              "      <th>median</th>\n",
              "    </tr>\n",
              "    <tr>\n",
              "      <th>Salutation</th>\n",
              "      <th></th>\n",
              "    </tr>\n",
              "  </thead>\n",
              "  <tbody>\n",
              "    <tr>\n",
              "      <th>Master</th>\n",
              "      <td>3.5</td>\n",
              "    </tr>\n",
              "    <tr>\n",
              "      <th>Miss</th>\n",
              "      <td>21.0</td>\n",
              "    </tr>\n",
              "    <tr>\n",
              "      <th>Mr</th>\n",
              "      <td>30.0</td>\n",
              "    </tr>\n",
              "    <tr>\n",
              "      <th>Mrs</th>\n",
              "      <td>35.0</td>\n",
              "    </tr>\n",
              "    <tr>\n",
              "      <th>Other</th>\n",
              "      <td>44.5</td>\n",
              "    </tr>\n",
              "  </tbody>\n",
              "</table>\n",
              "</div>"
            ],
            "text/plain": [
              "            median\n",
              "Salutation        \n",
              "Master         3.5\n",
              "Miss          21.0\n",
              "Mr            30.0\n",
              "Mrs           35.0\n",
              "Other         44.5"
            ]
          },
          "metadata": {
            "tags": []
          },
          "execution_count": 24
        }
      ]
    },
    {
      "metadata": {
        "id": "HLfFV4yTPxBW",
        "colab_type": "code",
        "outputId": "d2369c3f-02f8-4304-e4b2-ca5e827ce392",
        "colab": {
          "base_uri": "https://localhost:8080/",
          "height": 225
        }
      },
      "cell_type": "code",
      "source": [
        "train['Age_imputated'] = train.apply(lambda x: x if x['Age'] == np.nan else median_age_salutation.loc[x['Salutation']], axis=1)\n",
        "train[train.Age.isnull()][['Salutation', 'Age_imputated']].head()"
      ],
      "execution_count": 0,
      "outputs": [
        {
          "output_type": "execute_result",
          "data": {
            "text/html": [
              "<div>\n",
              "<style scoped>\n",
              "    .dataframe tbody tr th:only-of-type {\n",
              "        vertical-align: middle;\n",
              "    }\n",
              "\n",
              "    .dataframe tbody tr th {\n",
              "        vertical-align: top;\n",
              "    }\n",
              "\n",
              "    .dataframe thead th {\n",
              "        text-align: right;\n",
              "    }\n",
              "</style>\n",
              "<table border=\"1\" class=\"dataframe\">\n",
              "  <thead>\n",
              "    <tr style=\"text-align: right;\">\n",
              "      <th></th>\n",
              "      <th>Salutation</th>\n",
              "      <th>Age_imputated</th>\n",
              "    </tr>\n",
              "    <tr>\n",
              "      <th>PassengerId</th>\n",
              "      <th></th>\n",
              "      <th></th>\n",
              "    </tr>\n",
              "  </thead>\n",
              "  <tbody>\n",
              "    <tr>\n",
              "      <th>6</th>\n",
              "      <td>Mr</td>\n",
              "      <td>30.0</td>\n",
              "    </tr>\n",
              "    <tr>\n",
              "      <th>18</th>\n",
              "      <td>Mr</td>\n",
              "      <td>30.0</td>\n",
              "    </tr>\n",
              "    <tr>\n",
              "      <th>20</th>\n",
              "      <td>Mrs</td>\n",
              "      <td>35.0</td>\n",
              "    </tr>\n",
              "    <tr>\n",
              "      <th>27</th>\n",
              "      <td>Mr</td>\n",
              "      <td>30.0</td>\n",
              "    </tr>\n",
              "    <tr>\n",
              "      <th>29</th>\n",
              "      <td>Miss</td>\n",
              "      <td>21.0</td>\n",
              "    </tr>\n",
              "  </tbody>\n",
              "</table>\n",
              "</div>"
            ],
            "text/plain": [
              "            Salutation  Age_imputated\n",
              "PassengerId                          \n",
              "6                   Mr           30.0\n",
              "18                  Mr           30.0\n",
              "20                 Mrs           35.0\n",
              "27                  Mr           30.0\n",
              "29                Miss           21.0"
            ]
          },
          "metadata": {
            "tags": []
          },
          "execution_count": 25
        }
      ]
    },
    {
      "metadata": {
        "id": "sSzBINVnSJcw",
        "colab_type": "code",
        "outputId": "1eedc287-6d23-495f-bbb5-35bae005c6db",
        "colab": {
          "base_uri": "https://localhost:8080/",
          "height": 225
        }
      },
      "cell_type": "code",
      "source": [
        "train[~train.Age.isnull()].groupby('Salutation').agg(['median', 'mean', 'std'])['Age']"
      ],
      "execution_count": 0,
      "outputs": [
        {
          "output_type": "execute_result",
          "data": {
            "text/html": [
              "<div>\n",
              "<style scoped>\n",
              "    .dataframe tbody tr th:only-of-type {\n",
              "        vertical-align: middle;\n",
              "    }\n",
              "\n",
              "    .dataframe tbody tr th {\n",
              "        vertical-align: top;\n",
              "    }\n",
              "\n",
              "    .dataframe thead th {\n",
              "        text-align: right;\n",
              "    }\n",
              "</style>\n",
              "<table border=\"1\" class=\"dataframe\">\n",
              "  <thead>\n",
              "    <tr style=\"text-align: right;\">\n",
              "      <th></th>\n",
              "      <th>median</th>\n",
              "      <th>mean</th>\n",
              "      <th>std</th>\n",
              "    </tr>\n",
              "    <tr>\n",
              "      <th>Salutation</th>\n",
              "      <th></th>\n",
              "      <th></th>\n",
              "      <th></th>\n",
              "    </tr>\n",
              "  </thead>\n",
              "  <tbody>\n",
              "    <tr>\n",
              "      <th>Master</th>\n",
              "      <td>3.5</td>\n",
              "      <td>4.574167</td>\n",
              "      <td>3.619872</td>\n",
              "    </tr>\n",
              "    <tr>\n",
              "      <th>Miss</th>\n",
              "      <td>21.0</td>\n",
              "      <td>21.773973</td>\n",
              "      <td>12.990292</td>\n",
              "    </tr>\n",
              "    <tr>\n",
              "      <th>Mr</th>\n",
              "      <td>30.0</td>\n",
              "      <td>32.368090</td>\n",
              "      <td>12.708793</td>\n",
              "    </tr>\n",
              "    <tr>\n",
              "      <th>Mrs</th>\n",
              "      <td>35.0</td>\n",
              "      <td>35.898148</td>\n",
              "      <td>11.433628</td>\n",
              "    </tr>\n",
              "    <tr>\n",
              "      <th>Other</th>\n",
              "      <td>44.5</td>\n",
              "      <td>42.384615</td>\n",
              "      <td>13.200233</td>\n",
              "    </tr>\n",
              "  </tbody>\n",
              "</table>\n",
              "</div>"
            ],
            "text/plain": [
              "            median       mean        std\n",
              "Salutation                              \n",
              "Master         3.5   4.574167   3.619872\n",
              "Miss          21.0  21.773973  12.990292\n",
              "Mr            30.0  32.368090  12.708793\n",
              "Mrs           35.0  35.898148  11.433628\n",
              "Other         44.5  42.384615  13.200233"
            ]
          },
          "metadata": {
            "tags": []
          },
          "execution_count": 26
        }
      ]
    },
    {
      "metadata": {
        "id": "6Zqa--jHX2Cx",
        "colab_type": "code",
        "outputId": "963f8a50-a764-434d-e8e1-133dd1ac3285",
        "colab": {
          "base_uri": "https://localhost:8080/",
          "height": 118
        }
      },
      "cell_type": "code",
      "source": [
        "train.columns"
      ],
      "execution_count": 0,
      "outputs": [
        {
          "output_type": "execute_result",
          "data": {
            "text/plain": [
              "Index(['Survived', 'Pclass', 'Name', 'Sex', 'Age', 'SibSp', 'Parch', 'Ticket',\n",
              "       'Fare', 'Cabin', 'Embarked', 'Fare_bin', 'Age_bin', 'Child_ind',\n",
              "       'Cabin_2', 'Surname', 'Salutation', 'Name_len', 'Nickname',\n",
              "       'Age_null_ind', 'Age_estimated_ind', 'ticket_has_letters',\n",
              "       'Age_imputated'],\n",
              "      dtype='object')"
            ]
          },
          "metadata": {
            "tags": []
          },
          "execution_count": 27
        }
      ]
    },
    {
      "metadata": {
        "id": "8hRYXdZSvAQ2",
        "colab_type": "code",
        "outputId": "3edc20b7-f9d2-4681-e423-aeab52f7f0d8",
        "colab": {
          "base_uri": "https://localhost:8080/",
          "height": 491
        }
      },
      "cell_type": "code",
      "source": [
        "## outlier treatment\n",
        "\n",
        "outlier_check_list =['Fare', 'Age_imputated', 'SibSp', 'Parch']\n",
        "\n",
        "percentile_list=[0, 0.5, 1, 2, 5, 10, 25, 75, 90, 95, 98, 99, 99.5, 100]\n",
        "\n",
        "outlier_df = pd.DataFrame()\n",
        "\n",
        "for column in outlier_check_list:\n",
        "  output_list= []\n",
        "  for percentile in percentile_list:\n",
        "    output_list.append({'Percentile': percentile, column:np.percentile(train[column], q=percentile, interpolation='lower') })\n",
        "    output_df = pd.DataFrame(output_list)\n",
        "  try:\n",
        "    outlier_df = pd.merge(outlier_df, output_df, on='Percentile', how='left')\n",
        "  except:\n",
        "    outlier_df = output_df\n",
        "      \n",
        "outlier_df.set_index('Percentile')"
      ],
      "execution_count": 0,
      "outputs": [
        {
          "output_type": "execute_result",
          "data": {
            "text/html": [
              "<div>\n",
              "<style scoped>\n",
              "    .dataframe tbody tr th:only-of-type {\n",
              "        vertical-align: middle;\n",
              "    }\n",
              "\n",
              "    .dataframe tbody tr th {\n",
              "        vertical-align: top;\n",
              "    }\n",
              "\n",
              "    .dataframe thead th {\n",
              "        text-align: right;\n",
              "    }\n",
              "</style>\n",
              "<table border=\"1\" class=\"dataframe\">\n",
              "  <thead>\n",
              "    <tr style=\"text-align: right;\">\n",
              "      <th></th>\n",
              "      <th>Fare</th>\n",
              "      <th>Age_imputated</th>\n",
              "      <th>SibSp</th>\n",
              "      <th>Parch</th>\n",
              "    </tr>\n",
              "    <tr>\n",
              "      <th>Percentile</th>\n",
              "      <th></th>\n",
              "      <th></th>\n",
              "      <th></th>\n",
              "      <th></th>\n",
              "    </tr>\n",
              "  </thead>\n",
              "  <tbody>\n",
              "    <tr>\n",
              "      <th>0.0</th>\n",
              "      <td>0.0000</td>\n",
              "      <td>3.5</td>\n",
              "      <td>0</td>\n",
              "      <td>0</td>\n",
              "    </tr>\n",
              "    <tr>\n",
              "      <th>0.5</th>\n",
              "      <td>0.0000</td>\n",
              "      <td>3.5</td>\n",
              "      <td>0</td>\n",
              "      <td>0</td>\n",
              "    </tr>\n",
              "    <tr>\n",
              "      <th>1.0</th>\n",
              "      <td>0.0000</td>\n",
              "      <td>3.5</td>\n",
              "      <td>0</td>\n",
              "      <td>0</td>\n",
              "    </tr>\n",
              "    <tr>\n",
              "      <th>2.0</th>\n",
              "      <td>6.2375</td>\n",
              "      <td>3.5</td>\n",
              "      <td>0</td>\n",
              "      <td>0</td>\n",
              "    </tr>\n",
              "    <tr>\n",
              "      <th>5.0</th>\n",
              "      <td>7.2250</td>\n",
              "      <td>21.0</td>\n",
              "      <td>0</td>\n",
              "      <td>0</td>\n",
              "    </tr>\n",
              "    <tr>\n",
              "      <th>10.0</th>\n",
              "      <td>7.5500</td>\n",
              "      <td>21.0</td>\n",
              "      <td>0</td>\n",
              "      <td>0</td>\n",
              "    </tr>\n",
              "    <tr>\n",
              "      <th>25.0</th>\n",
              "      <td>7.8958</td>\n",
              "      <td>30.0</td>\n",
              "      <td>0</td>\n",
              "      <td>0</td>\n",
              "    </tr>\n",
              "    <tr>\n",
              "      <th>75.0</th>\n",
              "      <td>31.0000</td>\n",
              "      <td>30.0</td>\n",
              "      <td>1</td>\n",
              "      <td>0</td>\n",
              "    </tr>\n",
              "    <tr>\n",
              "      <th>90.0</th>\n",
              "      <td>77.9583</td>\n",
              "      <td>35.0</td>\n",
              "      <td>1</td>\n",
              "      <td>2</td>\n",
              "    </tr>\n",
              "    <tr>\n",
              "      <th>95.0</th>\n",
              "      <td>110.8833</td>\n",
              "      <td>35.0</td>\n",
              "      <td>3</td>\n",
              "      <td>2</td>\n",
              "    </tr>\n",
              "    <tr>\n",
              "      <th>98.0</th>\n",
              "      <td>211.3375</td>\n",
              "      <td>44.5</td>\n",
              "      <td>4</td>\n",
              "      <td>2</td>\n",
              "    </tr>\n",
              "    <tr>\n",
              "      <th>99.0</th>\n",
              "      <td>247.5208</td>\n",
              "      <td>44.5</td>\n",
              "      <td>5</td>\n",
              "      <td>4</td>\n",
              "    </tr>\n",
              "    <tr>\n",
              "      <th>99.5</th>\n",
              "      <td>263.0000</td>\n",
              "      <td>44.5</td>\n",
              "      <td>8</td>\n",
              "      <td>5</td>\n",
              "    </tr>\n",
              "    <tr>\n",
              "      <th>100.0</th>\n",
              "      <td>512.3292</td>\n",
              "      <td>44.5</td>\n",
              "      <td>8</td>\n",
              "      <td>6</td>\n",
              "    </tr>\n",
              "  </tbody>\n",
              "</table>\n",
              "</div>"
            ],
            "text/plain": [
              "                Fare  Age_imputated  SibSp  Parch\n",
              "Percentile                                       \n",
              "0.0           0.0000            3.5      0      0\n",
              "0.5           0.0000            3.5      0      0\n",
              "1.0           0.0000            3.5      0      0\n",
              "2.0           6.2375            3.5      0      0\n",
              "5.0           7.2250           21.0      0      0\n",
              "10.0          7.5500           21.0      0      0\n",
              "25.0          7.8958           30.0      0      0\n",
              "75.0         31.0000           30.0      1      0\n",
              "90.0         77.9583           35.0      1      2\n",
              "95.0        110.8833           35.0      3      2\n",
              "98.0        211.3375           44.5      4      2\n",
              "99.0        247.5208           44.5      5      4\n",
              "99.5        263.0000           44.5      8      5\n",
              "100.0       512.3292           44.5      8      6"
            ]
          },
          "metadata": {
            "tags": []
          },
          "execution_count": 28
        }
      ]
    },
    {
      "metadata": {
        "id": "Wv3eZ3vkymBz",
        "colab_type": "code",
        "colab": {}
      },
      "cell_type": "code",
      "source": [
        "# treating outliers \n",
        "\n",
        "train['SibSp_ind'] = train['SibSp'].apply(lambda x: x>1)\n",
        "train['SibSp_2'] = train['SibSp'].apply(lambda x: x if x<2 else 2)\n",
        "train['Parch_2'] = train['Parch'].apply(lambda x:  x if x<=2 else 2)"
      ],
      "execution_count": 0,
      "outputs": []
    },
    {
      "metadata": {
        "id": "tfBzqMDWOfEi",
        "colab_type": "code",
        "colab": {}
      },
      "cell_type": "code",
      "source": [
        ""
      ],
      "execution_count": 0,
      "outputs": []
    },
    {
      "metadata": {
        "id": "4u4z-fjUOf1F",
        "colab_type": "text"
      },
      "cell_type": "markdown",
      "source": [
        "# Some Functions for Data Prep"
      ]
    },
    {
      "metadata": {
        "id": "3g8PYOV6aws4",
        "colab_type": "code",
        "colab": {}
      },
      "cell_type": "code",
      "source": [
        "# drop useless columns\n",
        "\n",
        "def drop_useless_columns(df, columns_list):\n",
        "  return df.drop(columns=cols_to_drop)\n",
        "\n",
        "# make dummy varibales\n",
        "\n",
        "def make_dummies(df, columns_list, drop_first=True):\n",
        "  return pd.get_dummies(df, columns=columns_list, prefix=categorical_columns, drop_first=drop_first)\n",
        "\n",
        "# renaming columns\n",
        "def rename_columns(df):\n",
        "  for column in df.columns:\n",
        "    if ']' in column:\n",
        "      column2 = column[:-1] + ')'\n",
        "      column2 =  column2.replace(', ', '')\n",
        "#       print(column2)\n",
        "      df.rename(columns={column:column2}, inplace=True)\n",
        "  return df\n",
        "\n",
        "def encode_data(dataset_train, cols_to_encode=['Sex', 'Embarked', 'Salutation', 'Cabin_2', 'ticket_initials'], lb_list=None, train=True):\n",
        "  # Encoding String values to Numbers\n",
        "  from sklearn.preprocessing import LabelEncoder\n",
        "  if train:\n",
        "    lb_list =[]\n",
        "  for i, col in enumerate(cols_to_encode):\n",
        "    if train:\n",
        "      lb = LabelEncoder()\n",
        "      lb_list.append(lb)\n",
        "    else:\n",
        "      lb = lb_list[i]\n",
        "    dataset_train[col] = lb.fit_transform(dataset_train[col])\n",
        "  if train:  \n",
        "    return dataset_train, lb_list\n",
        "  else:\n",
        "    return dataset_train"
      ],
      "execution_count": 0,
      "outputs": []
    },
    {
      "metadata": {
        "id": "mWNuP8COWK7w",
        "colab_type": "code",
        "colab": {}
      },
      "cell_type": "code",
      "source": [
        "categorical_columns = ['Sex', 'Pclass', 'Embarked', 'Cabin_2', 'Salutation', 'Age_bin', 'Fare_bin', 'ticket_initials']\n",
        "target_col='Survived'\n",
        "cols_to_drop = ['Name', 'Ticket', 'Cabin', 'Age', 'Fare', 'SibSp', 'Parch', 'Age_null_ind', 'Age_estimated_ind']\n",
        "# pd.get_dummies(train, columns=categorical_columns, prefix=categorical_columns, drop_first=1).head()"
      ],
      "execution_count": 0,
      "outputs": []
    },
    {
      "metadata": {
        "id": "g4VpZEY135A-",
        "colab_type": "text"
      },
      "cell_type": "markdown",
      "source": [
        "# Data Preparation"
      ]
    },
    {
      "metadata": {
        "id": "w-FnYmL3550o",
        "colab_type": "code",
        "outputId": "8cafc368-449d-4751-fdde-d8b8927b75df",
        "colab": {
          "base_uri": "https://localhost:8080/",
          "height": 34
        }
      },
      "cell_type": "code",
      "source": [
        "def prepare_data(df, train_flag=True, lb_list=None, fare_bins=None, mas=None):\n",
        "  \n",
        "  df = df.set_index('PassengerId')\n",
        " \n",
        "  #cabin\n",
        "  df['Cabin_2'] = df['Cabin'].apply(lambda x: x[0] if type(x)==str else 'ZZ')\n",
        "  df['Cabin_2'] = df['Cabin_2'].apply(lambda x: x if x not in ['F', 'G', 'T'] else 'Other')\n",
        "  \n",
        "  #name\n",
        "#   df['Surname'] = df['Name'].apply(lambda x: x.split(',')[0])\n",
        "  df['Salutation'] = df['Name'].apply(lambda x: x.split(',')[1].split('.')[0][1:])\n",
        "  df['Salutation'] = df['Salutation'].apply(lambda x: x if x in ['Mr', 'Miss', 'Master', 'Mrs'] else 'Other' )\n",
        "#   df['Name_len'] = df.Name.apply(lambda x: len(x.split(' '))-1)\n",
        "  df['Nickname'] = df['Name'].apply(lambda x : 1 if '(' in x else 0)\n",
        "  \n",
        "  if train_flag: \n",
        "    median_age_salutation = df[~df.Age.isnull()].groupby('Salutation').agg('median')['Age']\n",
        "  else:\n",
        "    median_age_salutation = mas\n",
        "  \n",
        "  \n",
        "  #age\n",
        "  df['Age_null_ind'] = df.Age.isnull().astype(int)\n",
        "  df['Age_estimated_ind'] = df.Age.apply(lambda x: x%1 >0).astype(int)\n",
        "  df['Age_imputated'] = df.apply(lambda x: x if x['Age'] == np.nan else median_age_salutation.loc[x['Salutation']], axis=1)# missing value\n",
        "  df['Child_ind'] = df['Age_imputated'].apply(lambda x: 1 if x <16.0 else 0)\n",
        "#   df['Age_bin'] = pd.qcut(df['Age_imputated'], q=8, labels=range(1,11), duplicates='drop')\n",
        "  \n",
        "  # family\n",
        "  df['family'] = df['SibSp'] + df['Parch']\n",
        "  df['family'] = df['family'].apply(lambda x:  x if x>3 else 3)\n",
        "  \n",
        "   # alone\n",
        "  df['is_alone'] = (df.family ==0).astype(int)\n",
        "  \n",
        "  #embarked\n",
        "  df['Embarked'] = df['Embarked'].fillna('S')\n",
        "  \n",
        "  # fare\n",
        "  df['Fare'] = df['Fare'].fillna(df['Fare'].mean())\n",
        "  if train_flag:\n",
        "    df['Fare_bin'], fare_bins = pd.qcut(df['Fare'], q=10, labels=range(1, 10+1), retbins=True)\n",
        "  else:\n",
        "    df['Fare_bin'] = pd.cut(df['Fare'], bins=fare_bins, labels=range(1, 10+1), include_lowest=True)\n",
        "    \n",
        "  \n",
        "  # ticket\n",
        "  df['ticket_initials']  = df['Ticket'].apply(lambda x: str(x)[0])\n",
        "  df['ticket_initials']  = df['ticket_initials'].apply(lambda x: re.sub('[0-9]', 'N', x))\n",
        "  df['ticket_initials']  = df['ticket_initials'].apply(lambda x: x if x not in ['F', 'L', 'W'] else 'Z')\n",
        "  \n",
        "  # new_variable\n",
        "  df['age_class'] = df['Age_imputated']*df['Pclass']\n",
        "  \n",
        "  # outliers\n",
        "#   df['SibSp_ind'] = df['SibSp'].apply(lambda x: x>1).astype(int)\n",
        "  df['SibSp_2'] = df['SibSp'].apply(lambda x: x if x<2 else 2)\n",
        "  df['Parch_2'] = df['Parch'].apply(lambda x:  x if x<=2 else 2)\n",
        "  \n",
        "  # drop columns\n",
        "  df_data = drop_useless_columns(df, columns_list=cols_to_drop)\n",
        "\n",
        "  # dummies\n",
        "#   df_data = make_dummies(df_data, categorical_columns)\n",
        "\n",
        "  # encode:\n",
        "  if train_flag:\n",
        "    df_data, lb = encode_data(df_data)\n",
        "  else:\n",
        "    df_data = encode_data(df_data, train=train_flag, lb_list=lb_list)\n",
        "  \n",
        "  # rename columns\n",
        "  df_data = rename_columns(df_data)\n",
        "  \n",
        "  if train_flag:\n",
        "    return df_data, lb, fare_bins, median_age_salutation\n",
        "  else:\n",
        "    return df_data\n",
        "\n",
        "train = pd.read_csv('train.csv')\n",
        "test = pd.read_csv('test.csv')\n",
        "\n",
        "train_data, lb, fare_bins, mas = prepare_data(train)\n",
        "test_data = prepare_data(test, train_flag=False, lb_list=lb, fare_bins=fare_bins, mas=mas)\n",
        "print(test_data.shape, train_data.shape) \n",
        "  \n",
        "  "
      ],
      "execution_count": 0,
      "outputs": [
        {
          "output_type": "stream",
          "text": [
            "(418, 15) (891, 16)\n"
          ],
          "name": "stdout"
        }
      ]
    },
    {
      "metadata": {
        "id": "Mf1bppo4XmfG",
        "colab_type": "code",
        "outputId": "52e64554-7937-4cf0-83c8-295a7796f866",
        "colab": {
          "base_uri": "https://localhost:8080/",
          "height": 84
        }
      },
      "cell_type": "code",
      "source": [
        "test_data.Parch_2.value_counts()"
      ],
      "execution_count": 0,
      "outputs": [
        {
          "output_type": "execute_result",
          "data": {
            "text/plain": [
              "0    324\n",
              "1     52\n",
              "2     42\n",
              "Name: Parch_2, dtype: int64"
            ]
          },
          "metadata": {
            "tags": []
          },
          "execution_count": 94
        }
      ]
    },
    {
      "metadata": {
        "id": "rJWezn8nnT8Q",
        "colab_type": "code",
        "outputId": "b8502500-45ee-49df-c6cc-5fd493d0b00e",
        "colab": {
          "base_uri": "https://localhost:8080/",
          "height": 34
        }
      },
      "cell_type": "code",
      "source": [
        "# make train validation split\n",
        "from sklearn.model_selection import train_test_split\n",
        "train_xy, validation_xy = train_test_split(train_data, test_size=0.15, shuffle=True, random_state=1)\n",
        "train_xy.shape, validation_xy.shape\n"
      ],
      "execution_count": 0,
      "outputs": [
        {
          "output_type": "execute_result",
          "data": {
            "text/plain": [
              "((757, 16), (134, 16))"
            ]
          },
          "metadata": {
            "tags": []
          },
          "execution_count": 95
        }
      ]
    },
    {
      "metadata": {
        "id": "YELrGeRq6jCo",
        "colab_type": "code",
        "outputId": "f98c6bad-a7d2-4904-a9a6-6b77e3d18b23",
        "colab": {
          "base_uri": "https://localhost:8080/",
          "height": 34
        }
      },
      "cell_type": "code",
      "source": [
        "def get_features_labels(df, targete_col='Survived'):\n",
        "  return df.drop(columns=[target_col]), df[target_col]\n",
        "\n",
        "x_train, y_train = get_features_labels(train_xy)\n",
        "x_vali, y_vali = get_features_labels(validation_xy)\n",
        "x_train.shape, x_vali.shape"
      ],
      "execution_count": 0,
      "outputs": [
        {
          "output_type": "execute_result",
          "data": {
            "text/plain": [
              "((757, 15), (134, 15))"
            ]
          },
          "metadata": {
            "tags": []
          },
          "execution_count": 96
        }
      ]
    },
    {
      "metadata": {
        "id": "_OrYhmbL2Fnx",
        "colab_type": "code",
        "outputId": "fde845dc-c387-46f8-9e06-3d820fc52f16",
        "colab": {
          "base_uri": "https://localhost:8080/",
          "height": 84
        }
      },
      "cell_type": "code",
      "source": [
        "train_xy.columns"
      ],
      "execution_count": 0,
      "outputs": [
        {
          "output_type": "execute_result",
          "data": {
            "text/plain": [
              "Index(['Survived', 'Pclass', 'Sex', 'Embarked', 'Cabin_2', 'Salutation',\n",
              "       'Nickname', 'Age_imputated', 'Child_ind', 'family', 'is_alone',\n",
              "       'Fare_bin', 'ticket_initials', 'age_class', 'SibSp_2', 'Parch_2'],\n",
              "      dtype='object')"
            ]
          },
          "metadata": {
            "tags": []
          },
          "execution_count": 97
        }
      ]
    },
    {
      "metadata": {
        "id": "aOjSU5WrF3gI",
        "colab_type": "text"
      },
      "cell_type": "markdown",
      "source": [
        "# Logistic Regression"
      ]
    },
    {
      "metadata": {
        "id": "wiRZC0g2pfzO",
        "colab_type": "code",
        "outputId": "19fcee10-0b9f-459e-d3e9-b24d985cb08e",
        "colab": {
          "base_uri": "https://localhost:8080/",
          "height": 34
        }
      },
      "cell_type": "code",
      "source": [
        "import statsmodels.formula.api as smf\n",
        "import statsmodels.api as sm\n",
        "from sklearn import metrics\n",
        "\n",
        "formula = 'Survived ~ C(Pclass) + C(Sex) + C(Embarked) + C(Cabin_2) + C(Salutation) + C(Nickname) + Age_imputated + C(Child_ind) + family + C(is_alone) + C(Fare_bin) + C(ticket_initials) + age_class + SibSp_2 + Parch_2'\n",
        "# print(formula)\n",
        "\n",
        "\n",
        "def train_logistic_model(data, formula=formula, summary=True):\n",
        "  model = smf.glm(formula=formula, data=data,family=sm.families.Binomial()).fit()\n",
        "  print('Train ROC AUC: ', metrics.roc_auc_score(y_train, model.predict(x_train)), \\\n",
        "      '|| Validation ROC AUC: ', metrics.roc_auc_score(y_vali, model.predict(x_vali)))\n",
        "  if summary:\n",
        "    print(model.summary())\n",
        "  return model\n",
        "\n",
        "model = train_logistic_model(data=train_xy, summary=False)"
      ],
      "execution_count": 0,
      "outputs": [
        {
          "output_type": "stream",
          "text": [
            "Train ROC AUC:  0.8975916548211325 || Validation ROC AUC:  0.8135416666666666\n"
          ],
          "name": "stdout"
        }
      ]
    },
    {
      "metadata": {
        "id": "9CLSdeUzemqT",
        "colab_type": "code",
        "outputId": "500de584-64e1-416b-c9c1-7e0d8951af6d",
        "colab": {
          "base_uri": "https://localhost:8080/",
          "height": 54
        }
      },
      "cell_type": "code",
      "source": [
        "formula"
      ],
      "execution_count": 0,
      "outputs": [
        {
          "output_type": "execute_result",
          "data": {
            "text/plain": [
              "'Survived ~ C(Pclass) + C(Sex) + C(Embarked) + C(Cabin_2) + C(Salutation) + C(Nickname) + Age_imputated + C(Child_ind) + family + C(is_alone) + C(Fare_bin) + C(ticket_initials) + age_class + SibSp_2 + Parch_2'"
            ]
          },
          "metadata": {
            "tags": []
          },
          "execution_count": 99
        }
      ]
    },
    {
      "metadata": {
        "id": "LY25WTD05Igy",
        "colab_type": "code",
        "outputId": "966bd2d1-b925-47e6-f4a3-176a79abe057",
        "colab": {
          "base_uri": "https://localhost:8080/",
          "height": 370
        }
      },
      "cell_type": "code",
      "source": [
        "# Backward Selection\n",
        "\n",
        "def backward_selection(df, formula, threshold=0.05):\n",
        "  flag=0\n",
        "  while flag==0:\n",
        "    func = smf.glm(formula =formula, data=df, family = sm.families.Binomial()).fit()\n",
        "    pvals = pd.DataFrame(func.pvalues, columns=['pval'])\n",
        "    pvals['varname'] = [i.split('[')[0] for i in pvals.index]\n",
        "    pvals = pd.DataFrame(pvals.groupby(['varname'])['pval'].min())\n",
        "    pvals = pvals.drop(['Intercept'])\n",
        "    if max(pvals['pval']) < threshold:\n",
        "      flag=1\n",
        "      break\n",
        "    else:\n",
        "      var_to_rem = pvals.sort_values('pval', ascending=False).index[0].split('[')[0]\n",
        "      print(max(pvals['pval']))\n",
        "      if '+ ' + var_to_rem + ' +' in formula:\n",
        "        formula = formula.replace('+ ' + var_to_rem + ' +', '+')\n",
        "      elif '~ ' + var_to_rem in formula:\n",
        "        formula = formula.replace('~ ' + var_to_rem, '~ ')\n",
        "      elif '+ ' + var_to_rem in formula:\n",
        "        formula = formula.replace('+ ' + var_to_rem, '')\n",
        "      print('Variable removed: ', var_to_rem)\n",
        "      \n",
        "      \n",
        "  return formula\n",
        "    \n",
        "formula_new = backward_selection(train_xy, formula)\n",
        "formula_new"
      ],
      "execution_count": 0,
      "outputs": [
        {
          "output_type": "stream",
          "text": [
            "0.9992061867714473\n",
            "Variable removed:  Age_imputated\n",
            "0.9986944704928314\n",
            "Variable removed:  C(Salutation)\n",
            "0.7809073096819534\n",
            "Variable removed:  age_class\n",
            "0.24557126586564104\n",
            "Variable removed:  Parch_2\n",
            "0.22822262151090122\n",
            "Variable removed:  SibSp_2\n",
            "0.19085268721142523\n",
            "Variable removed:  C(ticket_initials)\n",
            "0.1871312679227899\n",
            "Variable removed:  C(Fare_bin)\n",
            "0.2745129590847081\n",
            "Variable removed:  C(Nickname)\n",
            "0.07076812720648305\n",
            "Variable removed:  C(Cabin_2)\n",
            "0.10455910946432624\n",
            "Variable removed:  C(Embarked)\n"
          ],
          "name": "stdout"
        },
        {
          "output_type": "execute_result",
          "data": {
            "text/plain": [
              "'Survived ~ C(Pclass) + C(Sex) + C(Child_ind) + family + C(is_alone)    '"
            ]
          },
          "metadata": {
            "tags": []
          },
          "execution_count": 100
        }
      ]
    },
    {
      "metadata": {
        "id": "VXY02ecpB9ng",
        "colab_type": "code",
        "outputId": "37fed4b8-488a-4555-d8ae-503831489417",
        "colab": {
          "base_uri": "https://localhost:8080/",
          "height": 370
        }
      },
      "cell_type": "code",
      "source": [
        "# training after backward selection\n",
        "model = train_logistic_model(data=train_xy, formula=formula_new)"
      ],
      "execution_count": 0,
      "outputs": [
        {
          "output_type": "stream",
          "text": [
            "Train ROC AUC:  0.8768619699123431 || Validation ROC AUC:  0.8265046296296297\n",
            "                 Generalized Linear Model Regression Results                  \n",
            "==============================================================================\n",
            "Dep. Variable:               Survived   No. Observations:                  757\n",
            "Model:                            GLM   Df Residuals:                      751\n",
            "Model Family:                Binomial   Df Model:                            5\n",
            "Link Function:                  logit   Scale:                             1.0\n",
            "Method:                          IRLS   Log-Likelihood:                -302.88\n",
            "Date:                Mon, 26 Nov 2018   Deviance:                       605.77\n",
            "Time:                        15:41:32   Pearson chi2:                     809.\n",
            "No. Iterations:                     6                                         \n",
            "=====================================================================================\n",
            "                        coef    std err          z      P>|z|      [0.025      0.975]\n",
            "-------------------------------------------------------------------------------------\n",
            "Intercept             6.4874      0.900      7.211      0.000       4.724       8.251\n",
            "C(Pclass)[T.2]       -1.1056      0.296     -3.732      0.000      -1.686      -0.525\n",
            "C(Pclass)[T.3]       -2.0994      0.260     -8.084      0.000      -2.608      -1.590\n",
            "C(Sex)[T.1]          -3.2400      0.229    -14.138      0.000      -3.689      -2.791\n",
            "C(Child_ind)[T.1]     4.1101      0.591      6.960      0.000       2.953       5.268\n",
            "family               -1.2532      0.273     -4.585      0.000      -1.789      -0.718\n",
            "=====================================================================================\n"
          ],
          "name": "stdout"
        }
      ]
    },
    {
      "metadata": {
        "id": "E2790-oVsNM9",
        "colab_type": "code",
        "outputId": "f542122d-73c9-48bd-facf-000020c2f383",
        "colab": {
          "base_uri": "https://localhost:8080/",
          "height": 294
        }
      },
      "cell_type": "code",
      "source": [
        "from sklearn.metrics import roc_curve, auc\n",
        "fpr, tpr, thresholds = roc_curve( y_vali, model.predict(x_vali))\n",
        "roc_auc = auc(fpr, tpr)\n",
        "\n",
        "plt.figure()\n",
        "plt.plot(fpr, tpr, color='darkorange', lw=2, label='ROC curve (area = %0.2f)' % roc_auc)\n",
        "plt.plot([0, 1], [0, 1], color='navy', lw=2, linestyle='--')\n",
        "plt.xlim([0.0, 1.0])\n",
        "plt.ylim([0.0, 1.05])\n",
        "plt.xlabel('False Positive Rate')\n",
        "plt.ylabel('True Positive Rate')\n",
        "plt.title('Receiver operating characteristic')\n",
        "plt.legend(loc=\"lower right\")\n",
        "plt.show()"
      ],
      "execution_count": 0,
      "outputs": [
        {
          "output_type": "display_data",
          "data": {
            "image/png": "[encoded data removed]",
            "text/plain": [
              "<matplotlib.figure.Figure at 0x7f26b92a6518>"
            ]
          },
          "metadata": {
            "tags": []
          }
        }
      ]
    },
    {
      "metadata": {
        "id": "UI8dOnRYtbNc",
        "colab_type": "code",
        "outputId": "db2d0e3f-edd9-46f6-ce6e-97eea8ce0c66",
        "colab": {
          "base_uri": "https://localhost:8080/",
          "height": 151
        }
      },
      "cell_type": "code",
      "source": [
        "tpr, thresholds, fpr"
      ],
      "execution_count": 0,
      "outputs": [
        {
          "output_type": "execute_result",
          "data": {
            "text/plain": [
              "(array([0.18518519, 0.2037037 , 0.37037037, 0.40740741, 0.62962963,\n",
              "        0.7962963 , 0.81481481, 0.81481481, 0.83333333, 0.98148148,\n",
              "        1.        , 1.        ]),\n",
              " array([9.38651696e-01, 9.23605848e-01, 8.35112356e-01, 8.13770267e-01,\n",
              "        6.52136981e-01, 3.74693142e-01, 2.92337611e-01, 2.67403438e-01,\n",
              "        1.65520922e-01, 6.83977391e-02, 4.18427326e-02, 1.13779104e-05]),\n",
              " array([0.    , 0.    , 0.0125, 0.0125, 0.1   , 0.25  , 0.25  , 0.275 ,\n",
              "        0.475 , 0.9   , 0.925 , 1.    ]))"
            ]
          },
          "metadata": {
            "tags": []
          },
          "execution_count": 112
        }
      ]
    },
    {
      "metadata": {
        "id": "u2lKy1uPOZ8W",
        "colab_type": "code",
        "outputId": "23fcea01-b40b-40bb-f492-54698c6fd2ea",
        "colab": {
          "base_uri": "https://localhost:8080/",
          "height": 225
        }
      },
      "cell_type": "code",
      "source": [
        "test_pred = pd.DataFrame(model.predict(test_data), columns=['Survived'])\n",
        "test_pred['Survived'] = test_pred['Survived'] >0.292 \n",
        "test_pred.Survived = test_pred.Survived.astype(int)\n",
        "test_pred.head()"
      ],
      "execution_count": 0,
      "outputs": [
        {
          "output_type": "execute_result",
          "data": {
            "text/html": [
              "<div>\n",
              "<style scoped>\n",
              "    .dataframe tbody tr th:only-of-type {\n",
              "        vertical-align: middle;\n",
              "    }\n",
              "\n",
              "    .dataframe tbody tr th {\n",
              "        vertical-align: top;\n",
              "    }\n",
              "\n",
              "    .dataframe thead th {\n",
              "        text-align: right;\n",
              "    }\n",
              "</style>\n",
              "<table border=\"1\" class=\"dataframe\">\n",
              "  <thead>\n",
              "    <tr style=\"text-align: right;\">\n",
              "      <th></th>\n",
              "      <th>Survived</th>\n",
              "    </tr>\n",
              "    <tr>\n",
              "      <th>PassengerId</th>\n",
              "      <th></th>\n",
              "    </tr>\n",
              "  </thead>\n",
              "  <tbody>\n",
              "    <tr>\n",
              "      <th>892</th>\n",
              "      <td>0</td>\n",
              "    </tr>\n",
              "    <tr>\n",
              "      <th>893</th>\n",
              "      <td>1</td>\n",
              "    </tr>\n",
              "    <tr>\n",
              "      <th>894</th>\n",
              "      <td>0</td>\n",
              "    </tr>\n",
              "    <tr>\n",
              "      <th>895</th>\n",
              "      <td>0</td>\n",
              "    </tr>\n",
              "    <tr>\n",
              "      <th>896</th>\n",
              "      <td>1</td>\n",
              "    </tr>\n",
              "  </tbody>\n",
              "</table>\n",
              "</div>"
            ],
            "text/plain": [
              "             Survived\n",
              "PassengerId          \n",
              "892                 0\n",
              "893                 1\n",
              "894                 0\n",
              "895                 0\n",
              "896                 1"
            ]
          },
          "metadata": {
            "tags": []
          },
          "execution_count": 114
        }
      ]
    },
    {
      "metadata": {
        "id": "5l_DEu-quBJU",
        "colab_type": "code",
        "colab": {}
      },
      "cell_type": "code",
      "source": [
        "test_pred.to_csv('test_logistic.csv')"
      ],
      "execution_count": 0,
      "outputs": []
    },
    {
      "metadata": {
        "id": "v5a1z3bxGN0b",
        "colab_type": "code",
        "colab": {}
      },
      "cell_type": "code",
      "source": [
        "#VIF\n",
        "\n",
        "def make_vif(form, data=train_xy):\n",
        "  vif_list = [i for i in form.params.index[1: ] if 'C(']"
      ],
      "execution_count": 0,
      "outputs": []
    },
    {
      "metadata": {
        "id": "eitWowgiF7-b",
        "colab_type": "text"
      },
      "cell_type": "markdown",
      "source": [
        "# SVM"
      ]
    },
    {
      "metadata": {
        "id": "bp07sBqwtJ2m",
        "colab_type": "code",
        "outputId": "561c2612-8797-48e5-a444-b05a0b14d711",
        "colab": {
          "base_uri": "https://localhost:8080/",
          "height": 330
        }
      },
      "cell_type": "code",
      "source": [
        "##SVM\n",
        "from sklearn.svm import SVC\n",
        "from sklearn.model_selection import GridSearchCV, RandomizedSearchCV\n",
        "\n",
        "\n",
        "# grid search\n",
        "\n",
        "def svc_param_selection(X, y, nfolds):\n",
        "    print('Hyparameter Tuning using Grid SEarch')\n",
        "    kernels =['linear', 'rbf']\n",
        "    Cs = [ 0.01, 0.03, 0.1, 0.3, 1, 3, 10,  ]\n",
        "    gammas = [0.001, 0.01, 0.03, 0.1, 0.3, 1, 'auto']\n",
        "    param_grid = {'C': Cs, 'gamma' : gammas, 'kernel': kernels}\n",
        "    grid_search = GridSearchCV(SVC(kernel='rbf'), param_grid, cv=nfolds, verbose=1, n_jobs=-1, scoring='accuracy')\n",
        "    grid_search.fit(X, y)\n",
        "    grid_search.best_params_\n",
        "    return grid_search\n",
        "  \n",
        "\n",
        "grid_search = svc_param_selection(train_data_xgb, train_data['Survived'], nfolds=5)\n",
        "print('Best Parameters: ', grid_search.best_params_)\n",
        "\n",
        "print('#####################################\\n')\n",
        "\n",
        "\n",
        "svm_clf = grid_search.best_estimator_\n",
        "\n",
        "pd.DataFrame.from_dict(grid_search.cv_results_)[['mean_test_score', 'std_test_score', 'mean_train_score']].sort_values(by='mean_test_score', ascending=False).head()*100\n",
        "\n",
        "# print('#####################################\\n')\n",
        "# print('Train_Accuracy: ', np.round(svm_clf.score(x_train, y_train)*100,2), ' %')\n",
        "# print('Validation_Accuracy: ', np.round(svm_clf.score(x_vali, y_vali)*100,2), ' %')\n",
        "\n",
        "\n",
        "# print('\\nTrain ROC AUC: ', metrics.roc_auc_score(y_train, svm_clf.predict_proba(x_train)[:,1]), \\\n",
        "#       '|| Validation ROC AUC: ', metrics.roc_auc_score(y_vali, svm_clf.predict_proba(x_vali)[:, 1]))"
      ],
      "execution_count": 0,
      "outputs": [
        {
          "output_type": "stream",
          "text": [
            "Hyparameter Tuning using Grid SEarch\n",
            "Fitting 5 folds for each of 98 candidates, totalling 490 fits\n"
          ],
          "name": "stdout"
        },
        {
          "output_type": "stream",
          "text": [
            "[Parallel(n_jobs=-1)]: Done 288 tasks      | elapsed:   16.4s\n",
            "[Parallel(n_jobs=-1)]: Done 462 tasks      | elapsed:  2.9min\n",
            "[Parallel(n_jobs=-1)]: Done 490 out of 490 | elapsed:  3.9min finished\n"
          ],
          "name": "stderr"
        },
        {
          "output_type": "stream",
          "text": [
            "Best Parameters:  {'C': 10, 'gamma': 0.001, 'kernel': 'linear'}\n",
            "#####################################\n",
            "\n"
          ],
          "name": "stdout"
        },
        {
          "output_type": "execute_result",
          "data": {
            "text/html": [
              "<div>\n",
              "<style scoped>\n",
              "    .dataframe tbody tr th:only-of-type {\n",
              "        vertical-align: middle;\n",
              "    }\n",
              "\n",
              "    .dataframe tbody tr th {\n",
              "        vertical-align: top;\n",
              "    }\n",
              "\n",
              "    .dataframe thead th {\n",
              "        text-align: right;\n",
              "    }\n",
              "</style>\n",
              "<table border=\"1\" class=\"dataframe\">\n",
              "  <thead>\n",
              "    <tr style=\"text-align: right;\">\n",
              "      <th></th>\n",
              "      <th>mean_test_score</th>\n",
              "      <th>std_test_score</th>\n",
              "      <th>mean_train_score</th>\n",
              "    </tr>\n",
              "  </thead>\n",
              "  <tbody>\n",
              "    <tr>\n",
              "      <th>96</th>\n",
              "      <td>82.940516</td>\n",
              "      <td>2.315869</td>\n",
              "      <td>82.800819</td>\n",
              "    </tr>\n",
              "    <tr>\n",
              "      <th>94</th>\n",
              "      <td>82.940516</td>\n",
              "      <td>2.315869</td>\n",
              "      <td>82.800819</td>\n",
              "    </tr>\n",
              "    <tr>\n",
              "      <th>92</th>\n",
              "      <td>82.940516</td>\n",
              "      <td>2.315869</td>\n",
              "      <td>82.800819</td>\n",
              "    </tr>\n",
              "    <tr>\n",
              "      <th>90</th>\n",
              "      <td>82.940516</td>\n",
              "      <td>2.315869</td>\n",
              "      <td>82.800819</td>\n",
              "    </tr>\n",
              "    <tr>\n",
              "      <th>88</th>\n",
              "      <td>82.940516</td>\n",
              "      <td>2.315869</td>\n",
              "      <td>82.800819</td>\n",
              "    </tr>\n",
              "  </tbody>\n",
              "</table>\n",
              "</div>"
            ],
            "text/plain": [
              "    mean_test_score  std_test_score  mean_train_score\n",
              "96        82.940516        2.315869         82.800819\n",
              "94        82.940516        2.315869         82.800819\n",
              "92        82.940516        2.315869         82.800819\n",
              "90        82.940516        2.315869         82.800819\n",
              "88        82.940516        2.315869         82.800819"
            ]
          },
          "metadata": {
            "tags": []
          },
          "execution_count": 83
        }
      ]
    },
    {
      "metadata": {
        "id": "ksvCJ1N4DnJP",
        "colab_type": "code",
        "outputId": "fb516a4d-7699-451f-9fba-cd33afcdd20d",
        "colab": {
          "base_uri": "https://localhost:8080/",
          "height": 84
        }
      },
      "cell_type": "code",
      "source": [
        "svm_clf"
      ],
      "execution_count": 0,
      "outputs": [
        {
          "output_type": "execute_result",
          "data": {
            "text/plain": [
              "SVC(C=1, cache_size=200, class_weight=None, coef0=0.0,\n",
              "  decision_function_shape='ovr', degree=3, gamma=0.01, kernel='rbf',\n",
              "  max_iter=-1, probability=False, random_state=None, shrinking=True,\n",
              "  tol=0.001, verbose=False)"
            ]
          },
          "metadata": {
            "tags": []
          },
          "execution_count": 254
        }
      ]
    },
    {
      "metadata": {
        "id": "X8C2Yxierd0N",
        "colab_type": "code",
        "outputId": "791511b1-2669-429a-e35f-e22ad5b2069c",
        "colab": {
          "base_uri": "https://localhost:8080/",
          "height": 225
        }
      },
      "cell_type": "code",
      "source": [
        "test_pred = pd.DataFrame(svm_clf.predict(test_data[train_data_xgb.columns]), columns=['Survived'])\n",
        "test_pred['PassengerId'] = test_data.index\n",
        "test_submit_svm = test_pred.copy(deep=True)\n",
        "test_submit_svm = test_submit_svm[['PassengerId', 'Survived']]\n",
        "test_submit_svm = test_submit_svm.set_index('PassengerId')\n",
        "test_submit_svm.head()"
      ],
      "execution_count": 0,
      "outputs": [
        {
          "output_type": "execute_result",
          "data": {
            "text/html": [
              "<div>\n",
              "<style scoped>\n",
              "    .dataframe tbody tr th:only-of-type {\n",
              "        vertical-align: middle;\n",
              "    }\n",
              "\n",
              "    .dataframe tbody tr th {\n",
              "        vertical-align: top;\n",
              "    }\n",
              "\n",
              "    .dataframe thead th {\n",
              "        text-align: right;\n",
              "    }\n",
              "</style>\n",
              "<table border=\"1\" class=\"dataframe\">\n",
              "  <thead>\n",
              "    <tr style=\"text-align: right;\">\n",
              "      <th></th>\n",
              "      <th>Survived</th>\n",
              "    </tr>\n",
              "    <tr>\n",
              "      <th>PassengerId</th>\n",
              "      <th></th>\n",
              "    </tr>\n",
              "  </thead>\n",
              "  <tbody>\n",
              "    <tr>\n",
              "      <th>892</th>\n",
              "      <td>0</td>\n",
              "    </tr>\n",
              "    <tr>\n",
              "      <th>893</th>\n",
              "      <td>1</td>\n",
              "    </tr>\n",
              "    <tr>\n",
              "      <th>894</th>\n",
              "      <td>0</td>\n",
              "    </tr>\n",
              "    <tr>\n",
              "      <th>895</th>\n",
              "      <td>0</td>\n",
              "    </tr>\n",
              "    <tr>\n",
              "      <th>896</th>\n",
              "      <td>1</td>\n",
              "    </tr>\n",
              "  </tbody>\n",
              "</table>\n",
              "</div>"
            ],
            "text/plain": [
              "             Survived\n",
              "PassengerId          \n",
              "892                 0\n",
              "893                 1\n",
              "894                 0\n",
              "895                 0\n",
              "896                 1"
            ]
          },
          "metadata": {
            "tags": []
          },
          "execution_count": 85
        }
      ]
    },
    {
      "metadata": {
        "id": "YvOJdQwPRCt5",
        "colab_type": "code",
        "colab": {}
      },
      "cell_type": "code",
      "source": [
        "test_submit_svm.to_csv('test_svm_8.csv')"
      ],
      "execution_count": 0,
      "outputs": []
    },
    {
      "metadata": {
        "id": "BEYBgEHZcO9o",
        "colab_type": "text"
      },
      "cell_type": "markdown",
      "source": [
        "# Random Forests"
      ]
    },
    {
      "metadata": {
        "id": "hButTfULS3jA",
        "colab_type": "code",
        "outputId": "6d25ce17-4923-4086-a4a2-47762d9ec1b6",
        "colab": {
          "base_uri": "https://localhost:8080/",
          "height": 316
        }
      },
      "cell_type": "code",
      "source": [
        "from sklearn.ensemble import RandomForestClassifier\n",
        "from sklearn.model_selection import GridSearchCV\n",
        "import warnings\n",
        "warnings.filterwarnings('ignore')\n",
        "\n",
        "# Create the parameter grid based on the results of random search \n",
        "param_grid = {\n",
        "    'bootstrap': [True],\n",
        "    'criterion' :['entropy', 'gini'],\n",
        "    'max_depth': [3,5,8,10],\n",
        "    'max_features': ['auto', 'log2'],\n",
        "#     'min_samples_leaf': [3, 4, 5],\n",
        "    'min_samples_split': [5,10,15],\n",
        "    'n_estimators': [10,  25, 50, 100, 200]\n",
        "}\n",
        "# Create a based model\n",
        "random_forest = RandomForestClassifier()\n",
        "# Instantiate the grid search model\n",
        "grid_search = GridSearchCV(estimator = random_forest, param_grid = param_grid, \n",
        "                          cv = 5, n_jobs = -1, verbose = 1, scoring='accuracy')\n",
        "\n",
        "\n",
        "# Fit the grid search to the data\n",
        "train_data_xgb = train_data.drop(columns=['Survived', 'is_alone', 'Parch_2'])\n",
        "grid_search.fit(train_data_xgb, train_data.iloc[:,0])\n",
        "best_params_rf = grid_search.best_params_\n",
        "random_forest = grid_search.best_estimator_\n",
        "best_score = grid_search.best_score_\n",
        "print('Best Parameters: ', best_params_rf)\n",
        "\n",
        "pd.DataFrame.from_dict(grid_search.cv_results_)[['mean_test_score', 'std_test_score', 'mean_train_score']].sort_values(by='mean_test_score', ascending=False).head()*100\n",
        "# grid_search.cv_results_['mean_test_score'], grid_search.cv_results_['std_test_score']\n",
        "# print('#####################################\\n')\n",
        "# print('Train_Accuracy: ', np.round(random_forest.score(x_train, y_train)*100,2), ' %')\n",
        "# print('Validation_Accuracy: ', np.round(random_forest.score(x_vali, y_vali)*100,2), ' %')\n",
        "\n",
        "\n",
        "# print('\\nTrain ROC AUC: ', metrics.roc_auc_score(y_train, random_forest.predict_proba(x_train)[:,1]), \\\n",
        "#       '|| Validation ROC AUC: ', metrics.roc_auc_score(y_vali, random_forest.predict_proba(x_vali)[:, 1]))"
      ],
      "execution_count": 0,
      "outputs": [
        {
          "output_type": "stream",
          "text": [
            "Fitting 5 folds for each of 240 candidates, totalling 1200 fits\n"
          ],
          "name": "stdout"
        },
        {
          "output_type": "stream",
          "text": [
            "[Parallel(n_jobs=-1)]: Done 172 tasks      | elapsed:   14.6s\n",
            "[Parallel(n_jobs=-1)]: Done 472 tasks      | elapsed:   43.5s\n",
            "[Parallel(n_jobs=-1)]: Done 972 tasks      | elapsed:  1.5min\n"
          ],
          "name": "stderr"
        },
        {
          "output_type": "stream",
          "text": [
            "Best Parameters:  {'bootstrap': True, 'criterion': 'entropy', 'max_depth': 5, 'max_features': 'auto', 'min_samples_split': 10, 'n_estimators': 10}\n"
          ],
          "name": "stdout"
        },
        {
          "output_type": "stream",
          "text": [
            "[Parallel(n_jobs=-1)]: Done 1200 out of 1200 | elapsed:  1.9min finished\n"
          ],
          "name": "stderr"
        },
        {
          "output_type": "execute_result",
          "data": {
            "text/html": [
              "<div>\n",
              "<style scoped>\n",
              "    .dataframe tbody tr th:only-of-type {\n",
              "        vertical-align: middle;\n",
              "    }\n",
              "\n",
              "    .dataframe tbody tr th {\n",
              "        vertical-align: top;\n",
              "    }\n",
              "\n",
              "    .dataframe thead th {\n",
              "        text-align: right;\n",
              "    }\n",
              "</style>\n",
              "<table border=\"1\" class=\"dataframe\">\n",
              "  <thead>\n",
              "    <tr style=\"text-align: right;\">\n",
              "      <th></th>\n",
              "      <th>mean_test_score</th>\n",
              "      <th>std_test_score</th>\n",
              "      <th>mean_train_score</th>\n",
              "    </tr>\n",
              "  </thead>\n",
              "  <tbody>\n",
              "    <tr>\n",
              "      <th>35</th>\n",
              "      <td>83.613917</td>\n",
              "      <td>1.866546</td>\n",
              "      <td>84.877188</td>\n",
              "    </tr>\n",
              "    <tr>\n",
              "      <th>26</th>\n",
              "      <td>83.389450</td>\n",
              "      <td>1.753960</td>\n",
              "      <td>83.417694</td>\n",
              "    </tr>\n",
              "    <tr>\n",
              "      <th>42</th>\n",
              "      <td>83.164983</td>\n",
              "      <td>1.668700</td>\n",
              "      <td>84.932856</td>\n",
              "    </tr>\n",
              "    <tr>\n",
              "      <th>173</th>\n",
              "      <td>83.164983</td>\n",
              "      <td>1.812778</td>\n",
              "      <td>85.382136</td>\n",
              "    </tr>\n",
              "    <tr>\n",
              "      <th>37</th>\n",
              "      <td>83.164983</td>\n",
              "      <td>2.034789</td>\n",
              "      <td>85.017401</td>\n",
              "    </tr>\n",
              "  </tbody>\n",
              "</table>\n",
              "</div>"
            ],
            "text/plain": [
              "     mean_test_score  std_test_score  mean_train_score\n",
              "35         83.613917        1.866546         84.877188\n",
              "26         83.389450        1.753960         83.417694\n",
              "42         83.164983        1.668700         84.932856\n",
              "173        83.164983        1.812778         85.382136\n",
              "37         83.164983        2.034789         85.017401"
            ]
          },
          "metadata": {
            "tags": []
          },
          "execution_count": 79
        }
      ]
    },
    {
      "metadata": {
        "id": "IMAKJ2oJ6ao8",
        "colab_type": "code",
        "outputId": "454d7b13-1464-457b-da73-f548129dbea4",
        "colab": {
          "base_uri": "https://localhost:8080/",
          "height": 282
        }
      },
      "cell_type": "code",
      "source": [
        "features = train_data_xgb.columns\n",
        "importances = random_forest.feature_importances_\n",
        "imp_df = pd.DataFrame()\n",
        "imp_df['Feature'] = features\n",
        "imp_df['Importance'] = np.round(importances*100,1)\n",
        "imp_df.sort_values(by='Importance', ascending=1).set_index('Feature').plot(kind='barh', color='k')"
      ],
      "execution_count": 0,
      "outputs": [
        {
          "output_type": "execute_result",
          "data": {
            "text/plain": [
              "<matplotlib.axes._subplots.AxesSubplot at 0x7f26c3f8b860>"
            ]
          },
          "metadata": {
            "tags": []
          },
          "execution_count": 80
        },
        {
          "output_type": "display_data",
          "data": {
            "image/png": "[encoded data removed]",
            "text/plain": [
              "<matplotlib.figure.Figure at 0x7f26b959d860>"
            ]
          },
          "metadata": {
            "tags": []
          }
        }
      ]
    },
    {
      "metadata": {
        "id": "x0fLceg0csX4",
        "colab_type": "code",
        "outputId": "ede540a8-7b2f-46f9-c3c0-c555517ae2eb",
        "colab": {
          "base_uri": "https://localhost:8080/",
          "height": 225
        }
      },
      "cell_type": "code",
      "source": [
        "test_pred = pd.DataFrame(random_forest.predict(test_data[train_data_xgb.columns]), columns=['Survived'])\n",
        "test_pred['PassengerId'] = test_data.index\n",
        "test_submit_rf = test_pred.copy(deep=True)\n",
        "test_submit_rf = test_submit_rf[['PassengerId', 'Survived']]\n",
        "# test_submit_svm = test_submit_svm.reset_index()\n",
        "test_submit_rf = test_submit_rf.set_index('PassengerId')\n",
        "test_submit_rf.head()"
      ],
      "execution_count": 0,
      "outputs": [
        {
          "output_type": "execute_result",
          "data": {
            "text/html": [
              "<div>\n",
              "<style scoped>\n",
              "    .dataframe tbody tr th:only-of-type {\n",
              "        vertical-align: middle;\n",
              "    }\n",
              "\n",
              "    .dataframe tbody tr th {\n",
              "        vertical-align: top;\n",
              "    }\n",
              "\n",
              "    .dataframe thead th {\n",
              "        text-align: right;\n",
              "    }\n",
              "</style>\n",
              "<table border=\"1\" class=\"dataframe\">\n",
              "  <thead>\n",
              "    <tr style=\"text-align: right;\">\n",
              "      <th></th>\n",
              "      <th>Survived</th>\n",
              "    </tr>\n",
              "    <tr>\n",
              "      <th>PassengerId</th>\n",
              "      <th></th>\n",
              "    </tr>\n",
              "  </thead>\n",
              "  <tbody>\n",
              "    <tr>\n",
              "      <th>892</th>\n",
              "      <td>0</td>\n",
              "    </tr>\n",
              "    <tr>\n",
              "      <th>893</th>\n",
              "      <td>1</td>\n",
              "    </tr>\n",
              "    <tr>\n",
              "      <th>894</th>\n",
              "      <td>0</td>\n",
              "    </tr>\n",
              "    <tr>\n",
              "      <th>895</th>\n",
              "      <td>0</td>\n",
              "    </tr>\n",
              "    <tr>\n",
              "      <th>896</th>\n",
              "      <td>1</td>\n",
              "    </tr>\n",
              "  </tbody>\n",
              "</table>\n",
              "</div>"
            ],
            "text/plain": [
              "             Survived\n",
              "PassengerId          \n",
              "892                 0\n",
              "893                 1\n",
              "894                 0\n",
              "895                 0\n",
              "896                 1"
            ]
          },
          "metadata": {
            "tags": []
          },
          "execution_count": 77
        }
      ]
    },
    {
      "metadata": {
        "id": "z8ua-esGgHou",
        "colab_type": "code",
        "colab": {}
      },
      "cell_type": "code",
      "source": [
        "test_submit_rf.to_csv('test_rf_8.csv')"
      ],
      "execution_count": 0,
      "outputs": []
    },
    {
      "metadata": {
        "id": "Clp0l_qVEBXg",
        "colab_type": "text"
      },
      "cell_type": "markdown",
      "source": [
        "# XgBoost"
      ]
    },
    {
      "metadata": {
        "id": "KMJC6qIfgbwK",
        "colab_type": "code",
        "outputId": "e8218f50-767e-4cad-8da2-863763a727ef",
        "colab": {
          "base_uri": "https://localhost:8080/",
          "height": 1086
        }
      },
      "cell_type": "code",
      "source": [
        "import xgboost\n",
        "\n",
        "# Create the parameter grid based on the results of random search \n",
        "param_grid = {\n",
        "#     'bootstrap': [True],\n",
        "#     'criterion' :['entropy', 'gini'],\n",
        "#     'max_depth': [3,5,10,],\n",
        "#     'colsample_bytree' :[0.6, 0.8, 1.0],\n",
        "#     'learning_rate': [0.01, 0.03, 0.1],\n",
        "#     'max_features': ['auto', 'sqrt', 'log2'],\n",
        "#     'min_samples_leaf': [3, 4, 5],\n",
        "#     'min_samples_split': [8, 10, 12],\n",
        "    'n_estimators': [ 25, 50, 100],\n",
        "    'gamma': [0,1,],\n",
        "}\n",
        "# Create a based model\n",
        "xgb = xgboost.XGBClassifier(n_jobs=-1, random_state=5, )\n",
        "# Instantiate the grid search model\n",
        "grid_search = GridSearchCV(estimator = xgb, param_grid = param_grid, \n",
        "                          cv = 5, n_jobs = -1, verbose = 1, )\n",
        "\n",
        "\n",
        "# Fit the grid search to the data\n",
        "train_data_xgb = train_data.drop(columns=['Survived', ])\n",
        "train_x = np.array(train_data_xgb)\n",
        "print(train_x.shape)\n",
        "grid_search.fit(train_x, train_data['Survived'])\n",
        "best_params_xgb = grid_search.best_params_\n",
        "xgb = grid_search.best_estimator_\n",
        "best_score = grid_search.best_score_\n",
        "print('Best Parameters: ', best_params_xgb)\n",
        "\n",
        "pd.DataFrame.from_dict(grid_search.cv_results_)[['mean_test_score', 'std_test_score', 'mean_train_score']].sort_values(by='mean_test_score', ascending=False).head()*100"
      ],
      "execution_count": 0,
      "outputs": [
        {
          "output_type": "stream",
          "text": [
            "(891, 15)\n",
            "Fitting 5 folds for each of 6 candidates, totalling 30 fits\n"
          ],
          "name": "stdout"
        },
        {
          "output_type": "error",
          "ename": "KeyboardInterrupt",
          "evalue": "ignored",
          "traceback": [
            "\u001b[0;31m---------------------------------------------------------------------------\u001b[0m",
            "\u001b[0;31mKeyboardInterrupt\u001b[0m                         Traceback (most recent call last)",
            "\u001b[0;32m<ipython-input-74-cf940249e0ba>\u001b[0m in \u001b[0;36m<module>\u001b[0;34m()\u001b[0m\n\u001b[1;32m     25\u001b[0m \u001b[0mtrain_x\u001b[0m \u001b[0;34m=\u001b[0m \u001b[0mnp\u001b[0m\u001b[0;34m.\u001b[0m\u001b[0marray\u001b[0m\u001b[0;34m(\u001b[0m\u001b[0mtrain_data_xgb\u001b[0m\u001b[0;34m)\u001b[0m\u001b[0;34m\u001b[0m\u001b[0;34m\u001b[0m\u001b[0m\n\u001b[1;32m     26\u001b[0m \u001b[0mprint\u001b[0m\u001b[0;34m(\u001b[0m\u001b[0mtrain_x\u001b[0m\u001b[0;34m.\u001b[0m\u001b[0mshape\u001b[0m\u001b[0;34m)\u001b[0m\u001b[0;34m\u001b[0m\u001b[0;34m\u001b[0m\u001b[0m\n\u001b[0;32m---> 27\u001b[0;31m \u001b[0mgrid_search\u001b[0m\u001b[0;34m.\u001b[0m\u001b[0mfit\u001b[0m\u001b[0;34m(\u001b[0m\u001b[0mtrain_x\u001b[0m\u001b[0;34m,\u001b[0m \u001b[0mtrain_data\u001b[0m\u001b[0;34m[\u001b[0m\u001b[0;34m'Survived'\u001b[0m\u001b[0;34m]\u001b[0m\u001b[0;34m)\u001b[0m\u001b[0;34m\u001b[0m\u001b[0;34m\u001b[0m\u001b[0m\n\u001b[0m\u001b[1;32m     28\u001b[0m \u001b[0mbest_params_xgb\u001b[0m \u001b[0;34m=\u001b[0m \u001b[0mgrid_search\u001b[0m\u001b[0;34m.\u001b[0m\u001b[0mbest_params_\u001b[0m\u001b[0;34m\u001b[0m\u001b[0;34m\u001b[0m\u001b[0m\n\u001b[1;32m     29\u001b[0m \u001b[0mxgb\u001b[0m \u001b[0;34m=\u001b[0m \u001b[0mgrid_search\u001b[0m\u001b[0;34m.\u001b[0m\u001b[0mbest_estimator_\u001b[0m\u001b[0;34m\u001b[0m\u001b[0;34m\u001b[0m\u001b[0m\n",
            "\u001b[0;32m/usr/local/lib/python3.6/dist-packages/sklearn/model_selection/_search.py\u001b[0m in \u001b[0;36mfit\u001b[0;34m(self, X, y, groups, **fit_params)\u001b[0m\n\u001b[1;32m    638\u001b[0m                                   error_score=self.error_score)\n\u001b[1;32m    639\u001b[0m           for parameters, (train, test) in product(candidate_params,\n\u001b[0;32m--> 640\u001b[0;31m                                                    cv.split(X, y, groups)))\n\u001b[0m\u001b[1;32m    641\u001b[0m \u001b[0;34m\u001b[0m\u001b[0m\n\u001b[1;32m    642\u001b[0m         \u001b[0;31m# if one choose to see train score, \"out\" will contain train score info\u001b[0m\u001b[0;34m\u001b[0m\u001b[0;34m\u001b[0m\u001b[0;34m\u001b[0m\u001b[0m\n",
            "\u001b[0;32m/usr/local/lib/python3.6/dist-packages/sklearn/externals/joblib/parallel.py\u001b[0m in \u001b[0;36m__call__\u001b[0;34m(self, iterable)\u001b[0m\n\u001b[1;32m    787\u001b[0m                 \u001b[0;31m# consumption.\u001b[0m\u001b[0;34m\u001b[0m\u001b[0;34m\u001b[0m\u001b[0;34m\u001b[0m\u001b[0m\n\u001b[1;32m    788\u001b[0m                 \u001b[0mself\u001b[0m\u001b[0;34m.\u001b[0m\u001b[0m_iterating\u001b[0m \u001b[0;34m=\u001b[0m \u001b[0;32mFalse\u001b[0m\u001b[0;34m\u001b[0m\u001b[0;34m\u001b[0m\u001b[0m\n\u001b[0;32m--> 789\u001b[0;31m             \u001b[0mself\u001b[0m\u001b[0;34m.\u001b[0m\u001b[0mretrieve\u001b[0m\u001b[0;34m(\u001b[0m\u001b[0;34m)\u001b[0m\u001b[0;34m\u001b[0m\u001b[0;34m\u001b[0m\u001b[0m\n\u001b[0m\u001b[1;32m    790\u001b[0m             \u001b[0;31m# Make sure that we get a last message telling us we are done\u001b[0m\u001b[0;34m\u001b[0m\u001b[0;34m\u001b[0m\u001b[0;34m\u001b[0m\u001b[0m\n\u001b[1;32m    791\u001b[0m             \u001b[0melapsed_time\u001b[0m \u001b[0;34m=\u001b[0m \u001b[0mtime\u001b[0m\u001b[0;34m.\u001b[0m\u001b[0mtime\u001b[0m\u001b[0;34m(\u001b[0m\u001b[0;34m)\u001b[0m \u001b[0;34m-\u001b[0m \u001b[0mself\u001b[0m\u001b[0;34m.\u001b[0m\u001b[0m_start_time\u001b[0m\u001b[0;34m\u001b[0m\u001b[0;34m\u001b[0m\u001b[0m\n",
            "\u001b[0;32m/usr/local/lib/python3.6/dist-packages/sklearn/externals/joblib/parallel.py\u001b[0m in \u001b[0;36mretrieve\u001b[0;34m(self)\u001b[0m\n\u001b[1;32m    697\u001b[0m             \u001b[0;32mtry\u001b[0m\u001b[0;34m:\u001b[0m\u001b[0;34m\u001b[0m\u001b[0;34m\u001b[0m\u001b[0m\n\u001b[1;32m    698\u001b[0m                 \u001b[0;32mif\u001b[0m \u001b[0mgetattr\u001b[0m\u001b[0;34m(\u001b[0m\u001b[0mself\u001b[0m\u001b[0;34m.\u001b[0m\u001b[0m_backend\u001b[0m\u001b[0;34m,\u001b[0m \u001b[0;34m'supports_timeout'\u001b[0m\u001b[0;34m,\u001b[0m \u001b[0;32mFalse\u001b[0m\u001b[0;34m)\u001b[0m\u001b[0;34m:\u001b[0m\u001b[0;34m\u001b[0m\u001b[0;34m\u001b[0m\u001b[0m\n\u001b[0;32m--> 699\u001b[0;31m                     \u001b[0mself\u001b[0m\u001b[0;34m.\u001b[0m\u001b[0m_output\u001b[0m\u001b[0;34m.\u001b[0m\u001b[0mextend\u001b[0m\u001b[0;34m(\u001b[0m\u001b[0mjob\u001b[0m\u001b[0;34m.\u001b[0m\u001b[0mget\u001b[0m\u001b[0;34m(\u001b[0m\u001b[0mtimeout\u001b[0m\u001b[0;34m=\u001b[0m\u001b[0mself\u001b[0m\u001b[0;34m.\u001b[0m\u001b[0mtimeout\u001b[0m\u001b[0;34m)\u001b[0m\u001b[0;34m)\u001b[0m\u001b[0;34m\u001b[0m\u001b[0;34m\u001b[0m\u001b[0m\n\u001b[0m\u001b[1;32m    700\u001b[0m                 \u001b[0;32melse\u001b[0m\u001b[0;34m:\u001b[0m\u001b[0;34m\u001b[0m\u001b[0;34m\u001b[0m\u001b[0m\n\u001b[1;32m    701\u001b[0m                     \u001b[0mself\u001b[0m\u001b[0;34m.\u001b[0m\u001b[0m_output\u001b[0m\u001b[0;34m.\u001b[0m\u001b[0mextend\u001b[0m\u001b[0;34m(\u001b[0m\u001b[0mjob\u001b[0m\u001b[0;34m.\u001b[0m\u001b[0mget\u001b[0m\u001b[0;34m(\u001b[0m\u001b[0;34m)\u001b[0m\u001b[0;34m)\u001b[0m\u001b[0;34m\u001b[0m\u001b[0;34m\u001b[0m\u001b[0m\n",
            "\u001b[0;32m/usr/lib/python3.6/multiprocessing/pool.py\u001b[0m in \u001b[0;36mget\u001b[0;34m(self, timeout)\u001b[0m\n\u001b[1;32m    662\u001b[0m \u001b[0;34m\u001b[0m\u001b[0m\n\u001b[1;32m    663\u001b[0m     \u001b[0;32mdef\u001b[0m \u001b[0mget\u001b[0m\u001b[0;34m(\u001b[0m\u001b[0mself\u001b[0m\u001b[0;34m,\u001b[0m \u001b[0mtimeout\u001b[0m\u001b[0;34m=\u001b[0m\u001b[0;32mNone\u001b[0m\u001b[0;34m)\u001b[0m\u001b[0;34m:\u001b[0m\u001b[0;34m\u001b[0m\u001b[0;34m\u001b[0m\u001b[0m\n\u001b[0;32m--> 664\u001b[0;31m         \u001b[0mself\u001b[0m\u001b[0;34m.\u001b[0m\u001b[0mwait\u001b[0m\u001b[0;34m(\u001b[0m\u001b[0mtimeout\u001b[0m\u001b[0;34m)\u001b[0m\u001b[0;34m\u001b[0m\u001b[0;34m\u001b[0m\u001b[0m\n\u001b[0m\u001b[1;32m    665\u001b[0m         \u001b[0;32mif\u001b[0m \u001b[0;32mnot\u001b[0m \u001b[0mself\u001b[0m\u001b[0;34m.\u001b[0m\u001b[0mready\u001b[0m\u001b[0;34m(\u001b[0m\u001b[0;34m)\u001b[0m\u001b[0;34m:\u001b[0m\u001b[0;34m\u001b[0m\u001b[0;34m\u001b[0m\u001b[0m\n\u001b[1;32m    666\u001b[0m             \u001b[0;32mraise\u001b[0m \u001b[0mTimeoutError\u001b[0m\u001b[0;34m\u001b[0m\u001b[0;34m\u001b[0m\u001b[0m\n",
            "\u001b[0;32m/usr/lib/python3.6/multiprocessing/pool.py\u001b[0m in \u001b[0;36mwait\u001b[0;34m(self, timeout)\u001b[0m\n\u001b[1;32m    659\u001b[0m \u001b[0;34m\u001b[0m\u001b[0m\n\u001b[1;32m    660\u001b[0m     \u001b[0;32mdef\u001b[0m \u001b[0mwait\u001b[0m\u001b[0;34m(\u001b[0m\u001b[0mself\u001b[0m\u001b[0;34m,\u001b[0m \u001b[0mtimeout\u001b[0m\u001b[0;34m=\u001b[0m\u001b[0;32mNone\u001b[0m\u001b[0;34m)\u001b[0m\u001b[0;34m:\u001b[0m\u001b[0;34m\u001b[0m\u001b[0;34m\u001b[0m\u001b[0m\n\u001b[0;32m--> 661\u001b[0;31m         \u001b[0mself\u001b[0m\u001b[0;34m.\u001b[0m\u001b[0m_event\u001b[0m\u001b[0;34m.\u001b[0m\u001b[0mwait\u001b[0m\u001b[0;34m(\u001b[0m\u001b[0mtimeout\u001b[0m\u001b[0;34m)\u001b[0m\u001b[0;34m\u001b[0m\u001b[0;34m\u001b[0m\u001b[0m\n\u001b[0m\u001b[1;32m    662\u001b[0m \u001b[0;34m\u001b[0m\u001b[0m\n\u001b[1;32m    663\u001b[0m     \u001b[0;32mdef\u001b[0m \u001b[0mget\u001b[0m\u001b[0;34m(\u001b[0m\u001b[0mself\u001b[0m\u001b[0;34m,\u001b[0m \u001b[0mtimeout\u001b[0m\u001b[0;34m=\u001b[0m\u001b[0;32mNone\u001b[0m\u001b[0;34m)\u001b[0m\u001b[0;34m:\u001b[0m\u001b[0;34m\u001b[0m\u001b[0;34m\u001b[0m\u001b[0m\n",
            "\u001b[0;32m/usr/lib/python3.6/threading.py\u001b[0m in \u001b[0;36mwait\u001b[0;34m(self, timeout)\u001b[0m\n\u001b[1;32m    549\u001b[0m             \u001b[0msignaled\u001b[0m \u001b[0;34m=\u001b[0m \u001b[0mself\u001b[0m\u001b[0;34m.\u001b[0m\u001b[0m_flag\u001b[0m\u001b[0;34m\u001b[0m\u001b[0;34m\u001b[0m\u001b[0m\n\u001b[1;32m    550\u001b[0m             \u001b[0;32mif\u001b[0m \u001b[0;32mnot\u001b[0m \u001b[0msignaled\u001b[0m\u001b[0;34m:\u001b[0m\u001b[0;34m\u001b[0m\u001b[0;34m\u001b[0m\u001b[0m\n\u001b[0;32m--> 551\u001b[0;31m                 \u001b[0msignaled\u001b[0m \u001b[0;34m=\u001b[0m \u001b[0mself\u001b[0m\u001b[0;34m.\u001b[0m\u001b[0m_cond\u001b[0m\u001b[0;34m.\u001b[0m\u001b[0mwait\u001b[0m\u001b[0;34m(\u001b[0m\u001b[0mtimeout\u001b[0m\u001b[0;34m)\u001b[0m\u001b[0;34m\u001b[0m\u001b[0;34m\u001b[0m\u001b[0m\n\u001b[0m\u001b[1;32m    552\u001b[0m             \u001b[0;32mreturn\u001b[0m \u001b[0msignaled\u001b[0m\u001b[0;34m\u001b[0m\u001b[0;34m\u001b[0m\u001b[0m\n\u001b[1;32m    553\u001b[0m \u001b[0;34m\u001b[0m\u001b[0m\n",
            "\u001b[0;32m/usr/lib/python3.6/threading.py\u001b[0m in \u001b[0;36mwait\u001b[0;34m(self, timeout)\u001b[0m\n\u001b[1;32m    293\u001b[0m         \u001b[0;32mtry\u001b[0m\u001b[0;34m:\u001b[0m    \u001b[0;31m# restore state no matter what (e.g., KeyboardInterrupt)\u001b[0m\u001b[0;34m\u001b[0m\u001b[0;34m\u001b[0m\u001b[0m\n\u001b[1;32m    294\u001b[0m             \u001b[0;32mif\u001b[0m \u001b[0mtimeout\u001b[0m \u001b[0;32mis\u001b[0m \u001b[0;32mNone\u001b[0m\u001b[0;34m:\u001b[0m\u001b[0;34m\u001b[0m\u001b[0;34m\u001b[0m\u001b[0m\n\u001b[0;32m--> 295\u001b[0;31m                 \u001b[0mwaiter\u001b[0m\u001b[0;34m.\u001b[0m\u001b[0macquire\u001b[0m\u001b[0;34m(\u001b[0m\u001b[0;34m)\u001b[0m\u001b[0;34m\u001b[0m\u001b[0;34m\u001b[0m\u001b[0m\n\u001b[0m\u001b[1;32m    296\u001b[0m                 \u001b[0mgotit\u001b[0m \u001b[0;34m=\u001b[0m \u001b[0;32mTrue\u001b[0m\u001b[0;34m\u001b[0m\u001b[0;34m\u001b[0m\u001b[0m\n\u001b[1;32m    297\u001b[0m             \u001b[0;32melse\u001b[0m\u001b[0;34m:\u001b[0m\u001b[0;34m\u001b[0m\u001b[0;34m\u001b[0m\u001b[0m\n",
            "\u001b[0;31mKeyboardInterrupt\u001b[0m: "
          ]
        }
      ]
    },
    {
      "metadata": {
        "id": "2F3gWRbgPyyP",
        "colab_type": "code",
        "outputId": "b6df149a-7a8f-45e4-a5b2-88fe582e84af",
        "colab": {
          "base_uri": "https://localhost:8080/",
          "height": 282
        }
      },
      "cell_type": "code",
      "source": [
        "features = train_data_xgb.columns\n",
        "importances = xgb.feature_importances_\n",
        "imp_df = pd.DataFrame()\n",
        "imp_df['Feature'] = features\n",
        "imp_df['Importance'] = np.round(importances*100,1)\n",
        "imp_df.sort_values(by='Importance', ascending=1).set_index('Feature').plot(kind='barh', color='k')"
      ],
      "execution_count": 0,
      "outputs": [
        {
          "output_type": "execute_result",
          "data": {
            "text/plain": [
              "<matplotlib.axes._subplots.AxesSubplot at 0x7fb151c77ac8>"
            ]
          },
          "metadata": {
            "tags": []
          },
          "execution_count": 318
        },
        {
          "output_type": "display_data",
          "data": {
            "image/png": "[encoded data removed]",
            "text/plain": [
              "<matplotlib.figure.Figure at 0x7fb154562940>"
            ]
          },
          "metadata": {
            "tags": []
          }
        }
      ]
    },
    {
      "metadata": {
        "id": "x7J4bxWtC9Co",
        "colab_type": "code",
        "outputId": "52f2dbba-cb4d-4575-b061-365ff498f731",
        "colab": {
          "base_uri": "https://localhost:8080/",
          "height": 225
        }
      },
      "cell_type": "code",
      "source": [
        "test_pred = pd.DataFrame(xgb.predict(np.array(test_data)), columns=['Survived'])\n",
        "test_pred['PassengerId'] = test_data.index\n",
        "test_submit_xgb = test_pred.copy(deep=True)\n",
        "test_submit_xgb = test_submit_xgb[['PassengerId', 'Survived']]\n",
        "# test_submit_svm = test_submit_svm.reset_index()\n",
        "test_submit_xgb = test_submit_xgb.set_index('PassengerId')\n",
        "test_submit_xgb.head()"
      ],
      "execution_count": 0,
      "outputs": [
        {
          "output_type": "execute_result",
          "data": {
            "text/html": [
              "<div>\n",
              "<style scoped>\n",
              "    .dataframe tbody tr th:only-of-type {\n",
              "        vertical-align: middle;\n",
              "    }\n",
              "\n",
              "    .dataframe tbody tr th {\n",
              "        vertical-align: top;\n",
              "    }\n",
              "\n",
              "    .dataframe thead th {\n",
              "        text-align: right;\n",
              "    }\n",
              "</style>\n",
              "<table border=\"1\" class=\"dataframe\">\n",
              "  <thead>\n",
              "    <tr style=\"text-align: right;\">\n",
              "      <th></th>\n",
              "      <th>Survived</th>\n",
              "    </tr>\n",
              "    <tr>\n",
              "      <th>PassengerId</th>\n",
              "      <th></th>\n",
              "    </tr>\n",
              "  </thead>\n",
              "  <tbody>\n",
              "    <tr>\n",
              "      <th>892</th>\n",
              "      <td>0</td>\n",
              "    </tr>\n",
              "    <tr>\n",
              "      <th>893</th>\n",
              "      <td>1</td>\n",
              "    </tr>\n",
              "    <tr>\n",
              "      <th>894</th>\n",
              "      <td>0</td>\n",
              "    </tr>\n",
              "    <tr>\n",
              "      <th>895</th>\n",
              "      <td>0</td>\n",
              "    </tr>\n",
              "    <tr>\n",
              "      <th>896</th>\n",
              "      <td>1</td>\n",
              "    </tr>\n",
              "  </tbody>\n",
              "</table>\n",
              "</div>"
            ],
            "text/plain": [
              "             Survived\n",
              "PassengerId          \n",
              "892                 0\n",
              "893                 1\n",
              "894                 0\n",
              "895                 0\n",
              "896                 1"
            ]
          },
          "metadata": {
            "tags": []
          },
          "execution_count": 271
        }
      ]
    },
    {
      "metadata": {
        "id": "VyRDF0slI08D",
        "colab_type": "code",
        "colab": {}
      },
      "cell_type": "code",
      "source": [
        "test_submit_xgb.to_csv('test_xgb.csv')"
      ],
      "execution_count": 0,
      "outputs": []
    },
    {
      "metadata": {
        "id": "UmCCTMJOzEA9",
        "colab_type": "text"
      },
      "cell_type": "markdown",
      "source": [
        "# Stacking"
      ]
    },
    {
      "metadata": {
        "id": "oVVj7dq0I6of",
        "colab_type": "code",
        "outputId": "0fa09c67-5a4a-4044-f01b-d0db0565e7d2",
        "colab": {
          "base_uri": "https://localhost:8080/",
          "height": 202
        }
      },
      "cell_type": "code",
      "source": [
        "logit_pred = test_pred.copy(deep=True)\n",
        "svm_pred = test_submit_svm.copy(deep=True)\n",
        "rf_pred = test_submit_rf.copy(deep=True)\n"
      ],
      "execution_count": 0,
      "outputs": [
        {
          "output_type": "execute_result",
          "data": {
            "text/plain": [
              "2     57\n",
              "10    44\n",
              "9     44\n",
              "5     44\n",
              "6     42\n",
              "7     41\n",
              "3     40\n",
              "1     39\n",
              "8     37\n",
              "4     30\n",
              "Name: Fare_bin, dtype: int64"
            ]
          },
          "metadata": {
            "tags": []
          },
          "execution_count": 34
        }
      ]
    },
    {
      "metadata": {
        "id": "nQTtJjimamr9",
        "colab_type": "code",
        "colab": {}
      },
      "cell_type": "code",
      "source": [
        ""
      ],
      "execution_count": 0,
      "outputs": []
    }
  ]
}